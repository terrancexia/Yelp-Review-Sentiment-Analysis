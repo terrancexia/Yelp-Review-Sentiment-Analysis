{
 "cells": [
  {
   "cell_type": "markdown",
   "metadata": {},
   "source": [
    "# Importing data and packages"
   ]
  },
  {
   "cell_type": "code",
   "execution_count": 11,
   "metadata": {
    "ExecuteTime": {
     "end_time": "2019-12-04T02:25:39.996520Z",
     "start_time": "2019-12-04T02:25:39.980031Z"
    }
   },
   "outputs": [],
   "source": [
    "import pandas as pd\n",
    "import numpy as np\n",
    "import seaborn as sns\n",
    "import matplotlib.pyplot as plt\n",
    "%matplotlib inline\n",
    "from scipy import stats\n",
    "import statsmodels.api as sm \n",
    "\n",
    "#Set up all the columns to display\n",
    "pd.set_option('display.max_columns',None)\n",
    "\n",
    "import warnings\n",
    "warnings.filterwarnings('ignore')\n",
    "\n",
    "\n",
    "#import different nlp packages\n",
    "import nltk\n",
    "import string\n",
    "from sklearn.feature_extraction.text import ENGLISH_STOP_WORDS\n",
    "from nltk.tokenize import word_tokenize\n",
    "from nltk.stem import PorterStemmer\n",
    "import re"
   ]
  },
  {
   "cell_type": "code",
   "execution_count": 12,
   "metadata": {
    "ExecuteTime": {
     "end_time": "2019-12-04T02:26:08.337730Z",
     "start_time": "2019-12-04T02:25:44.499035Z"
    }
   },
   "outputs": [],
   "source": [
    "# Import files\n",
    "# business = pd.read_csv('gs://mybucket_terrancexia/Yelp/business.csv')\n",
    "# checkin = pd.read_csv('gs://mybucket_terrancexia/Yelp/checkin.csv')\n",
    "# review = pd.read_csv('gs://mybucket_terrancexia/Yelp/review.csv')\n",
    "\n",
    "#import big file user\n",
    "# user = pd.read_csv('C:/Users/Terrance/Desktop/yelp/user.csv')\n",
    "\n",
    "## import the review data for 2015- 2017\n",
    "# review1 = pd.read_csv('cleaned_data/review_15_17.csv')\n",
    "\n",
    "#import the north america restaurant review for 2015-2017\n",
    "# review_nora = pd.read_csv('cleaned_data/review_nora.csv')\n",
    "\n",
    "#import the north america restaurant review for 2015-2017\n",
    "# review_nora_cleaned = pd.read_csv('~/yelp/cleaned_data/review_nora_cleaned_2019-11-29.csv')\n",
    "\n",
    "#import the final review files\n",
    "df = pd.read_csv('~/yelp/review_final.csv')"
   ]
  },
  {
   "cell_type": "code",
   "execution_count": 12,
   "metadata": {
    "ExecuteTime": {
     "end_time": "2019-12-03T15:08:33.326957Z",
     "start_time": "2019-12-03T15:08:33.296200Z"
    }
   },
   "outputs": [
    {
     "data": {
      "text/html": [
       "<div>\n",
       "<style scoped>\n",
       "    .dataframe tbody tr th:only-of-type {\n",
       "        vertical-align: middle;\n",
       "    }\n",
       "\n",
       "    .dataframe tbody tr th {\n",
       "        vertical-align: top;\n",
       "    }\n",
       "\n",
       "    .dataframe thead th {\n",
       "        text-align: right;\n",
       "    }\n",
       "</style>\n",
       "<table border=\"1\" class=\"dataframe\">\n",
       "  <thead>\n",
       "    <tr style=\"text-align: right;\">\n",
       "      <th></th>\n",
       "      <th>business_id</th>\n",
       "      <th>name</th>\n",
       "      <th>neighborhood</th>\n",
       "      <th>address</th>\n",
       "      <th>city</th>\n",
       "      <th>state</th>\n",
       "      <th>postal_code</th>\n",
       "      <th>latitude</th>\n",
       "      <th>longitude</th>\n",
       "      <th>stars</th>\n",
       "      <th>review_count</th>\n",
       "      <th>is_open</th>\n",
       "      <th>categories</th>\n",
       "    </tr>\n",
       "  </thead>\n",
       "  <tbody>\n",
       "    <tr>\n",
       "      <td>0</td>\n",
       "      <td>FYWN1wneV18bWNgQjJ2GNg</td>\n",
       "      <td>\"Dental by Design\"</td>\n",
       "      <td>NaN</td>\n",
       "      <td>\"4855 E Warner Rd, Ste B9\"</td>\n",
       "      <td>Ahwatukee</td>\n",
       "      <td>AZ</td>\n",
       "      <td>85044</td>\n",
       "      <td>33.330690</td>\n",
       "      <td>-111.978599</td>\n",
       "      <td>4.0</td>\n",
       "      <td>22</td>\n",
       "      <td>1</td>\n",
       "      <td>Dentists;General Dentistry;Health &amp; Medical;Or...</td>\n",
       "    </tr>\n",
       "    <tr>\n",
       "      <td>1</td>\n",
       "      <td>He-G7vWjzVUysIKrfNbPUQ</td>\n",
       "      <td>\"Stephen Szabo Salon\"</td>\n",
       "      <td>NaN</td>\n",
       "      <td>\"3101 Washington Rd\"</td>\n",
       "      <td>McMurray</td>\n",
       "      <td>PA</td>\n",
       "      <td>15317</td>\n",
       "      <td>40.291685</td>\n",
       "      <td>-80.104900</td>\n",
       "      <td>3.0</td>\n",
       "      <td>11</td>\n",
       "      <td>1</td>\n",
       "      <td>Hair Stylists;Hair Salons;Men's Hair Salons;Bl...</td>\n",
       "    </tr>\n",
       "    <tr>\n",
       "      <td>2</td>\n",
       "      <td>KQPW8lFf1y5BT2MxiSZ3QA</td>\n",
       "      <td>\"Western Motor Vehicle\"</td>\n",
       "      <td>NaN</td>\n",
       "      <td>\"6025 N 27th Ave, Ste 1\"</td>\n",
       "      <td>Phoenix</td>\n",
       "      <td>AZ</td>\n",
       "      <td>85017</td>\n",
       "      <td>33.524903</td>\n",
       "      <td>-112.115310</td>\n",
       "      <td>1.5</td>\n",
       "      <td>18</td>\n",
       "      <td>1</td>\n",
       "      <td>Departments of Motor Vehicles;Public Services ...</td>\n",
       "    </tr>\n",
       "    <tr>\n",
       "      <td>3</td>\n",
       "      <td>8DShNS-LuFqpEWIp0HxijA</td>\n",
       "      <td>\"Sports Authority\"</td>\n",
       "      <td>NaN</td>\n",
       "      <td>\"5000 Arizona Mills Cr, Ste 435\"</td>\n",
       "      <td>Tempe</td>\n",
       "      <td>AZ</td>\n",
       "      <td>85282</td>\n",
       "      <td>33.383147</td>\n",
       "      <td>-111.964725</td>\n",
       "      <td>3.0</td>\n",
       "      <td>9</td>\n",
       "      <td>0</td>\n",
       "      <td>Sporting Goods;Shopping</td>\n",
       "    </tr>\n",
       "    <tr>\n",
       "      <td>4</td>\n",
       "      <td>PfOCPjBrlQAnz__NXj9h_w</td>\n",
       "      <td>\"Brick House Tavern + Tap\"</td>\n",
       "      <td>NaN</td>\n",
       "      <td>\"581 Howe Ave\"</td>\n",
       "      <td>Cuyahoga Falls</td>\n",
       "      <td>OH</td>\n",
       "      <td>44221</td>\n",
       "      <td>41.119535</td>\n",
       "      <td>-81.475690</td>\n",
       "      <td>3.5</td>\n",
       "      <td>116</td>\n",
       "      <td>1</td>\n",
       "      <td>American (New);Nightlife;Bars;Sandwiches;Ameri...</td>\n",
       "    </tr>\n",
       "  </tbody>\n",
       "</table>\n",
       "</div>"
      ],
      "text/plain": [
       "              business_id                        name neighborhood  \\\n",
       "0  FYWN1wneV18bWNgQjJ2GNg          \"Dental by Design\"          NaN   \n",
       "1  He-G7vWjzVUysIKrfNbPUQ       \"Stephen Szabo Salon\"          NaN   \n",
       "2  KQPW8lFf1y5BT2MxiSZ3QA     \"Western Motor Vehicle\"          NaN   \n",
       "3  8DShNS-LuFqpEWIp0HxijA          \"Sports Authority\"          NaN   \n",
       "4  PfOCPjBrlQAnz__NXj9h_w  \"Brick House Tavern + Tap\"          NaN   \n",
       "\n",
       "                            address            city state postal_code  \\\n",
       "0        \"4855 E Warner Rd, Ste B9\"       Ahwatukee    AZ       85044   \n",
       "1              \"3101 Washington Rd\"        McMurray    PA       15317   \n",
       "2          \"6025 N 27th Ave, Ste 1\"         Phoenix    AZ       85017   \n",
       "3  \"5000 Arizona Mills Cr, Ste 435\"           Tempe    AZ       85282   \n",
       "4                    \"581 Howe Ave\"  Cuyahoga Falls    OH       44221   \n",
       "\n",
       "    latitude   longitude  stars  review_count  is_open  \\\n",
       "0  33.330690 -111.978599    4.0            22        1   \n",
       "1  40.291685  -80.104900    3.0            11        1   \n",
       "2  33.524903 -112.115310    1.5            18        1   \n",
       "3  33.383147 -111.964725    3.0             9        0   \n",
       "4  41.119535  -81.475690    3.5           116        1   \n",
       "\n",
       "                                          categories  \n",
       "0  Dentists;General Dentistry;Health & Medical;Or...  \n",
       "1  Hair Stylists;Hair Salons;Men's Hair Salons;Bl...  \n",
       "2  Departments of Motor Vehicles;Public Services ...  \n",
       "3                            Sporting Goods;Shopping  \n",
       "4  American (New);Nightlife;Bars;Sandwiches;Ameri...  "
      ]
     },
     "metadata": {},
     "output_type": "display_data"
    },
    {
     "data": {
      "text/html": [
       "<div>\n",
       "<style scoped>\n",
       "    .dataframe tbody tr th:only-of-type {\n",
       "        vertical-align: middle;\n",
       "    }\n",
       "\n",
       "    .dataframe tbody tr th {\n",
       "        vertical-align: top;\n",
       "    }\n",
       "\n",
       "    .dataframe thead th {\n",
       "        text-align: right;\n",
       "    }\n",
       "</style>\n",
       "<table border=\"1\" class=\"dataframe\">\n",
       "  <thead>\n",
       "    <tr style=\"text-align: right;\">\n",
       "      <th></th>\n",
       "      <th>business_id</th>\n",
       "      <th>weekday</th>\n",
       "      <th>hour</th>\n",
       "      <th>checkins</th>\n",
       "    </tr>\n",
       "  </thead>\n",
       "  <tbody>\n",
       "    <tr>\n",
       "      <td>0</td>\n",
       "      <td>3Mc-LxcqeguOXOVT_2ZtCg</td>\n",
       "      <td>Tue</td>\n",
       "      <td>0:00</td>\n",
       "      <td>12</td>\n",
       "    </tr>\n",
       "    <tr>\n",
       "      <td>1</td>\n",
       "      <td>SVFx6_epO22bZTZnKwlX7g</td>\n",
       "      <td>Wed</td>\n",
       "      <td>0:00</td>\n",
       "      <td>4</td>\n",
       "    </tr>\n",
       "    <tr>\n",
       "      <td>2</td>\n",
       "      <td>vW9aLivd4-IorAfStzsHww</td>\n",
       "      <td>Tue</td>\n",
       "      <td>14:00</td>\n",
       "      <td>1</td>\n",
       "    </tr>\n",
       "    <tr>\n",
       "      <td>3</td>\n",
       "      <td>tEzxhauTQddACyqdJ0OPEQ</td>\n",
       "      <td>Fri</td>\n",
       "      <td>19:00</td>\n",
       "      <td>1</td>\n",
       "    </tr>\n",
       "    <tr>\n",
       "      <td>4</td>\n",
       "      <td>CEyZU32P-vtMhgqRCaXzMA</td>\n",
       "      <td>Tue</td>\n",
       "      <td>17:00</td>\n",
       "      <td>1</td>\n",
       "    </tr>\n",
       "  </tbody>\n",
       "</table>\n",
       "</div>"
      ],
      "text/plain": [
       "              business_id weekday   hour  checkins\n",
       "0  3Mc-LxcqeguOXOVT_2ZtCg     Tue   0:00        12\n",
       "1  SVFx6_epO22bZTZnKwlX7g     Wed   0:00         4\n",
       "2  vW9aLivd4-IorAfStzsHww     Tue  14:00         1\n",
       "3  tEzxhauTQddACyqdJ0OPEQ     Fri  19:00         1\n",
       "4  CEyZU32P-vtMhgqRCaXzMA     Tue  17:00         1"
      ]
     },
     "metadata": {},
     "output_type": "display_data"
    },
    {
     "data": {
      "text/html": [
       "<div>\n",
       "<style scoped>\n",
       "    .dataframe tbody tr th:only-of-type {\n",
       "        vertical-align: middle;\n",
       "    }\n",
       "\n",
       "    .dataframe tbody tr th {\n",
       "        vertical-align: top;\n",
       "    }\n",
       "\n",
       "    .dataframe thead th {\n",
       "        text-align: right;\n",
       "    }\n",
       "</style>\n",
       "<table border=\"1\" class=\"dataframe\">\n",
       "  <thead>\n",
       "    <tr style=\"text-align: right;\">\n",
       "      <th></th>\n",
       "      <th>review_id</th>\n",
       "      <th>user_id</th>\n",
       "      <th>business_id</th>\n",
       "      <th>stars</th>\n",
       "      <th>date</th>\n",
       "      <th>text</th>\n",
       "      <th>useful</th>\n",
       "      <th>funny</th>\n",
       "      <th>cool</th>\n",
       "    </tr>\n",
       "  </thead>\n",
       "  <tbody>\n",
       "    <tr>\n",
       "      <td>0</td>\n",
       "      <td>vkVSCC7xljjrAI4UGfnKEQ</td>\n",
       "      <td>bv2nCi5Qv5vroFiqKGopiw</td>\n",
       "      <td>AEx2SYEUJmTxVVB18LlCwA</td>\n",
       "      <td>5</td>\n",
       "      <td>2016-05-28</td>\n",
       "      <td>Super simple place but amazing nonetheless. It...</td>\n",
       "      <td>0</td>\n",
       "      <td>0</td>\n",
       "      <td>0</td>\n",
       "    </tr>\n",
       "    <tr>\n",
       "      <td>1</td>\n",
       "      <td>n6QzIUObkYshz4dz2QRJTw</td>\n",
       "      <td>bv2nCi5Qv5vroFiqKGopiw</td>\n",
       "      <td>VR6GpWIda3SfvPC-lg9H3w</td>\n",
       "      <td>5</td>\n",
       "      <td>2016-05-28</td>\n",
       "      <td>Small unassuming place that changes their menu...</td>\n",
       "      <td>0</td>\n",
       "      <td>0</td>\n",
       "      <td>0</td>\n",
       "    </tr>\n",
       "    <tr>\n",
       "      <td>2</td>\n",
       "      <td>MV3CcKScW05u5LVfF6ok0g</td>\n",
       "      <td>bv2nCi5Qv5vroFiqKGopiw</td>\n",
       "      <td>CKC0-MOWMqoeWf6s-szl8g</td>\n",
       "      <td>5</td>\n",
       "      <td>2016-05-28</td>\n",
       "      <td>Lester's is located in a beautiful neighborhoo...</td>\n",
       "      <td>0</td>\n",
       "      <td>0</td>\n",
       "      <td>0</td>\n",
       "    </tr>\n",
       "    <tr>\n",
       "      <td>3</td>\n",
       "      <td>IXvOzsEMYtiJI0CARmj77Q</td>\n",
       "      <td>bv2nCi5Qv5vroFiqKGopiw</td>\n",
       "      <td>ACFtxLv8pGrrxMm6EgjreA</td>\n",
       "      <td>4</td>\n",
       "      <td>2016-05-28</td>\n",
       "      <td>Love coming here. Yes the place always needs t...</td>\n",
       "      <td>0</td>\n",
       "      <td>0</td>\n",
       "      <td>0</td>\n",
       "    </tr>\n",
       "    <tr>\n",
       "      <td>4</td>\n",
       "      <td>L_9BTb55X0GDtThi6GlZ6w</td>\n",
       "      <td>bv2nCi5Qv5vroFiqKGopiw</td>\n",
       "      <td>s2I_Ni76bjJNK9yG60iD-Q</td>\n",
       "      <td>4</td>\n",
       "      <td>2016-05-28</td>\n",
       "      <td>Had their chocolate almond croissant and it wa...</td>\n",
       "      <td>0</td>\n",
       "      <td>0</td>\n",
       "      <td>0</td>\n",
       "    </tr>\n",
       "  </tbody>\n",
       "</table>\n",
       "</div>"
      ],
      "text/plain": [
       "                review_id                 user_id             business_id  \\\n",
       "0  vkVSCC7xljjrAI4UGfnKEQ  bv2nCi5Qv5vroFiqKGopiw  AEx2SYEUJmTxVVB18LlCwA   \n",
       "1  n6QzIUObkYshz4dz2QRJTw  bv2nCi5Qv5vroFiqKGopiw  VR6GpWIda3SfvPC-lg9H3w   \n",
       "2  MV3CcKScW05u5LVfF6ok0g  bv2nCi5Qv5vroFiqKGopiw  CKC0-MOWMqoeWf6s-szl8g   \n",
       "3  IXvOzsEMYtiJI0CARmj77Q  bv2nCi5Qv5vroFiqKGopiw  ACFtxLv8pGrrxMm6EgjreA   \n",
       "4  L_9BTb55X0GDtThi6GlZ6w  bv2nCi5Qv5vroFiqKGopiw  s2I_Ni76bjJNK9yG60iD-Q   \n",
       "\n",
       "   stars        date                                               text  \\\n",
       "0      5  2016-05-28  Super simple place but amazing nonetheless. It...   \n",
       "1      5  2016-05-28  Small unassuming place that changes their menu...   \n",
       "2      5  2016-05-28  Lester's is located in a beautiful neighborhoo...   \n",
       "3      4  2016-05-28  Love coming here. Yes the place always needs t...   \n",
       "4      4  2016-05-28  Had their chocolate almond croissant and it wa...   \n",
       "\n",
       "   useful  funny  cool  \n",
       "0       0      0     0  \n",
       "1       0      0     0  \n",
       "2       0      0     0  \n",
       "3       0      0     0  \n",
       "4       0      0     0  "
      ]
     },
     "metadata": {},
     "output_type": "display_data"
    }
   ],
   "source": [
    "display(business.head())\n",
    "display(checkin.head())\n",
    "display(review.head())"
   ]
  },
  {
   "cell_type": "code",
   "execution_count": null,
   "metadata": {
    "ExecuteTime": {
     "end_time": "2019-11-20T20:10:21.110600Z",
     "start_time": "2019-11-20T20:09:37.773600Z"
    }
   },
   "outputs": [],
   "source": []
  },
  {
   "cell_type": "markdown",
   "metadata": {},
   "source": [
    "# Data Cleaning"
   ]
  },
  {
   "cell_type": "markdown",
   "metadata": {
    "heading_collapsed": true
   },
   "source": [
    "## Cleaning data for review files\n",
    "\n",
    "### Status: Done <br>\n",
    "Steps Completed:\n",
    "    - change date formate\n",
    "    - select only 2015-2017\n",
    "\n",
    "### Final variable: review1. import from reivew_15_17.csv"
   ]
  },
  {
   "cell_type": "code",
   "execution_count": 13,
   "metadata": {
    "ExecuteTime": {
     "end_time": "2019-12-03T15:08:35.421540Z",
     "start_time": "2019-12-03T15:08:33.329113Z"
    },
    "hidden": true
   },
   "outputs": [
    {
     "data": {
      "text/plain": [
       "Timestamp('2016-05-28 00:00:00')"
      ]
     },
     "execution_count": 13,
     "metadata": {},
     "output_type": "execute_result"
    }
   ],
   "source": [
    "# change date from object to date time\n",
    "review['date'] = pd.to_datetime(review['date'], format = '%Y-%m-%d')\n",
    "\n",
    "#sanity check\n",
    "review['date'][0]"
   ]
  },
  {
   "cell_type": "code",
   "execution_count": 14,
   "metadata": {
    "ExecuteTime": {
     "end_time": "2019-12-03T15:08:36.038593Z",
     "start_time": "2019-12-03T15:08:35.423390Z"
    },
    "hidden": true
   },
   "outputs": [
    {
     "data": {
      "text/plain": [
       "2017    1128518\n",
       "2016    1052916\n",
       "2015     911487\n",
       "2014     678351\n",
       "2013     472595\n",
       "2012     350381\n",
       "2011     290933\n",
       "2010     187073\n",
       "2009      98288\n",
       "2008      61553\n",
       "2007      23020\n",
       "2006       5669\n",
       "2005        870\n",
       "2004         14\n",
       "Name: date, dtype: int64"
      ]
     },
     "execution_count": 14,
     "metadata": {},
     "output_type": "execute_result"
    }
   ],
   "source": [
    "#check how many reviews in each year\n",
    "pd.DatetimeIndex(review['date']).year.value_counts()"
   ]
  },
  {
   "cell_type": "code",
   "execution_count": 15,
   "metadata": {
    "ExecuteTime": {
     "end_time": "2019-12-03T15:08:36.499147Z",
     "start_time": "2019-12-03T15:08:36.040348Z"
    },
    "hidden": true
   },
   "outputs": [],
   "source": [
    "#select only reviews after 2015\n",
    "review1 = review[(review['date']>=\"2015\")]"
   ]
  },
  {
   "cell_type": "code",
   "execution_count": 16,
   "metadata": {
    "ExecuteTime": {
     "end_time": "2019-12-03T15:08:36.868257Z",
     "start_time": "2019-12-03T15:08:36.501578Z"
    },
    "hidden": true
   },
   "outputs": [
    {
     "data": {
      "text/plain": [
       "2017    1128518\n",
       "2016    1052916\n",
       "2015     911487\n",
       "Name: date, dtype: int64"
      ]
     },
     "execution_count": 16,
     "metadata": {},
     "output_type": "execute_result"
    }
   ],
   "source": [
    "#check on how many reviews in 2015, 2016, and 2017\n",
    "pd.DatetimeIndex(review1['date']).year.value_counts()"
   ]
  },
  {
   "cell_type": "code",
   "execution_count": 17,
   "metadata": {
    "ExecuteTime": {
     "end_time": "2019-12-03T15:08:36.874206Z",
     "start_time": "2019-12-03T15:08:36.871538Z"
    },
    "hidden": true
   },
   "outputs": [],
   "source": [
    "# #export the review1 to csv\n",
    "\n",
    "# review1.to_csv('review_15_17.csv')"
   ]
  },
  {
   "cell_type": "code",
   "execution_count": 18,
   "metadata": {
    "ExecuteTime": {
     "end_time": "2019-12-03T15:08:36.881698Z",
     "start_time": "2019-12-03T15:08:36.876369Z"
    },
    "hidden": true
   },
   "outputs": [
    {
     "data": {
      "text/plain": [
       "(3092921, 9)"
      ]
     },
     "execution_count": 18,
     "metadata": {},
     "output_type": "execute_result"
    }
   ],
   "source": [
    "review1.shape"
   ]
  },
  {
   "cell_type": "code",
   "execution_count": 21,
   "metadata": {
    "ExecuteTime": {
     "end_time": "2019-12-03T15:11:12.372046Z",
     "start_time": "2019-12-03T15:11:12.025642Z"
    },
    "hidden": true
   },
   "outputs": [
    {
     "data": {
      "text/html": [
       "<div>\n",
       "<style scoped>\n",
       "    .dataframe tbody tr th:only-of-type {\n",
       "        vertical-align: middle;\n",
       "    }\n",
       "\n",
       "    .dataframe tbody tr th {\n",
       "        vertical-align: top;\n",
       "    }\n",
       "\n",
       "    .dataframe thead th {\n",
       "        text-align: right;\n",
       "    }\n",
       "</style>\n",
       "<table border=\"1\" class=\"dataframe\">\n",
       "  <thead>\n",
       "    <tr style=\"text-align: right;\">\n",
       "      <th></th>\n",
       "      <th>review_id</th>\n",
       "      <th>user_id</th>\n",
       "      <th>business_id</th>\n",
       "      <th>stars</th>\n",
       "      <th>date</th>\n",
       "      <th>text</th>\n",
       "    </tr>\n",
       "  </thead>\n",
       "  <tbody>\n",
       "    <tr>\n",
       "      <td>0</td>\n",
       "      <td>vkVSCC7xljjrAI4UGfnKEQ</td>\n",
       "      <td>bv2nCi5Qv5vroFiqKGopiw</td>\n",
       "      <td>AEx2SYEUJmTxVVB18LlCwA</td>\n",
       "      <td>5</td>\n",
       "      <td>2016-05-28</td>\n",
       "      <td>Super simple place but amazing nonetheless. It...</td>\n",
       "    </tr>\n",
       "    <tr>\n",
       "      <td>1</td>\n",
       "      <td>n6QzIUObkYshz4dz2QRJTw</td>\n",
       "      <td>bv2nCi5Qv5vroFiqKGopiw</td>\n",
       "      <td>VR6GpWIda3SfvPC-lg9H3w</td>\n",
       "      <td>5</td>\n",
       "      <td>2016-05-28</td>\n",
       "      <td>Small unassuming place that changes their menu...</td>\n",
       "    </tr>\n",
       "    <tr>\n",
       "      <td>2</td>\n",
       "      <td>MV3CcKScW05u5LVfF6ok0g</td>\n",
       "      <td>bv2nCi5Qv5vroFiqKGopiw</td>\n",
       "      <td>CKC0-MOWMqoeWf6s-szl8g</td>\n",
       "      <td>5</td>\n",
       "      <td>2016-05-28</td>\n",
       "      <td>Lester's is located in a beautiful neighborhoo...</td>\n",
       "    </tr>\n",
       "    <tr>\n",
       "      <td>3</td>\n",
       "      <td>IXvOzsEMYtiJI0CARmj77Q</td>\n",
       "      <td>bv2nCi5Qv5vroFiqKGopiw</td>\n",
       "      <td>ACFtxLv8pGrrxMm6EgjreA</td>\n",
       "      <td>4</td>\n",
       "      <td>2016-05-28</td>\n",
       "      <td>Love coming here. Yes the place always needs t...</td>\n",
       "    </tr>\n",
       "    <tr>\n",
       "      <td>4</td>\n",
       "      <td>L_9BTb55X0GDtThi6GlZ6w</td>\n",
       "      <td>bv2nCi5Qv5vroFiqKGopiw</td>\n",
       "      <td>s2I_Ni76bjJNK9yG60iD-Q</td>\n",
       "      <td>4</td>\n",
       "      <td>2016-05-28</td>\n",
       "      <td>Had their chocolate almond croissant and it wa...</td>\n",
       "    </tr>\n",
       "  </tbody>\n",
       "</table>\n",
       "</div>"
      ],
      "text/plain": [
       "                review_id                 user_id             business_id  \\\n",
       "0  vkVSCC7xljjrAI4UGfnKEQ  bv2nCi5Qv5vroFiqKGopiw  AEx2SYEUJmTxVVB18LlCwA   \n",
       "1  n6QzIUObkYshz4dz2QRJTw  bv2nCi5Qv5vroFiqKGopiw  VR6GpWIda3SfvPC-lg9H3w   \n",
       "2  MV3CcKScW05u5LVfF6ok0g  bv2nCi5Qv5vroFiqKGopiw  CKC0-MOWMqoeWf6s-szl8g   \n",
       "3  IXvOzsEMYtiJI0CARmj77Q  bv2nCi5Qv5vroFiqKGopiw  ACFtxLv8pGrrxMm6EgjreA   \n",
       "4  L_9BTb55X0GDtThi6GlZ6w  bv2nCi5Qv5vroFiqKGopiw  s2I_Ni76bjJNK9yG60iD-Q   \n",
       "\n",
       "   stars       date                                               text  \n",
       "0      5 2016-05-28  Super simple place but amazing nonetheless. It...  \n",
       "1      5 2016-05-28  Small unassuming place that changes their menu...  \n",
       "2      5 2016-05-28  Lester's is located in a beautiful neighborhoo...  \n",
       "3      4 2016-05-28  Love coming here. Yes the place always needs t...  \n",
       "4      4 2016-05-28  Had their chocolate almond croissant and it wa...  "
      ]
     },
     "execution_count": 21,
     "metadata": {},
     "output_type": "execute_result"
    }
   ],
   "source": [
    "#get eliminate the not used last three columns\n",
    "review1 = review1.iloc[:,:-3]\n",
    "review1.head()"
   ]
  },
  {
   "cell_type": "code",
   "execution_count": 22,
   "metadata": {
    "ExecuteTime": {
     "end_time": "2019-12-03T15:11:56.811579Z",
     "start_time": "2019-12-03T15:11:55.898069Z"
    },
    "hidden": true
   },
   "outputs": [
    {
     "data": {
      "text/plain": [
       "review_id      0\n",
       "user_id        0\n",
       "business_id    0\n",
       "stars          0\n",
       "date           0\n",
       "text           0\n",
       "dtype: int64"
      ]
     },
     "execution_count": 22,
     "metadata": {},
     "output_type": "execute_result"
    }
   ],
   "source": [
    "# check on missing values\n",
    "review1.isnull().sum()"
   ]
  },
  {
   "cell_type": "markdown",
   "metadata": {
    "heading_collapsed": true
   },
   "source": [
    "## Cleaning data for business files. \n",
    "\n",
    "### Status: Done\n",
    "Steps Completed: \n",
    "    - Filter out food and restaurant category\n",
    "    - Filter out north america by state abbv\n",
    "    - select review1 with only north amercia restaurant from previous steps by business id\n",
    "      \n",
    "\n",
    "### Final variable: review_nora"
   ]
  },
  {
   "cell_type": "code",
   "execution_count": 23,
   "metadata": {
    "ExecuteTime": {
     "end_time": "2019-12-03T15:12:02.353635Z",
     "start_time": "2019-12-03T15:12:02.131453Z"
    },
    "hidden": true
   },
   "outputs": [
    {
     "data": {
      "text/plain": [
       "(174567, 13)"
      ]
     },
     "metadata": {},
     "output_type": "display_data"
    },
    {
     "data": {
      "text/plain": [
       "(69079, 13)"
      ]
     },
     "metadata": {},
     "output_type": "display_data"
    }
   ],
   "source": [
    "#filter only restuant and food from all business\n",
    "\n",
    "business_filter = business[(business['categories'].str.contains(\"Food\",regex=True))|\n",
    "         (business['categories'].str.contains(\"Restaurant\",regex=True))]\n",
    "\n",
    "#sanity check\n",
    "display(business.shape)\n",
    "display(business_filter.shape)"
   ]
  },
  {
   "cell_type": "code",
   "execution_count": 24,
   "metadata": {
    "ExecuteTime": {
     "end_time": "2019-12-03T15:12:08.267940Z",
     "start_time": "2019-12-03T15:12:08.254036Z"
    },
    "hidden": true,
    "scrolled": true
   },
   "outputs": [
    {
     "data": {
      "text/plain": [
       "ON     16845\n",
       "AZ     13826\n",
       "NV      9263\n",
       "OH      6031\n",
       "QC      5941\n",
       "NC      4969\n",
       "PA      4686\n",
       "BW      2023\n",
       "WI      1984\n",
       "EDH     1906\n",
       "IL       786\n",
       "SC       291\n",
       "MLN      120\n",
       "HLD       76\n",
       "CHE       75\n",
       "NYK       71\n",
       "FIF       34\n",
       "ELN       32\n",
       "C         22\n",
       "WLN       21\n",
       "NY        12\n",
       "NI        10\n",
       "01        10\n",
       "ST         8\n",
       "VS         6\n",
       "ESX        4\n",
       "BY         3\n",
       "IN         3\n",
       "CO         2\n",
       "GLG        2\n",
       "XGL        2\n",
       "6          1\n",
       "30         1\n",
       "CA         1\n",
       "WHT        1\n",
       "AK         1\n",
       "VA         1\n",
       "RCC        1\n",
       "ABE        1\n",
       "3          1\n",
       "PKN        1\n",
       "KHL        1\n",
       "B          1\n",
       "HU         1\n",
       "FLN        1\n",
       "ZET        1\n",
       "Name: state, dtype: int64"
      ]
     },
     "execution_count": 24,
     "metadata": {},
     "output_type": "execute_result"
    }
   ],
   "source": [
    "#filter out North America Only\n",
    "#check on different locations for the business\n",
    "business_filter['state'].value_counts()"
   ]
  },
  {
   "cell_type": "code",
   "execution_count": 25,
   "metadata": {
    "ExecuteTime": {
     "end_time": "2019-12-03T15:12:14.302448Z",
     "start_time": "2019-12-03T15:12:14.080625Z"
    },
    "hidden": true
   },
   "outputs": [],
   "source": [
    "#get only US and canada business\n",
    "\n",
    "#set up list contains only north america state\n",
    "state_abbv = pd.read_csv('gs://mybucket_terrancexia/Yelp/state_abbr.csv')\n",
    "\n",
    "#get north amercia business only from business_filter\n",
    "business_nora = business_filter[business_filter['state'].isin(state_abbv['Code'])]\n",
    "\n",
    "state_count = business_nora['state'].value_counts()\n",
    "# state_count.to_csv('state_count.csv')\n"
   ]
  },
  {
   "cell_type": "code",
   "execution_count": 26,
   "metadata": {
    "ExecuteTime": {
     "end_time": "2019-12-03T15:12:18.563691Z",
     "start_time": "2019-12-03T15:12:17.556223Z"
    },
    "hidden": true
   },
   "outputs": [
    {
     "data": {
      "text/plain": [
       "(2027121, 6)"
      ]
     },
     "metadata": {},
     "output_type": "display_data"
    },
    {
     "data": {
      "text/plain": [
       "(3092921, 6)"
      ]
     },
     "metadata": {},
     "output_type": "display_data"
    }
   ],
   "source": [
    "# Select north america reviews only based on business_nora['business_id']\n",
    "review_nora = review1[review1['business_id'].isin(business_nora['business_id'])]\n",
    "\n",
    "display(review_nora.shape)\n",
    "display(review1.shape)"
   ]
  },
  {
   "cell_type": "code",
   "execution_count": 29,
   "metadata": {
    "ExecuteTime": {
     "end_time": "2019-12-03T15:13:30.161980Z",
     "start_time": "2019-12-03T15:13:30.150183Z"
    },
    "hidden": true
   },
   "outputs": [
    {
     "data": {
      "text/html": [
       "<div>\n",
       "<style scoped>\n",
       "    .dataframe tbody tr th:only-of-type {\n",
       "        vertical-align: middle;\n",
       "    }\n",
       "\n",
       "    .dataframe tbody tr th {\n",
       "        vertical-align: top;\n",
       "    }\n",
       "\n",
       "    .dataframe thead th {\n",
       "        text-align: right;\n",
       "    }\n",
       "</style>\n",
       "<table border=\"1\" class=\"dataframe\">\n",
       "  <thead>\n",
       "    <tr style=\"text-align: right;\">\n",
       "      <th></th>\n",
       "      <th>review_id</th>\n",
       "      <th>user_id</th>\n",
       "      <th>business_id</th>\n",
       "      <th>stars</th>\n",
       "      <th>date</th>\n",
       "      <th>text</th>\n",
       "    </tr>\n",
       "  </thead>\n",
       "  <tbody>\n",
       "    <tr>\n",
       "      <td>0</td>\n",
       "      <td>vkVSCC7xljjrAI4UGfnKEQ</td>\n",
       "      <td>bv2nCi5Qv5vroFiqKGopiw</td>\n",
       "      <td>AEx2SYEUJmTxVVB18LlCwA</td>\n",
       "      <td>5</td>\n",
       "      <td>2016-05-28</td>\n",
       "      <td>Super simple place but amazing nonetheless. It...</td>\n",
       "    </tr>\n",
       "    <tr>\n",
       "      <td>1</td>\n",
       "      <td>n6QzIUObkYshz4dz2QRJTw</td>\n",
       "      <td>bv2nCi5Qv5vroFiqKGopiw</td>\n",
       "      <td>VR6GpWIda3SfvPC-lg9H3w</td>\n",
       "      <td>5</td>\n",
       "      <td>2016-05-28</td>\n",
       "      <td>Small unassuming place that changes their menu...</td>\n",
       "    </tr>\n",
       "    <tr>\n",
       "      <td>2</td>\n",
       "      <td>MV3CcKScW05u5LVfF6ok0g</td>\n",
       "      <td>bv2nCi5Qv5vroFiqKGopiw</td>\n",
       "      <td>CKC0-MOWMqoeWf6s-szl8g</td>\n",
       "      <td>5</td>\n",
       "      <td>2016-05-28</td>\n",
       "      <td>Lester's is located in a beautiful neighborhoo...</td>\n",
       "    </tr>\n",
       "    <tr>\n",
       "      <td>3</td>\n",
       "      <td>IXvOzsEMYtiJI0CARmj77Q</td>\n",
       "      <td>bv2nCi5Qv5vroFiqKGopiw</td>\n",
       "      <td>ACFtxLv8pGrrxMm6EgjreA</td>\n",
       "      <td>4</td>\n",
       "      <td>2016-05-28</td>\n",
       "      <td>Love coming here. Yes the place always needs t...</td>\n",
       "    </tr>\n",
       "    <tr>\n",
       "      <td>4</td>\n",
       "      <td>L_9BTb55X0GDtThi6GlZ6w</td>\n",
       "      <td>bv2nCi5Qv5vroFiqKGopiw</td>\n",
       "      <td>s2I_Ni76bjJNK9yG60iD-Q</td>\n",
       "      <td>4</td>\n",
       "      <td>2016-05-28</td>\n",
       "      <td>Had their chocolate almond croissant and it wa...</td>\n",
       "    </tr>\n",
       "  </tbody>\n",
       "</table>\n",
       "</div>"
      ],
      "text/plain": [
       "                review_id                 user_id             business_id  \\\n",
       "0  vkVSCC7xljjrAI4UGfnKEQ  bv2nCi5Qv5vroFiqKGopiw  AEx2SYEUJmTxVVB18LlCwA   \n",
       "1  n6QzIUObkYshz4dz2QRJTw  bv2nCi5Qv5vroFiqKGopiw  VR6GpWIda3SfvPC-lg9H3w   \n",
       "2  MV3CcKScW05u5LVfF6ok0g  bv2nCi5Qv5vroFiqKGopiw  CKC0-MOWMqoeWf6s-szl8g   \n",
       "3  IXvOzsEMYtiJI0CARmj77Q  bv2nCi5Qv5vroFiqKGopiw  ACFtxLv8pGrrxMm6EgjreA   \n",
       "4  L_9BTb55X0GDtThi6GlZ6w  bv2nCi5Qv5vroFiqKGopiw  s2I_Ni76bjJNK9yG60iD-Q   \n",
       "\n",
       "   stars       date                                               text  \n",
       "0      5 2016-05-28  Super simple place but amazing nonetheless. It...  \n",
       "1      5 2016-05-28  Small unassuming place that changes their menu...  \n",
       "2      5 2016-05-28  Lester's is located in a beautiful neighborhoo...  \n",
       "3      4 2016-05-28  Love coming here. Yes the place always needs t...  \n",
       "4      4 2016-05-28  Had their chocolate almond croissant and it wa...  "
      ]
     },
     "execution_count": 29,
     "metadata": {},
     "output_type": "execute_result"
    }
   ],
   "source": [
    "review_nora.head()"
   ]
  },
  {
   "cell_type": "code",
   "execution_count": 33,
   "metadata": {
    "ExecuteTime": {
     "end_time": "2019-11-26T21:44:44.121200Z",
     "start_time": "2019-11-26T21:43:57.401200Z"
    },
    "hidden": true
   },
   "outputs": [],
   "source": [
    "# drop duplicated index columns\n",
    "# review_nora = review_nora.drop(['Unnamed: 0', 'Unnamed: 0.1'], axis=1)\n",
    "\n",
    "#Export review_nora to csv\n",
    "# review_nora.to_csv('cleaned_data/review_nora.csv')"
   ]
  },
  {
   "cell_type": "code",
   "execution_count": 14,
   "metadata": {
    "ExecuteTime": {
     "end_time": "2019-11-24T16:36:41.298000Z",
     "start_time": "2019-11-24T16:36:39.741000Z"
    },
    "hidden": true
   },
   "outputs": [],
   "source": [
    "#remove \"\" from name column.\n",
    "\n",
    "# number_reviews = business_nora[['name','stars','review_count','latitude', 'longitude']]\n",
    "\n",
    "# number_reviews['name'] = number_reviews['name'].apply(lambda x : x.replace('\"',''))\n",
    "\n",
    "# number_reviews.to_csv('number_reviews.csv')"
   ]
  },
  {
   "cell_type": "code",
   "execution_count": 15,
   "metadata": {
    "ExecuteTime": {
     "end_time": "2019-11-24T16:37:30.094000Z",
     "start_time": "2019-11-24T16:37:30.026000Z"
    },
    "hidden": true
   },
   "outputs": [],
   "source": [
    "# ON = business_nora[(business_nora['stars']==5.0)][['name','review_count','stars']]\n",
    "\n",
    "# ON = ON.sort_values(by='review_count', ascending=False)\n",
    "\n",
    "# Top_20 = ON.head(20)\n",
    "# Top_20.to_csv('top20.csv')"
   ]
  },
  {
   "cell_type": "code",
   "execution_count": 18,
   "metadata": {
    "ExecuteTime": {
     "end_time": "2019-11-24T16:38:07.488000Z",
     "start_time": "2019-11-24T16:38:07.108000Z"
    },
    "hidden": true
   },
   "outputs": [
    {
     "data": {
      "text/plain": [
       "<Figure size 1440x720 with 0 Axes>"
      ]
     },
     "metadata": {},
     "output_type": "display_data"
    },
    {
     "data": {
      "image/png": "[encoded data removed]",
      "text/plain": [
       "<Figure size 1440x720 with 1 Axes>"
      ]
     },
     "metadata": {},
     "output_type": "display_data"
    }
   ],
   "source": [
    "#plot out number of stars distribution \n",
    "sns.set(font_scale=15)\n",
    "sns.set(style = 'darkgrid')\n",
    "plt.figure(figsize=(20,10))\n",
    "sns.set(font_scale=2.0)\n",
    "plt.figure(figsize=(20,10))\n",
    "sns.countplot(number_reviews['stars'], edgecolor='black', palette = 'Blues_d')\n",
    "plt.title('Rating Distribution')\n",
    "plt.ylabel('Number of Rating')\n",
    "plt.xlabel('Star Ratings')\n",
    "\n",
    "plt.show()"
   ]
  },
  {
   "cell_type": "code",
   "execution_count": null,
   "metadata": {
    "hidden": true
   },
   "outputs": [],
   "source": []
  },
  {
   "cell_type": "markdown",
   "metadata": {},
   "source": [
    "## Clean Text review in review_nora\n",
    "\n",
    "### Status: Done\n",
    "\n",
    "    1. Tokenized the text\n",
    "    2. Change to lower character for each tokens\n",
    "    3. Remove stopwords \n",
    "    4. Remove punctuation \n",
    "    5. Untokenized the text \n",
    "    6. Unlist each row from list of strings to strings\n",
    "    \n",
    "### Final Variables: review_nora_cleaned\n",
    "    "
   ]
  },
  {
   "cell_type": "code",
   "execution_count": 31,
   "metadata": {
    "ExecuteTime": {
     "end_time": "2019-12-03T15:15:07.880934Z",
     "start_time": "2019-12-03T15:15:07.876829Z"
    }
   },
   "outputs": [],
   "source": [
    "#import different nlp packages\n",
    "import nltk\n",
    "import string\n",
    "from sklearn.feature_extraction.text import ENGLISH_STOP_WORDS\n",
    "from nltk.tokenize import word_tokenize\n",
    "from nltk.stem import PorterStemmer\n",
    "import re"
   ]
  },
  {
   "cell_type": "code",
   "execution_count": 32,
   "metadata": {
    "ExecuteTime": {
     "end_time": "2019-12-03T15:15:15.123000Z",
     "start_time": "2019-12-03T15:15:15.118413Z"
    }
   },
   "outputs": [],
   "source": [
    "#define function to remove stop words\n",
    "def remove_stopwords(list_of_tokens):\n",
    "    '''\n",
    "    Remove English Stop Words\n",
    "    '''\n",
    "    \n",
    "    cleaned_tokens = []\n",
    "    for token in list_of_tokens:\n",
    "        if token in ENGLISH_STOP_WORDS: continue\n",
    "        cleaned_tokens.append(token)\n",
    "        \n",
    "    return cleaned_tokens"
   ]
  },
  {
   "cell_type": "code",
   "execution_count": 33,
   "metadata": {
    "ExecuteTime": {
     "end_time": "2019-12-03T15:15:19.355910Z",
     "start_time": "2019-12-03T15:15:19.350890Z"
    }
   },
   "outputs": [],
   "source": [
    "#define function to remove punctuation, character less than 2, remove extra''\n",
    "def remove_punctuation(list_of_tokens):\n",
    "    '''\n",
    "    1. Remove Punctuation\n",
    "    2. Remove character less than 2\n",
    "    3. Remove extra '' in the list\n",
    "    \n",
    "    '''\n",
    "    cleaned_tokens = []\n",
    "    for word in list_of_tokens:\n",
    "          \n",
    "        #remove punctuation\n",
    "        for punctuation in string.punctuation:\n",
    "            word = word.replace(punctuation,'')\n",
    "            \n",
    "            #remove character less than 2\n",
    "            word = re.sub(r'\\b\\w{1,2}\\b', '', word)\n",
    "            \n",
    "        #append the word to cleaned token\n",
    "        cleaned_tokens.append(word)\n",
    "        \n",
    "        #remove extra '' in the list\n",
    "        while('' in cleaned_tokens):\n",
    "            cleaned_tokens.remove('')\n",
    "            \n",
    "    return cleaned_tokens"
   ]
  },
  {
   "cell_type": "code",
   "execution_count": 34,
   "metadata": {
    "ExecuteTime": {
     "end_time": "2019-12-03T15:15:25.510631Z",
     "start_time": "2019-12-03T15:15:25.507296Z"
    }
   },
   "outputs": [],
   "source": [
    "#define a function to untokenlize the tokens\n",
    "def the_untokenizer(token_list):\n",
    "    '''\n",
    "    Untokenize the token back to string\n",
    "    '''\n",
    "    return \" \".join(token_list)"
   ]
  },
  {
   "cell_type": "code",
   "execution_count": 35,
   "metadata": {
    "ExecuteTime": {
     "end_time": "2019-12-03T15:15:27.865882Z",
     "start_time": "2019-12-03T15:15:27.860680Z"
    }
   },
   "outputs": [],
   "source": [
    "#define a function to cleaning_out_texts to combine functions:tokenize, remove_stopwords, remove_punctuation, the_untokenizer\n",
    "\n",
    "def cleaning_out_texts(text):\n",
    "    '''\n",
    "    1. Tokenized the text\n",
    "    2. Change to lower character for each tokens\n",
    "    3. Apply remove_stopwords function defined above\n",
    "    4. Apply remove_punctuation function defined above\n",
    "    5. Apply the_untokenizer function defined above\n",
    "    6. Returned cleaned text\n",
    "    \n",
    "    '''\n",
    "    cleaned_text = []\n",
    "    \n",
    "    tokenizer_list = word_tokenize(text)\n",
    "    \n",
    "    lower_word = []\n",
    "    for word in tokenizer_list:\n",
    "        \n",
    "        word = word.lower()\n",
    "        \n",
    "        lower_word.append(word)\n",
    "    \n",
    "    removed_stopwords_list = remove_stopwords(lower_word)\n",
    "        \n",
    "    removed_punctuation_list = remove_punctuation(removed_stopwords_list)\n",
    "                \n",
    "    back_to_string = the_untokenizer(removed_punctuation_list)\n",
    "        \n",
    "    cleaned_text.append(back_to_string)\n",
    "        \n",
    "    return cleaned_text       "
   ]
  },
  {
   "cell_type": "code",
   "execution_count": 39,
   "metadata": {
    "ExecuteTime": {
     "end_time": "2019-12-03T17:19:01.643326Z",
     "start_time": "2019-12-03T15:16:33.556931Z"
    }
   },
   "outputs": [
    {
     "data": {
      "text/html": [
       "<div>\n",
       "<style scoped>\n",
       "    .dataframe tbody tr th:only-of-type {\n",
       "        vertical-align: middle;\n",
       "    }\n",
       "\n",
       "    .dataframe tbody tr th {\n",
       "        vertical-align: top;\n",
       "    }\n",
       "\n",
       "    .dataframe thead th {\n",
       "        text-align: right;\n",
       "    }\n",
       "</style>\n",
       "<table border=\"1\" class=\"dataframe\">\n",
       "  <thead>\n",
       "    <tr style=\"text-align: right;\">\n",
       "      <th></th>\n",
       "      <th>review_id</th>\n",
       "      <th>user_id</th>\n",
       "      <th>business_id</th>\n",
       "      <th>stars</th>\n",
       "      <th>date</th>\n",
       "      <th>text</th>\n",
       "      <th>cleaned_text</th>\n",
       "    </tr>\n",
       "  </thead>\n",
       "  <tbody>\n",
       "    <tr>\n",
       "      <td>0</td>\n",
       "      <td>vkVSCC7xljjrAI4UGfnKEQ</td>\n",
       "      <td>bv2nCi5Qv5vroFiqKGopiw</td>\n",
       "      <td>AEx2SYEUJmTxVVB18LlCwA</td>\n",
       "      <td>5</td>\n",
       "      <td>2016-05-28</td>\n",
       "      <td>Super simple place but amazing nonetheless. It...</td>\n",
       "      <td>[super simple place amazing nonetheless serve ...</td>\n",
       "    </tr>\n",
       "    <tr>\n",
       "      <td>1</td>\n",
       "      <td>n6QzIUObkYshz4dz2QRJTw</td>\n",
       "      <td>bv2nCi5Qv5vroFiqKGopiw</td>\n",
       "      <td>VR6GpWIda3SfvPC-lg9H3w</td>\n",
       "      <td>5</td>\n",
       "      <td>2016-05-28</td>\n",
       "      <td>Small unassuming place that changes their menu...</td>\n",
       "      <td>[small unassuming place changes menu cool deco...</td>\n",
       "    </tr>\n",
       "    <tr>\n",
       "      <td>2</td>\n",
       "      <td>MV3CcKScW05u5LVfF6ok0g</td>\n",
       "      <td>bv2nCi5Qv5vroFiqKGopiw</td>\n",
       "      <td>CKC0-MOWMqoeWf6s-szl8g</td>\n",
       "      <td>5</td>\n",
       "      <td>2016-05-28</td>\n",
       "      <td>Lester's is located in a beautiful neighborhoo...</td>\n",
       "      <td>[lester located beautiful neighborhood 1951 kn...</td>\n",
       "    </tr>\n",
       "    <tr>\n",
       "      <td>3</td>\n",
       "      <td>IXvOzsEMYtiJI0CARmj77Q</td>\n",
       "      <td>bv2nCi5Qv5vroFiqKGopiw</td>\n",
       "      <td>ACFtxLv8pGrrxMm6EgjreA</td>\n",
       "      <td>4</td>\n",
       "      <td>2016-05-28</td>\n",
       "      <td>Love coming here. Yes the place always needs t...</td>\n",
       "      <td>[love coming yes place needs floor swept peanu...</td>\n",
       "    </tr>\n",
       "    <tr>\n",
       "      <td>4</td>\n",
       "      <td>L_9BTb55X0GDtThi6GlZ6w</td>\n",
       "      <td>bv2nCi5Qv5vroFiqKGopiw</td>\n",
       "      <td>s2I_Ni76bjJNK9yG60iD-Q</td>\n",
       "      <td>4</td>\n",
       "      <td>2016-05-28</td>\n",
       "      <td>Had their chocolate almond croissant and it wa...</td>\n",
       "      <td>[chocolate almond croissant amazing light butt...</td>\n",
       "    </tr>\n",
       "  </tbody>\n",
       "</table>\n",
       "</div>"
      ],
      "text/plain": [
       "                review_id                 user_id             business_id  \\\n",
       "0  vkVSCC7xljjrAI4UGfnKEQ  bv2nCi5Qv5vroFiqKGopiw  AEx2SYEUJmTxVVB18LlCwA   \n",
       "1  n6QzIUObkYshz4dz2QRJTw  bv2nCi5Qv5vroFiqKGopiw  VR6GpWIda3SfvPC-lg9H3w   \n",
       "2  MV3CcKScW05u5LVfF6ok0g  bv2nCi5Qv5vroFiqKGopiw  CKC0-MOWMqoeWf6s-szl8g   \n",
       "3  IXvOzsEMYtiJI0CARmj77Q  bv2nCi5Qv5vroFiqKGopiw  ACFtxLv8pGrrxMm6EgjreA   \n",
       "4  L_9BTb55X0GDtThi6GlZ6w  bv2nCi5Qv5vroFiqKGopiw  s2I_Ni76bjJNK9yG60iD-Q   \n",
       "\n",
       "   stars       date                                               text  \\\n",
       "0      5 2016-05-28  Super simple place but amazing nonetheless. It...   \n",
       "1      5 2016-05-28  Small unassuming place that changes their menu...   \n",
       "2      5 2016-05-28  Lester's is located in a beautiful neighborhoo...   \n",
       "3      4 2016-05-28  Love coming here. Yes the place always needs t...   \n",
       "4      4 2016-05-28  Had their chocolate almond croissant and it wa...   \n",
       "\n",
       "                                        cleaned_text  \n",
       "0  [super simple place amazing nonetheless serve ...  \n",
       "1  [small unassuming place changes menu cool deco...  \n",
       "2  [lester located beautiful neighborhood 1951 kn...  \n",
       "3  [love coming yes place needs floor swept peanu...  \n",
       "4  [chocolate almond croissant amazing light butt...  "
      ]
     },
     "execution_count": 39,
     "metadata": {},
     "output_type": "execute_result"
    }
   ],
   "source": [
    "review_nora['cleaned_text']= review_nora['text'].apply(cleaning_out_texts)\n",
    "review_nora.head()"
   ]
  },
  {
   "cell_type": "code",
   "execution_count": 40,
   "metadata": {
    "ExecuteTime": {
     "end_time": "2019-12-03T17:19:01.649187Z",
     "start_time": "2019-12-03T17:19:01.645718Z"
    }
   },
   "outputs": [],
   "source": [
    "# define a function to remove extra '' and unpack the list\n",
    "\n",
    "def unlist(list):\n",
    "    return str(list).strip(\"[],''\")"
   ]
  },
  {
   "cell_type": "code",
   "execution_count": 42,
   "metadata": {
    "ExecuteTime": {
     "end_time": "2019-12-03T17:30:45.735665Z",
     "start_time": "2019-12-03T17:30:40.750620Z"
    }
   },
   "outputs": [],
   "source": [
    "#apply the unlist function to cleaned_text\n",
    "review_nora['cleaned_text']=review_nora['cleaned_text'].apply(unlist)"
   ]
  },
  {
   "cell_type": "code",
   "execution_count": 43,
   "metadata": {
    "ExecuteTime": {
     "end_time": "2019-12-03T17:30:49.663524Z",
     "start_time": "2019-12-03T17:30:49.656883Z"
    }
   },
   "outputs": [
    {
     "data": {
      "text/plain": [
       "0    super simple place amazing nonetheless serve t...\n",
       "1    small unassuming place changes menu cool decor...\n",
       "2    lester located beautiful neighborhood 1951 kno...\n",
       "3    love coming yes place needs floor swept peanut...\n",
       "4    chocolate almond croissant amazing light butte...\n",
       "Name: cleaned_text, dtype: object"
      ]
     },
     "execution_count": 43,
     "metadata": {},
     "output_type": "execute_result"
    }
   ],
   "source": [
    "review_nora['cleaned_text'].head()"
   ]
  },
  {
   "cell_type": "code",
   "execution_count": 49,
   "metadata": {
    "ExecuteTime": {
     "end_time": "2019-12-03T17:33:00.943218Z",
     "start_time": "2019-12-03T17:33:00.074217Z"
    }
   },
   "outputs": [
    {
     "data": {
      "text/html": [
       "<div>\n",
       "<style scoped>\n",
       "    .dataframe tbody tr th:only-of-type {\n",
       "        vertical-align: middle;\n",
       "    }\n",
       "\n",
       "    .dataframe tbody tr th {\n",
       "        vertical-align: top;\n",
       "    }\n",
       "\n",
       "    .dataframe thead th {\n",
       "        text-align: right;\n",
       "    }\n",
       "</style>\n",
       "<table border=\"1\" class=\"dataframe\">\n",
       "  <thead>\n",
       "    <tr style=\"text-align: right;\">\n",
       "      <th></th>\n",
       "      <th>review_id</th>\n",
       "      <th>user_id</th>\n",
       "      <th>business_id</th>\n",
       "      <th>stars</th>\n",
       "      <th>date</th>\n",
       "      <th>text</th>\n",
       "      <th>cleaned_text</th>\n",
       "    </tr>\n",
       "  </thead>\n",
       "  <tbody>\n",
       "    <tr>\n",
       "      <td>0</td>\n",
       "      <td>vkVSCC7xljjrAI4UGfnKEQ</td>\n",
       "      <td>bv2nCi5Qv5vroFiqKGopiw</td>\n",
       "      <td>AEx2SYEUJmTxVVB18LlCwA</td>\n",
       "      <td>5</td>\n",
       "      <td>2016-05-28</td>\n",
       "      <td>Super simple place but amazing nonetheless. It...</td>\n",
       "      <td>super simple place amazing nonetheless serve t...</td>\n",
       "    </tr>\n",
       "    <tr>\n",
       "      <td>1</td>\n",
       "      <td>n6QzIUObkYshz4dz2QRJTw</td>\n",
       "      <td>bv2nCi5Qv5vroFiqKGopiw</td>\n",
       "      <td>VR6GpWIda3SfvPC-lg9H3w</td>\n",
       "      <td>5</td>\n",
       "      <td>2016-05-28</td>\n",
       "      <td>Small unassuming place that changes their menu...</td>\n",
       "      <td>small unassuming place changes menu cool decor...</td>\n",
       "    </tr>\n",
       "    <tr>\n",
       "      <td>2</td>\n",
       "      <td>MV3CcKScW05u5LVfF6ok0g</td>\n",
       "      <td>bv2nCi5Qv5vroFiqKGopiw</td>\n",
       "      <td>CKC0-MOWMqoeWf6s-szl8g</td>\n",
       "      <td>5</td>\n",
       "      <td>2016-05-28</td>\n",
       "      <td>Lester's is located in a beautiful neighborhoo...</td>\n",
       "      <td>lester located beautiful neighborhood 1951 kno...</td>\n",
       "    </tr>\n",
       "    <tr>\n",
       "      <td>3</td>\n",
       "      <td>IXvOzsEMYtiJI0CARmj77Q</td>\n",
       "      <td>bv2nCi5Qv5vroFiqKGopiw</td>\n",
       "      <td>ACFtxLv8pGrrxMm6EgjreA</td>\n",
       "      <td>4</td>\n",
       "      <td>2016-05-28</td>\n",
       "      <td>Love coming here. Yes the place always needs t...</td>\n",
       "      <td>love coming yes place needs floor swept peanut...</td>\n",
       "    </tr>\n",
       "    <tr>\n",
       "      <td>4</td>\n",
       "      <td>L_9BTb55X0GDtThi6GlZ6w</td>\n",
       "      <td>bv2nCi5Qv5vroFiqKGopiw</td>\n",
       "      <td>s2I_Ni76bjJNK9yG60iD-Q</td>\n",
       "      <td>4</td>\n",
       "      <td>2016-05-28</td>\n",
       "      <td>Had their chocolate almond croissant and it wa...</td>\n",
       "      <td>chocolate almond croissant amazing light butte...</td>\n",
       "    </tr>\n",
       "  </tbody>\n",
       "</table>\n",
       "</div>"
      ],
      "text/plain": [
       "                review_id                 user_id             business_id  \\\n",
       "0  vkVSCC7xljjrAI4UGfnKEQ  bv2nCi5Qv5vroFiqKGopiw  AEx2SYEUJmTxVVB18LlCwA   \n",
       "1  n6QzIUObkYshz4dz2QRJTw  bv2nCi5Qv5vroFiqKGopiw  VR6GpWIda3SfvPC-lg9H3w   \n",
       "2  MV3CcKScW05u5LVfF6ok0g  bv2nCi5Qv5vroFiqKGopiw  CKC0-MOWMqoeWf6s-szl8g   \n",
       "3  IXvOzsEMYtiJI0CARmj77Q  bv2nCi5Qv5vroFiqKGopiw  ACFtxLv8pGrrxMm6EgjreA   \n",
       "4  L_9BTb55X0GDtThi6GlZ6w  bv2nCi5Qv5vroFiqKGopiw  s2I_Ni76bjJNK9yG60iD-Q   \n",
       "\n",
       "   stars       date                                               text  \\\n",
       "0      5 2016-05-28  Super simple place but amazing nonetheless. It...   \n",
       "1      5 2016-05-28  Small unassuming place that changes their menu...   \n",
       "2      5 2016-05-28  Lester's is located in a beautiful neighborhoo...   \n",
       "3      4 2016-05-28  Love coming here. Yes the place always needs t...   \n",
       "4      4 2016-05-28  Had their chocolate almond croissant and it wa...   \n",
       "\n",
       "                                        cleaned_text  \n",
       "0  super simple place amazing nonetheless serve t...  \n",
       "1  small unassuming place changes menu cool decor...  \n",
       "2  lester located beautiful neighborhood 1951 kno...  \n",
       "3  love coming yes place needs floor swept peanut...  \n",
       "4  chocolate almond croissant amazing light butte...  "
      ]
     },
     "metadata": {},
     "output_type": "display_data"
    },
    {
     "data": {
      "text/plain": [
       "RangeIndex(start=0, stop=2027121, step=1)"
      ]
     },
     "execution_count": 49,
     "metadata": {},
     "output_type": "execute_result"
    }
   ],
   "source": [
    "#Reset index for review_nora\n",
    "\n",
    "review_nora = review_nora.reset_index(drop=True)\n",
    "display(review_nora.head())\n",
    "review_nora.index"
   ]
  },
  {
   "cell_type": "code",
   "execution_count": 94,
   "metadata": {
    "ExecuteTime": {
     "end_time": "2019-11-29T02:54:59.864677Z",
     "start_time": "2019-11-29T02:54:14.463428Z"
    }
   },
   "outputs": [],
   "source": [
    "#export the updated review_nora_cleaned 2019-11-28 to csv\n",
    "# review_nora_cleaned.to_csv('~/yelp/review_nora_cleaned_2019_11_28.csv')"
   ]
  },
  {
   "cell_type": "markdown",
   "metadata": {
    "heading_collapsed": true
   },
   "source": [
    "## Clean checkin files\n",
    "\n",
    "### Status: Done\n",
    "\n",
    "    1. Aggregate number of checkins by business id \n",
    "    \n",
    "\n",
    "### Final Variable Name: aggregate_checkins"
   ]
  },
  {
   "cell_type": "code",
   "execution_count": 51,
   "metadata": {
    "ExecuteTime": {
     "end_time": "2019-12-03T17:33:49.975812Z",
     "start_time": "2019-12-03T17:33:49.965138Z"
    },
    "hidden": true
   },
   "outputs": [
    {
     "data": {
      "text/html": [
       "<div>\n",
       "<style scoped>\n",
       "    .dataframe tbody tr th:only-of-type {\n",
       "        vertical-align: middle;\n",
       "    }\n",
       "\n",
       "    .dataframe tbody tr th {\n",
       "        vertical-align: top;\n",
       "    }\n",
       "\n",
       "    .dataframe thead th {\n",
       "        text-align: right;\n",
       "    }\n",
       "</style>\n",
       "<table border=\"1\" class=\"dataframe\">\n",
       "  <thead>\n",
       "    <tr style=\"text-align: right;\">\n",
       "      <th></th>\n",
       "      <th>business_id</th>\n",
       "      <th>weekday</th>\n",
       "      <th>hour</th>\n",
       "      <th>checkins</th>\n",
       "    </tr>\n",
       "  </thead>\n",
       "  <tbody>\n",
       "    <tr>\n",
       "      <td>0</td>\n",
       "      <td>3Mc-LxcqeguOXOVT_2ZtCg</td>\n",
       "      <td>Tue</td>\n",
       "      <td>0:00</td>\n",
       "      <td>12</td>\n",
       "    </tr>\n",
       "    <tr>\n",
       "      <td>1</td>\n",
       "      <td>SVFx6_epO22bZTZnKwlX7g</td>\n",
       "      <td>Wed</td>\n",
       "      <td>0:00</td>\n",
       "      <td>4</td>\n",
       "    </tr>\n",
       "    <tr>\n",
       "      <td>2</td>\n",
       "      <td>vW9aLivd4-IorAfStzsHww</td>\n",
       "      <td>Tue</td>\n",
       "      <td>14:00</td>\n",
       "      <td>1</td>\n",
       "    </tr>\n",
       "    <tr>\n",
       "      <td>3</td>\n",
       "      <td>tEzxhauTQddACyqdJ0OPEQ</td>\n",
       "      <td>Fri</td>\n",
       "      <td>19:00</td>\n",
       "      <td>1</td>\n",
       "    </tr>\n",
       "    <tr>\n",
       "      <td>4</td>\n",
       "      <td>CEyZU32P-vtMhgqRCaXzMA</td>\n",
       "      <td>Tue</td>\n",
       "      <td>17:00</td>\n",
       "      <td>1</td>\n",
       "    </tr>\n",
       "  </tbody>\n",
       "</table>\n",
       "</div>"
      ],
      "text/plain": [
       "              business_id weekday   hour  checkins\n",
       "0  3Mc-LxcqeguOXOVT_2ZtCg     Tue   0:00        12\n",
       "1  SVFx6_epO22bZTZnKwlX7g     Wed   0:00         4\n",
       "2  vW9aLivd4-IorAfStzsHww     Tue  14:00         1\n",
       "3  tEzxhauTQddACyqdJ0OPEQ     Fri  19:00         1\n",
       "4  CEyZU32P-vtMhgqRCaXzMA     Tue  17:00         1"
      ]
     },
     "execution_count": 51,
     "metadata": {},
     "output_type": "execute_result"
    }
   ],
   "source": [
    "checkin.head()"
   ]
  },
  {
   "cell_type": "code",
   "execution_count": 53,
   "metadata": {
    "ExecuteTime": {
     "end_time": "2019-12-03T17:34:26.269717Z",
     "start_time": "2019-12-03T17:34:24.435178Z"
    },
    "hidden": true
   },
   "outputs": [
    {
     "data": {
      "text/html": [
       "<div>\n",
       "<style scoped>\n",
       "    .dataframe tbody tr th:only-of-type {\n",
       "        vertical-align: middle;\n",
       "    }\n",
       "\n",
       "    .dataframe tbody tr th {\n",
       "        vertical-align: top;\n",
       "    }\n",
       "\n",
       "    .dataframe thead th {\n",
       "        text-align: right;\n",
       "    }\n",
       "</style>\n",
       "<table border=\"1\" class=\"dataframe\">\n",
       "  <thead>\n",
       "    <tr style=\"text-align: right;\">\n",
       "      <th></th>\n",
       "      <th>business_id</th>\n",
       "      <th>num_checkins</th>\n",
       "    </tr>\n",
       "  </thead>\n",
       "  <tbody>\n",
       "    <tr>\n",
       "      <td>0</td>\n",
       "      <td>--6MefnULPED_I942VcFNA</td>\n",
       "      <td>139</td>\n",
       "    </tr>\n",
       "    <tr>\n",
       "      <td>1</td>\n",
       "      <td>--7zmmkVg-IMGaXbuVd0SQ</td>\n",
       "      <td>153</td>\n",
       "    </tr>\n",
       "    <tr>\n",
       "      <td>2</td>\n",
       "      <td>--8LPVSo5i0Oo61X01sV9A</td>\n",
       "      <td>1</td>\n",
       "    </tr>\n",
       "    <tr>\n",
       "      <td>3</td>\n",
       "      <td>--9QQLMTbFzLJ_oT-ON3Xw</td>\n",
       "      <td>33</td>\n",
       "    </tr>\n",
       "    <tr>\n",
       "      <td>4</td>\n",
       "      <td>--9e1ONYQuAa-CB_Rrw7Tw</td>\n",
       "      <td>2568</td>\n",
       "    </tr>\n",
       "  </tbody>\n",
       "</table>\n",
       "</div>"
      ],
      "text/plain": [
       "              business_id  num_checkins\n",
       "0  --6MefnULPED_I942VcFNA           139\n",
       "1  --7zmmkVg-IMGaXbuVd0SQ           153\n",
       "2  --8LPVSo5i0Oo61X01sV9A             1\n",
       "3  --9QQLMTbFzLJ_oT-ON3Xw            33\n",
       "4  --9e1ONYQuAa-CB_Rrw7Tw          2568"
      ]
     },
     "execution_count": 53,
     "metadata": {},
     "output_type": "execute_result"
    }
   ],
   "source": [
    "aggregate_checkins = checkin.groupby('business_id').agg({'checkins':['sum']}).reset_index()\n",
    "aggregate_checkins.columns =['business_id','num_checkins']\n",
    "aggregate_checkins.head()"
   ]
  },
  {
   "cell_type": "markdown",
   "metadata": {
    "heading_collapsed": true
   },
   "source": [
    "# Convert Words to Numbers\n",
    "\n",
    "## Status: Done\n",
    "\n",
    "    1. Using Textblob to get the polarity and subjectivity\n",
    "    2. Get the length of each review text\n",
    "    3. Using VADER Packages to get the postive, neutral, negative sentiment in each review\n",
    "\n",
    "### Using Textblob to get the polarity and subjectivity in the sentence: Done\n"
   ]
  },
  {
   "cell_type": "code",
   "execution_count": 56,
   "metadata": {
    "ExecuteTime": {
     "end_time": "2019-12-03T18:05:03.408848Z",
     "start_time": "2019-12-03T17:36:40.259370Z"
    },
    "hidden": true,
    "scrolled": true
   },
   "outputs": [],
   "source": [
    "#Using Textblob to get polarity and subjectivity by sentence\n",
    "from textblob import TextBlob\n",
    "\n",
    "polarity = []\n",
    "subjectivity = []\n",
    "\n",
    "for n in range(review_nora.shape[0]):\n",
    "    \n",
    "    polar_score = TextBlob(review_nora['cleaned_text'][n]).sentiment[0]\n",
    "    subject_score = TextBlob(review_nora['cleaned_text'][n]).sentiment[1]\n",
    "    \n",
    "    polarity.append(polar_score)\n",
    "    subjectivity.append(subject_score)\n",
    "\n",
    "review_nora['polarity']=polarity\n",
    "review_nora['subjectivity']=subjectivity"
   ]
  },
  {
   "cell_type": "code",
   "execution_count": 13,
   "metadata": {
    "ExecuteTime": {
     "end_time": "2019-11-29T15:37:51.904805Z",
     "start_time": "2019-11-29T15:37:06.128474Z"
    },
    "hidden": true
   },
   "outputs": [],
   "source": [
    "#save the cleaned version to csv\n",
    "# review_nora.to_csv('~/yelp/cleaned_data/review_nora_cleaned_2019-11-29.csv', index=False)"
   ]
  },
  {
   "cell_type": "code",
   "execution_count": 57,
   "metadata": {
    "ExecuteTime": {
     "end_time": "2019-12-03T18:05:03.425846Z",
     "start_time": "2019-12-03T18:05:03.411462Z"
    },
    "hidden": true
   },
   "outputs": [
    {
     "data": {
      "text/html": [
       "<div>\n",
       "<style scoped>\n",
       "    .dataframe tbody tr th:only-of-type {\n",
       "        vertical-align: middle;\n",
       "    }\n",
       "\n",
       "    .dataframe tbody tr th {\n",
       "        vertical-align: top;\n",
       "    }\n",
       "\n",
       "    .dataframe thead th {\n",
       "        text-align: right;\n",
       "    }\n",
       "</style>\n",
       "<table border=\"1\" class=\"dataframe\">\n",
       "  <thead>\n",
       "    <tr style=\"text-align: right;\">\n",
       "      <th></th>\n",
       "      <th>review_id</th>\n",
       "      <th>user_id</th>\n",
       "      <th>business_id</th>\n",
       "      <th>stars</th>\n",
       "      <th>date</th>\n",
       "      <th>text</th>\n",
       "      <th>cleaned_text</th>\n",
       "      <th>polarity</th>\n",
       "      <th>subjectivity</th>\n",
       "    </tr>\n",
       "  </thead>\n",
       "  <tbody>\n",
       "    <tr>\n",
       "      <td>0</td>\n",
       "      <td>vkVSCC7xljjrAI4UGfnKEQ</td>\n",
       "      <td>bv2nCi5Qv5vroFiqKGopiw</td>\n",
       "      <td>AEx2SYEUJmTxVVB18LlCwA</td>\n",
       "      <td>5</td>\n",
       "      <td>2016-05-28</td>\n",
       "      <td>Super simple place but amazing nonetheless. It...</td>\n",
       "      <td>super simple place amazing nonetheless serve t...</td>\n",
       "      <td>0.327083</td>\n",
       "      <td>0.605952</td>\n",
       "    </tr>\n",
       "    <tr>\n",
       "      <td>1</td>\n",
       "      <td>n6QzIUObkYshz4dz2QRJTw</td>\n",
       "      <td>bv2nCi5Qv5vroFiqKGopiw</td>\n",
       "      <td>VR6GpWIda3SfvPC-lg9H3w</td>\n",
       "      <td>5</td>\n",
       "      <td>2016-05-28</td>\n",
       "      <td>Small unassuming place that changes their menu...</td>\n",
       "      <td>small unassuming place changes menu cool decor...</td>\n",
       "      <td>0.342857</td>\n",
       "      <td>0.571429</td>\n",
       "    </tr>\n",
       "  </tbody>\n",
       "</table>\n",
       "</div>"
      ],
      "text/plain": [
       "                review_id                 user_id             business_id  \\\n",
       "0  vkVSCC7xljjrAI4UGfnKEQ  bv2nCi5Qv5vroFiqKGopiw  AEx2SYEUJmTxVVB18LlCwA   \n",
       "1  n6QzIUObkYshz4dz2QRJTw  bv2nCi5Qv5vroFiqKGopiw  VR6GpWIda3SfvPC-lg9H3w   \n",
       "\n",
       "   stars       date                                               text  \\\n",
       "0      5 2016-05-28  Super simple place but amazing nonetheless. It...   \n",
       "1      5 2016-05-28  Small unassuming place that changes their menu...   \n",
       "\n",
       "                                        cleaned_text  polarity  subjectivity  \n",
       "0  super simple place amazing nonetheless serve t...  0.327083      0.605952  \n",
       "1  small unassuming place changes menu cool decor...  0.342857      0.571429  "
      ]
     },
     "execution_count": 57,
     "metadata": {},
     "output_type": "execute_result"
    }
   ],
   "source": [
    "review_nora.head(2)"
   ]
  },
  {
   "cell_type": "markdown",
   "metadata": {
    "hidden": true
   },
   "source": [
    "### Get the length of each review: Done\n"
   ]
  },
  {
   "cell_type": "code",
   "execution_count": 58,
   "metadata": {
    "ExecuteTime": {
     "end_time": "2019-12-03T18:05:03.435722Z",
     "start_time": "2019-12-03T18:05:03.428820Z"
    },
    "hidden": true
   },
   "outputs": [
    {
     "data": {
      "text/plain": [
       "'super simple place amazing nonetheless serve thing started bologna salami sandwich mustard staff helpful friendly'"
      ]
     },
     "metadata": {},
     "output_type": "display_data"
    },
    {
     "data": {
      "text/plain": [
       "15"
      ]
     },
     "execution_count": 58,
     "metadata": {},
     "output_type": "execute_result"
    }
   ],
   "source": [
    "# Testing on getting length of words in the review\n",
    "a= review_nora['cleaned_text'][0]\n",
    "display(a)\n",
    "len(a.split())\n"
   ]
  },
  {
   "cell_type": "code",
   "execution_count": 59,
   "metadata": {
    "ExecuteTime": {
     "end_time": "2019-12-03T18:05:50.289978Z",
     "start_time": "2019-12-03T18:05:03.437769Z"
    },
    "hidden": true
   },
   "outputs": [
    {
     "data": {
      "text/plain": [
       "(2027121, 9)"
      ]
     },
     "metadata": {},
     "output_type": "display_data"
    },
    {
     "data": {
      "text/plain": [
       "2027121"
      ]
     },
     "metadata": {},
     "output_type": "display_data"
    }
   ],
   "source": [
    "# getting the length of words for each row\n",
    "review_length = []\n",
    "\n",
    "for n in range(review_nora.shape[0]):\n",
    "    \n",
    "    length = len(review_nora['cleaned_text'][n].split())\n",
    "    \n",
    "    review_length.append(length)\n",
    "    \n",
    "\n",
    "#sanity check \n",
    "display(review_nora.shape)\n",
    "display(len(review_length))\n",
    "    "
   ]
  },
  {
   "cell_type": "code",
   "execution_count": 60,
   "metadata": {
    "ExecuteTime": {
     "end_time": "2019-12-03T18:05:50.666568Z",
     "start_time": "2019-12-03T18:05:50.292384Z"
    },
    "hidden": true
   },
   "outputs": [],
   "source": [
    "# Append the review_length to the review_nora_cleaned df\n",
    "review_nora['review_length']= review_length"
   ]
  },
  {
   "cell_type": "code",
   "execution_count": 61,
   "metadata": {
    "ExecuteTime": {
     "end_time": "2019-12-03T18:05:51.536553Z",
     "start_time": "2019-12-03T18:05:50.668648Z"
    },
    "hidden": true
   },
   "outputs": [
    {
     "data": {
      "image/png": "[encoded data removed]",
      "text/plain": [
       "<Figure size 576x360 with 1 Axes>"
      ]
     },
     "metadata": {
      "needs_background": "light"
     },
     "output_type": "display_data"
    }
   ],
   "source": [
    "# Visualize the distribution of review_length\n",
    "\n",
    "plt.figure(figsize=(8,5))\n",
    "plt.hist(review_length, edgecolor='black', bins =100)\n",
    "plt.title('Distribution of Review Text Length')\n",
    "plt.xlabel('Number of words')\n",
    "plt.ylabel('Frequency')\n",
    "plt.show()"
   ]
  },
  {
   "cell_type": "code",
   "execution_count": 45,
   "metadata": {
    "ExecuteTime": {
     "end_time": "2019-12-01T15:57:44.606923Z",
     "start_time": "2019-12-01T15:56:56.546093Z"
    },
    "hidden": true
   },
   "outputs": [],
   "source": [
    "# save the updated files to csv\n",
    "# review_nora_cleaned.to_csv('~/yelp/cleaned_data/review_nora_cleaned_2019-12-01.csv', index=False)"
   ]
  },
  {
   "cell_type": "markdown",
   "metadata": {
    "hidden": true
   },
   "source": [
    "### Change the text to sentiment using vader package\n",
    "\n",
    "\n",
    "VADER Sentiment Analysis\n",
    "VADER (Valence Aware Dictionary and sEntiment Reasoner) is a lexicon and rule-based sentiment analysis tool that is specifically attuned to sentiments expressed in social media. VADER uses a combination of A sentiment lexicon is a list of lexical features (e.g., words) which are generally labelled according to their semantic orientation as either positive or negative.\n",
    "VADER has been found to be quite successful when dealing with social media texts, NY Times editorials, movie reviews, and product reviews. This is because VADER not only tells about the Positivity and Negativity score but also tells us about how positive or negative a sentiment is.\n",
    "It is fully open-sourced under the MIT License. The developers of VADER have used Amazon’s Mechanical Turk to get most of their ratings, You can find complete details on their Github Page.\n",
    "\n",
    "ADER has a lot of advantages over traditional methods of Sentiment Analysis, including:\n",
    "It works exceedingly well on social media type text, yet readily generalizes to multiple domains\n",
    "It doesn’t require any training data but is constructed from a generalizable, valence-based, human-curated gold standard sentiment lexicon\n",
    "It is fast enough to be used online with streaming data, and\n",
    "It does not severely suffer from a speed-performance tradeoff.\n",
    "\n",
    "The Positive, Negative and Neutral scores represent the proportion of text that falls in these categories. This means our sentence was rated as 67% Positive, 33% Neutral and 0% Negative. Hence all these should add up to 1.\n",
    "The Compound score is a metric that calculates the sum of all the lexicon ratings which have been normalized between -1(most extreme negative) and +1 (most extreme positive). In the case above, lexicon ratings for andsupercool are 2.9and respectively1.3. The compound score turns out to be 0.75 , denoting a very high positive sentiment.\n",
    "\n",
    "compound score metric\n",
    "\n",
    "positive sentiment: compound score >= 0.05\n",
    "neutral sentiment: (compound score > -0.05) and (compound score < 0.05)\n",
    "negative sentiment: compound score <= -0.05"
   ]
  },
  {
   "cell_type": "code",
   "execution_count": 62,
   "metadata": {
    "ExecuteTime": {
     "end_time": "2019-12-03T18:05:51.558163Z",
     "start_time": "2019-12-03T18:05:51.539044Z"
    },
    "hidden": true
   },
   "outputs": [],
   "source": [
    "#import vader packages\n",
    "from vaderSentiment.vaderSentiment import SentimentIntensityAnalyzer\n",
    "analyser = SentimentIntensityAnalyzer()"
   ]
  },
  {
   "cell_type": "code",
   "execution_count": 63,
   "metadata": {
    "ExecuteTime": {
     "end_time": "2019-12-03T18:40:42.273692Z",
     "start_time": "2019-12-03T18:05:51.561235Z"
    },
    "hidden": true
   },
   "outputs": [],
   "source": [
    "# getting sentiment ratings from the text reviews and append each row as dictionary in the list l1\n",
    "l1=[]\n",
    "for j in range(review_nora.shape[0]):\n",
    "    l1.append(analyser.polarity_scores(review_nora['cleaned_text'][j]))\n",
    "\n"
   ]
  },
  {
   "cell_type": "code",
   "execution_count": 64,
   "metadata": {
    "ExecuteTime": {
     "end_time": "2019-12-03T18:40:42.280737Z",
     "start_time": "2019-12-03T18:40:42.276233Z"
    },
    "hidden": true
   },
   "outputs": [
    {
     "data": {
      "text/plain": [
       "2027121"
      ]
     },
     "execution_count": 64,
     "metadata": {},
     "output_type": "execute_result"
    }
   ],
   "source": [
    "# Sanity check on l1\n",
    "len(l1)"
   ]
  },
  {
   "cell_type": "code",
   "execution_count": 65,
   "metadata": {
    "ExecuteTime": {
     "end_time": "2019-12-03T18:40:44.298443Z",
     "start_time": "2019-12-03T18:40:42.282878Z"
    },
    "hidden": true
   },
   "outputs": [],
   "source": [
    "#change l1 to df and append to original review_nora_cleaned df\n",
    "\n",
    "l1_df=pd.DataFrame(l1, index= range(len(l1)))\n",
    "\n",
    "review_nora[['negative','neutral','positive','compound_score']]= l1_df"
   ]
  },
  {
   "cell_type": "code",
   "execution_count": 66,
   "metadata": {
    "ExecuteTime": {
     "end_time": "2019-12-03T18:40:44.318839Z",
     "start_time": "2019-12-03T18:40:44.300270Z"
    },
    "hidden": true
   },
   "outputs": [
    {
     "data": {
      "text/html": [
       "<div>\n",
       "<style scoped>\n",
       "    .dataframe tbody tr th:only-of-type {\n",
       "        vertical-align: middle;\n",
       "    }\n",
       "\n",
       "    .dataframe tbody tr th {\n",
       "        vertical-align: top;\n",
       "    }\n",
       "\n",
       "    .dataframe thead th {\n",
       "        text-align: right;\n",
       "    }\n",
       "</style>\n",
       "<table border=\"1\" class=\"dataframe\">\n",
       "  <thead>\n",
       "    <tr style=\"text-align: right;\">\n",
       "      <th></th>\n",
       "      <th>review_id</th>\n",
       "      <th>user_id</th>\n",
       "      <th>business_id</th>\n",
       "      <th>stars</th>\n",
       "      <th>date</th>\n",
       "      <th>text</th>\n",
       "      <th>cleaned_text</th>\n",
       "      <th>polarity</th>\n",
       "      <th>subjectivity</th>\n",
       "      <th>review_length</th>\n",
       "      <th>negative</th>\n",
       "      <th>neutral</th>\n",
       "      <th>positive</th>\n",
       "      <th>compound_score</th>\n",
       "    </tr>\n",
       "  </thead>\n",
       "  <tbody>\n",
       "    <tr>\n",
       "      <td>0</td>\n",
       "      <td>vkVSCC7xljjrAI4UGfnKEQ</td>\n",
       "      <td>bv2nCi5Qv5vroFiqKGopiw</td>\n",
       "      <td>AEx2SYEUJmTxVVB18LlCwA</td>\n",
       "      <td>5</td>\n",
       "      <td>2016-05-28</td>\n",
       "      <td>Super simple place but amazing nonetheless. It...</td>\n",
       "      <td>super simple place amazing nonetheless serve t...</td>\n",
       "      <td>0.327083</td>\n",
       "      <td>0.605952</td>\n",
       "      <td>15</td>\n",
       "      <td>0.0</td>\n",
       "      <td>0.445</td>\n",
       "      <td>0.555</td>\n",
       "      <td>0.9287</td>\n",
       "    </tr>\n",
       "    <tr>\n",
       "      <td>1</td>\n",
       "      <td>n6QzIUObkYshz4dz2QRJTw</td>\n",
       "      <td>bv2nCi5Qv5vroFiqKGopiw</td>\n",
       "      <td>VR6GpWIda3SfvPC-lg9H3w</td>\n",
       "      <td>5</td>\n",
       "      <td>2016-05-28</td>\n",
       "      <td>Small unassuming place that changes their menu...</td>\n",
       "      <td>small unassuming place changes menu cool decor...</td>\n",
       "      <td>0.342857</td>\n",
       "      <td>0.571429</td>\n",
       "      <td>41</td>\n",
       "      <td>0.0</td>\n",
       "      <td>0.802</td>\n",
       "      <td>0.198</td>\n",
       "      <td>0.8542</td>\n",
       "    </tr>\n",
       "  </tbody>\n",
       "</table>\n",
       "</div>"
      ],
      "text/plain": [
       "                review_id                 user_id             business_id  \\\n",
       "0  vkVSCC7xljjrAI4UGfnKEQ  bv2nCi5Qv5vroFiqKGopiw  AEx2SYEUJmTxVVB18LlCwA   \n",
       "1  n6QzIUObkYshz4dz2QRJTw  bv2nCi5Qv5vroFiqKGopiw  VR6GpWIda3SfvPC-lg9H3w   \n",
       "\n",
       "   stars       date                                               text  \\\n",
       "0      5 2016-05-28  Super simple place but amazing nonetheless. It...   \n",
       "1      5 2016-05-28  Small unassuming place that changes their menu...   \n",
       "\n",
       "                                        cleaned_text  polarity  subjectivity  \\\n",
       "0  super simple place amazing nonetheless serve t...  0.327083      0.605952   \n",
       "1  small unassuming place changes menu cool decor...  0.342857      0.571429   \n",
       "\n",
       "   review_length  negative  neutral  positive  compound_score  \n",
       "0             15       0.0    0.445     0.555          0.9287  \n",
       "1             41       0.0    0.802     0.198          0.8542  "
      ]
     },
     "execution_count": 66,
     "metadata": {},
     "output_type": "execute_result"
    }
   ],
   "source": [
    "#Sanity check\n",
    "review_nora.head(2)"
   ]
  },
  {
   "cell_type": "code",
   "execution_count": 122,
   "metadata": {
    "ExecuteTime": {
     "end_time": "2019-12-01T18:17:15.611489Z",
     "start_time": "2019-12-01T18:16:12.817201Z"
    },
    "hidden": true
   },
   "outputs": [],
   "source": [
    "#update the csv files\n",
    "\n",
    "# review_nora.to_csv('~/yelp/cleaned_data/review_nora_cleaned_2019-12-01.csv', index=False)"
   ]
  },
  {
   "cell_type": "code",
   "execution_count": 67,
   "metadata": {
    "ExecuteTime": {
     "end_time": "2019-12-03T18:43:30.789231Z",
     "start_time": "2019-12-03T18:43:20.880745Z"
    },
    "hidden": true
   },
   "outputs": [
    {
     "data": {
      "image/png": "[encoded data removed]",
      "text/plain": [
       "<Figure size 432x288 with 1 Axes>"
      ]
     },
     "metadata": {
      "needs_background": "light"
     },
     "output_type": "display_data"
    },
    {
     "data": {
      "image/png": "[encoded data removed]",
      "text/plain": [
       "<Figure size 432x288 with 1 Axes>"
      ]
     },
     "metadata": {
      "needs_background": "light"
     },
     "output_type": "display_data"
    }
   ],
   "source": [
    "# Explore the distribution of compound_score before grouping to Positive, Negative, and Netural\n",
    "\n",
    "plt.figure()\n",
    "sns.violinplot(review_nora['compound_score'])\n",
    "plt.show()\n",
    "\n",
    "plt.figure()\n",
    "plt.hist(review_nora['compound_score'], edgecolor='black', bins=200)\n",
    "plt.show()"
   ]
  },
  {
   "cell_type": "code",
   "execution_count": 68,
   "metadata": {
    "ExecuteTime": {
     "end_time": "2019-12-03T18:43:30.952639Z",
     "start_time": "2019-12-03T18:43:30.791408Z"
    },
    "hidden": true
   },
   "outputs": [
    {
     "data": {
      "image/png": "[encoded data removed]",
      "text/plain": [
       "<Figure size 432x288 with 1 Axes>"
      ]
     },
     "metadata": {
      "needs_background": "light"
     },
     "output_type": "display_data"
    }
   ],
   "source": [
    "# get value count for positive, netural, and negative reviews in the data\n",
    "\n",
    "pos = (review_nora['compound_score']>=0.05).sum()\n",
    "neg = (review_nora['compound_score']<=-0.05).sum()\n",
    "neu = ((review_nora['compound_score']>-0.05) & (review_nora['compound_score']<0.05)).sum()\n",
    "\n",
    "sentiment = ['Positive','Negative','Neutural']\n",
    "count =[pos, neg, neu]\n",
    "plt.figure()\n",
    "plt.bar(sentiment, count,edgecolor = 'black', color='orange')\n",
    "plt.title('Different Sentiment In the Data')\n",
    "plt.xlabel('Setinment Category')\n",
    "plt.ylabel('Frequency Count')\n",
    "plt.show()"
   ]
  },
  {
   "cell_type": "code",
   "execution_count": null,
   "metadata": {
    "hidden": true
   },
   "outputs": [],
   "source": [
    "#combined everything into big df. "
   ]
  },
  {
   "cell_type": "markdown",
   "metadata": {
    "heading_collapsed": true
   },
   "source": [
    "# Get the word cloud for each of the star ratings\n",
    "\n",
    "## Status: in progress\n",
    "\n",
    "    1. Parse out each star ratings with its related cleaned text\n",
    "    2. Word Cloud for each ratings. "
   ]
  },
  {
   "cell_type": "code",
   "execution_count": 69,
   "metadata": {
    "ExecuteTime": {
     "end_time": "2019-12-03T18:43:42.702975Z",
     "start_time": "2019-12-03T18:43:42.684492Z"
    },
    "hidden": true
   },
   "outputs": [
    {
     "data": {
      "text/plain": [
       "5    867773\n",
       "4    477345\n",
       "1    259211\n",
       "3    242712\n",
       "2    180080\n",
       "Name: stars, dtype: int64"
      ]
     },
     "execution_count": 69,
     "metadata": {},
     "output_type": "execute_result"
    }
   ],
   "source": [
    "#count how many for each star count\n",
    "review_nora['stars'].value_counts()"
   ]
  },
  {
   "cell_type": "code",
   "execution_count": 124,
   "metadata": {
    "ExecuteTime": {
     "end_time": "2019-12-01T18:21:51.091367Z",
     "start_time": "2019-12-01T18:21:49.941535Z"
    },
    "hidden": true
   },
   "outputs": [],
   "source": [
    "# Separate the stars and the text based on the ratings\n",
    "star_5 = review_nora_cleaned[review_nora_cleaned['stars']==5]['cleaned_text'].reset_index(drop=True)\n",
    "star_4 = review_nora_cleaned[review_nora_cleaned['stars']==4]['cleaned_text'].reset_index(drop=True)\n",
    "star_3 = review_nora_cleaned[review_nora_cleaned['stars']==3]['cleaned_text'].reset_index(drop=True)\n",
    "star_2 = review_nora_cleaned[review_nora_cleaned['stars']==2]['cleaned_text'].reset_index(drop=True)\n",
    "star_1 = review_nora_cleaned[review_nora_cleaned['stars']==1]['cleaned_text'].reset_index(drop=True)"
   ]
  },
  {
   "cell_type": "code",
   "execution_count": 130,
   "metadata": {
    "ExecuteTime": {
     "end_time": "2019-12-01T18:33:43.695056Z",
     "start_time": "2019-12-01T18:33:41.648542Z"
    },
    "hidden": true
   },
   "outputs": [],
   "source": [
    "# Combine text from each row to one single text\n",
    "star5text = star_5.str.cat(sep=' ')"
   ]
  },
  {
   "cell_type": "code",
   "execution_count": null,
   "metadata": {
    "ExecuteTime": {
     "end_time": "2019-12-01T19:37:43.665034Z",
     "start_time": "2019-12-01T19:35:01.173240Z"
    },
    "hidden": true
   },
   "outputs": [],
   "source": [
    "from wordcloud import WordCloud\n",
    "\n",
    "cloud = WordCloud(background_color=\"white\", max_words=100, max_font_size=50).generate(star5text)\n",
    "plt.figure(figsize=(20,20))\n",
    "plt.imshow(cloud, interpolation ='bilinear')\n",
    "plt.axis('off')\n",
    "plt.show()"
   ]
  },
  {
   "cell_type": "markdown",
   "metadata": {},
   "source": [
    "# Combining df"
   ]
  },
  {
   "cell_type": "markdown",
   "metadata": {},
   "source": [
    "## Create new df by combining different data\n",
    "\n",
    "### Status: Done\n",
    "\n",
    "### Final Variable: df\n",
    "\n",
    "Combined review_nora, aggregate_checkins, business_name, is_open from business to one single files"
   ]
  },
  {
   "cell_type": "code",
   "execution_count": 70,
   "metadata": {
    "ExecuteTime": {
     "end_time": "2019-12-03T18:43:54.745056Z",
     "start_time": "2019-12-03T18:43:54.728292Z"
    }
   },
   "outputs": [
    {
     "data": {
      "text/html": [
       "<div>\n",
       "<style scoped>\n",
       "    .dataframe tbody tr th:only-of-type {\n",
       "        vertical-align: middle;\n",
       "    }\n",
       "\n",
       "    .dataframe tbody tr th {\n",
       "        vertical-align: top;\n",
       "    }\n",
       "\n",
       "    .dataframe thead th {\n",
       "        text-align: right;\n",
       "    }\n",
       "</style>\n",
       "<table border=\"1\" class=\"dataframe\">\n",
       "  <thead>\n",
       "    <tr style=\"text-align: right;\">\n",
       "      <th></th>\n",
       "      <th>review_id</th>\n",
       "      <th>user_id</th>\n",
       "      <th>business_id</th>\n",
       "      <th>stars</th>\n",
       "      <th>date</th>\n",
       "      <th>text</th>\n",
       "      <th>cleaned_text</th>\n",
       "      <th>polarity</th>\n",
       "      <th>subjectivity</th>\n",
       "      <th>review_length</th>\n",
       "      <th>negative</th>\n",
       "      <th>neutral</th>\n",
       "      <th>positive</th>\n",
       "      <th>compound_score</th>\n",
       "    </tr>\n",
       "  </thead>\n",
       "  <tbody>\n",
       "    <tr>\n",
       "      <td>0</td>\n",
       "      <td>vkVSCC7xljjrAI4UGfnKEQ</td>\n",
       "      <td>bv2nCi5Qv5vroFiqKGopiw</td>\n",
       "      <td>AEx2SYEUJmTxVVB18LlCwA</td>\n",
       "      <td>5</td>\n",
       "      <td>2016-05-28</td>\n",
       "      <td>Super simple place but amazing nonetheless. It...</td>\n",
       "      <td>super simple place amazing nonetheless serve t...</td>\n",
       "      <td>0.327083</td>\n",
       "      <td>0.605952</td>\n",
       "      <td>15</td>\n",
       "      <td>0.0</td>\n",
       "      <td>0.445</td>\n",
       "      <td>0.555</td>\n",
       "      <td>0.9287</td>\n",
       "    </tr>\n",
       "    <tr>\n",
       "      <td>1</td>\n",
       "      <td>n6QzIUObkYshz4dz2QRJTw</td>\n",
       "      <td>bv2nCi5Qv5vroFiqKGopiw</td>\n",
       "      <td>VR6GpWIda3SfvPC-lg9H3w</td>\n",
       "      <td>5</td>\n",
       "      <td>2016-05-28</td>\n",
       "      <td>Small unassuming place that changes their menu...</td>\n",
       "      <td>small unassuming place changes menu cool decor...</td>\n",
       "      <td>0.342857</td>\n",
       "      <td>0.571429</td>\n",
       "      <td>41</td>\n",
       "      <td>0.0</td>\n",
       "      <td>0.802</td>\n",
       "      <td>0.198</td>\n",
       "      <td>0.8542</td>\n",
       "    </tr>\n",
       "  </tbody>\n",
       "</table>\n",
       "</div>"
      ],
      "text/plain": [
       "                review_id                 user_id             business_id  \\\n",
       "0  vkVSCC7xljjrAI4UGfnKEQ  bv2nCi5Qv5vroFiqKGopiw  AEx2SYEUJmTxVVB18LlCwA   \n",
       "1  n6QzIUObkYshz4dz2QRJTw  bv2nCi5Qv5vroFiqKGopiw  VR6GpWIda3SfvPC-lg9H3w   \n",
       "\n",
       "   stars       date                                               text  \\\n",
       "0      5 2016-05-28  Super simple place but amazing nonetheless. It...   \n",
       "1      5 2016-05-28  Small unassuming place that changes their menu...   \n",
       "\n",
       "                                        cleaned_text  polarity  subjectivity  \\\n",
       "0  super simple place amazing nonetheless serve t...  0.327083      0.605952   \n",
       "1  small unassuming place changes menu cool decor...  0.342857      0.571429   \n",
       "\n",
       "   review_length  negative  neutral  positive  compound_score  \n",
       "0             15       0.0    0.445     0.555          0.9287  \n",
       "1             41       0.0    0.802     0.198          0.8542  "
      ]
     },
     "execution_count": 70,
     "metadata": {},
     "output_type": "execute_result"
    }
   ],
   "source": [
    "review_nora.head(2)"
   ]
  },
  {
   "cell_type": "code",
   "execution_count": 71,
   "metadata": {
    "ExecuteTime": {
     "end_time": "2019-12-03T18:44:17.125090Z",
     "start_time": "2019-12-03T18:44:17.038696Z"
    }
   },
   "outputs": [
    {
     "data": {
      "text/html": [
       "<div>\n",
       "<style scoped>\n",
       "    .dataframe tbody tr th:only-of-type {\n",
       "        vertical-align: middle;\n",
       "    }\n",
       "\n",
       "    .dataframe tbody tr th {\n",
       "        vertical-align: top;\n",
       "    }\n",
       "\n",
       "    .dataframe thead th {\n",
       "        text-align: right;\n",
       "    }\n",
       "</style>\n",
       "<table border=\"1\" class=\"dataframe\">\n",
       "  <thead>\n",
       "    <tr style=\"text-align: right;\">\n",
       "      <th></th>\n",
       "      <th>business_id</th>\n",
       "      <th>name</th>\n",
       "      <th>review_count</th>\n",
       "      <th>is_open</th>\n",
       "      <th>stars</th>\n",
       "    </tr>\n",
       "  </thead>\n",
       "  <tbody>\n",
       "    <tr>\n",
       "      <td>0</td>\n",
       "      <td>FYWN1wneV18bWNgQjJ2GNg</td>\n",
       "      <td>\"Dental by Design\"</td>\n",
       "      <td>22</td>\n",
       "      <td>1</td>\n",
       "      <td>4.0</td>\n",
       "    </tr>\n",
       "    <tr>\n",
       "      <td>1</td>\n",
       "      <td>He-G7vWjzVUysIKrfNbPUQ</td>\n",
       "      <td>\"Stephen Szabo Salon\"</td>\n",
       "      <td>11</td>\n",
       "      <td>1</td>\n",
       "      <td>3.0</td>\n",
       "    </tr>\n",
       "  </tbody>\n",
       "</table>\n",
       "</div>"
      ],
      "text/plain": [
       "              business_id                   name  review_count  is_open  stars\n",
       "0  FYWN1wneV18bWNgQjJ2GNg     \"Dental by Design\"            22        1    4.0\n",
       "1  He-G7vWjzVUysIKrfNbPUQ  \"Stephen Szabo Salon\"            11        1    3.0"
      ]
     },
     "execution_count": 71,
     "metadata": {},
     "output_type": "execute_result"
    }
   ],
   "source": [
    "#subset business_id, name, review count, is_open, stars from business files\n",
    "business_subset = business[['business_id','name', 'review_count', 'is_open','stars']]\n",
    "business_subset.head(2)"
   ]
  },
  {
   "cell_type": "code",
   "execution_count": 72,
   "metadata": {
    "ExecuteTime": {
     "end_time": "2019-12-03T18:44:24.221586Z",
     "start_time": "2019-12-03T18:44:24.126711Z"
    }
   },
   "outputs": [
    {
     "data": {
      "text/html": [
       "<div>\n",
       "<style scoped>\n",
       "    .dataframe tbody tr th:only-of-type {\n",
       "        vertical-align: middle;\n",
       "    }\n",
       "\n",
       "    .dataframe tbody tr th {\n",
       "        vertical-align: top;\n",
       "    }\n",
       "\n",
       "    .dataframe thead th {\n",
       "        text-align: right;\n",
       "    }\n",
       "</style>\n",
       "<table border=\"1\" class=\"dataframe\">\n",
       "  <thead>\n",
       "    <tr style=\"text-align: right;\">\n",
       "      <th></th>\n",
       "      <th>business_id</th>\n",
       "      <th>name</th>\n",
       "      <th>review_count</th>\n",
       "      <th>is_open</th>\n",
       "      <th>stars</th>\n",
       "    </tr>\n",
       "  </thead>\n",
       "  <tbody>\n",
       "    <tr>\n",
       "      <td>0</td>\n",
       "      <td>FYWN1wneV18bWNgQjJ2GNg</td>\n",
       "      <td>Dental by Design</td>\n",
       "      <td>22</td>\n",
       "      <td>1</td>\n",
       "      <td>4.0</td>\n",
       "    </tr>\n",
       "    <tr>\n",
       "      <td>1</td>\n",
       "      <td>He-G7vWjzVUysIKrfNbPUQ</td>\n",
       "      <td>Stephen Szabo Salon</td>\n",
       "      <td>11</td>\n",
       "      <td>1</td>\n",
       "      <td>3.0</td>\n",
       "    </tr>\n",
       "  </tbody>\n",
       "</table>\n",
       "</div>"
      ],
      "text/plain": [
       "              business_id                 name  review_count  is_open  stars\n",
       "0  FYWN1wneV18bWNgQjJ2GNg     Dental by Design            22        1    4.0\n",
       "1  He-G7vWjzVUysIKrfNbPUQ  Stephen Szabo Salon            11        1    3.0"
      ]
     },
     "execution_count": 72,
     "metadata": {},
     "output_type": "execute_result"
    }
   ],
   "source": [
    "#remove \"\" in the name column for busines_subset\n",
    "business_subset['name']= business_subset['name'].apply(lambda x : x.replace('\"',''))\n",
    "\n",
    "business_subset.head(2)"
   ]
  },
  {
   "cell_type": "code",
   "execution_count": 73,
   "metadata": {
    "ExecuteTime": {
     "end_time": "2019-12-03T18:44:31.950140Z",
     "start_time": "2019-12-03T18:44:31.941271Z"
    }
   },
   "outputs": [
    {
     "data": {
      "text/html": [
       "<div>\n",
       "<style scoped>\n",
       "    .dataframe tbody tr th:only-of-type {\n",
       "        vertical-align: middle;\n",
       "    }\n",
       "\n",
       "    .dataframe tbody tr th {\n",
       "        vertical-align: top;\n",
       "    }\n",
       "\n",
       "    .dataframe thead th {\n",
       "        text-align: right;\n",
       "    }\n",
       "</style>\n",
       "<table border=\"1\" class=\"dataframe\">\n",
       "  <thead>\n",
       "    <tr style=\"text-align: right;\">\n",
       "      <th></th>\n",
       "      <th>business_id</th>\n",
       "      <th>num_checkins</th>\n",
       "    </tr>\n",
       "  </thead>\n",
       "  <tbody>\n",
       "    <tr>\n",
       "      <td>0</td>\n",
       "      <td>--6MefnULPED_I942VcFNA</td>\n",
       "      <td>139</td>\n",
       "    </tr>\n",
       "    <tr>\n",
       "      <td>1</td>\n",
       "      <td>--7zmmkVg-IMGaXbuVd0SQ</td>\n",
       "      <td>153</td>\n",
       "    </tr>\n",
       "  </tbody>\n",
       "</table>\n",
       "</div>"
      ],
      "text/plain": [
       "              business_id  num_checkins\n",
       "0  --6MefnULPED_I942VcFNA           139\n",
       "1  --7zmmkVg-IMGaXbuVd0SQ           153"
      ]
     },
     "execution_count": 73,
     "metadata": {},
     "output_type": "execute_result"
    }
   ],
   "source": [
    "aggregate_checkins.head(2)"
   ]
  },
  {
   "cell_type": "code",
   "execution_count": 74,
   "metadata": {
    "ExecuteTime": {
     "end_time": "2019-12-03T18:44:46.294030Z",
     "start_time": "2019-12-03T18:44:43.835259Z"
    }
   },
   "outputs": [],
   "source": [
    "# merge review_nora_cleaned with business_subset\n",
    "df = pd.merge(review_nora, business_subset, on = 'business_id', how='left')"
   ]
  },
  {
   "cell_type": "code",
   "execution_count": 75,
   "metadata": {
    "ExecuteTime": {
     "end_time": "2019-12-03T18:44:49.614587Z",
     "start_time": "2019-12-03T18:44:47.886557Z"
    }
   },
   "outputs": [
    {
     "data": {
      "text/html": [
       "<div>\n",
       "<style scoped>\n",
       "    .dataframe tbody tr th:only-of-type {\n",
       "        vertical-align: middle;\n",
       "    }\n",
       "\n",
       "    .dataframe tbody tr th {\n",
       "        vertical-align: top;\n",
       "    }\n",
       "\n",
       "    .dataframe thead th {\n",
       "        text-align: right;\n",
       "    }\n",
       "</style>\n",
       "<table border=\"1\" class=\"dataframe\">\n",
       "  <thead>\n",
       "    <tr style=\"text-align: right;\">\n",
       "      <th></th>\n",
       "      <th>review_id</th>\n",
       "      <th>user_id</th>\n",
       "      <th>business_id</th>\n",
       "      <th>stars_x</th>\n",
       "      <th>date</th>\n",
       "      <th>text</th>\n",
       "      <th>cleaned_text</th>\n",
       "      <th>polarity</th>\n",
       "      <th>subjectivity</th>\n",
       "      <th>review_length</th>\n",
       "      <th>negative</th>\n",
       "      <th>neutral</th>\n",
       "      <th>positive</th>\n",
       "      <th>compound_score</th>\n",
       "      <th>name</th>\n",
       "      <th>review_count</th>\n",
       "      <th>is_open</th>\n",
       "      <th>stars_y</th>\n",
       "      <th>num_checkins</th>\n",
       "    </tr>\n",
       "  </thead>\n",
       "  <tbody>\n",
       "    <tr>\n",
       "      <td>0</td>\n",
       "      <td>vkVSCC7xljjrAI4UGfnKEQ</td>\n",
       "      <td>bv2nCi5Qv5vroFiqKGopiw</td>\n",
       "      <td>AEx2SYEUJmTxVVB18LlCwA</td>\n",
       "      <td>5</td>\n",
       "      <td>2016-05-28</td>\n",
       "      <td>Super simple place but amazing nonetheless. It...</td>\n",
       "      <td>super simple place amazing nonetheless serve t...</td>\n",
       "      <td>0.327083</td>\n",
       "      <td>0.605952</td>\n",
       "      <td>15</td>\n",
       "      <td>0.000</td>\n",
       "      <td>0.445</td>\n",
       "      <td>0.555</td>\n",
       "      <td>0.9287</td>\n",
       "      <td>Wilensky's</td>\n",
       "      <td>84</td>\n",
       "      <td>1</td>\n",
       "      <td>4.0</td>\n",
       "      <td>119.0</td>\n",
       "    </tr>\n",
       "    <tr>\n",
       "      <td>1</td>\n",
       "      <td>n6QzIUObkYshz4dz2QRJTw</td>\n",
       "      <td>bv2nCi5Qv5vroFiqKGopiw</td>\n",
       "      <td>VR6GpWIda3SfvPC-lg9H3w</td>\n",
       "      <td>5</td>\n",
       "      <td>2016-05-28</td>\n",
       "      <td>Small unassuming place that changes their menu...</td>\n",
       "      <td>small unassuming place changes menu cool decor...</td>\n",
       "      <td>0.342857</td>\n",
       "      <td>0.571429</td>\n",
       "      <td>41</td>\n",
       "      <td>0.000</td>\n",
       "      <td>0.802</td>\n",
       "      <td>0.198</td>\n",
       "      <td>0.8542</td>\n",
       "      <td>Tuck Shop</td>\n",
       "      <td>50</td>\n",
       "      <td>1</td>\n",
       "      <td>4.5</td>\n",
       "      <td>62.0</td>\n",
       "    </tr>\n",
       "    <tr>\n",
       "      <td>2</td>\n",
       "      <td>MV3CcKScW05u5LVfF6ok0g</td>\n",
       "      <td>bv2nCi5Qv5vroFiqKGopiw</td>\n",
       "      <td>CKC0-MOWMqoeWf6s-szl8g</td>\n",
       "      <td>5</td>\n",
       "      <td>2016-05-28</td>\n",
       "      <td>Lester's is located in a beautiful neighborhoo...</td>\n",
       "      <td>lester located beautiful neighborhood 1951 kno...</td>\n",
       "      <td>0.425000</td>\n",
       "      <td>0.525000</td>\n",
       "      <td>24</td>\n",
       "      <td>0.000</td>\n",
       "      <td>0.855</td>\n",
       "      <td>0.145</td>\n",
       "      <td>0.5994</td>\n",
       "      <td>Lester's Deli</td>\n",
       "      <td>70</td>\n",
       "      <td>1</td>\n",
       "      <td>4.0</td>\n",
       "      <td>72.0</td>\n",
       "    </tr>\n",
       "    <tr>\n",
       "      <td>3</td>\n",
       "      <td>IXvOzsEMYtiJI0CARmj77Q</td>\n",
       "      <td>bv2nCi5Qv5vroFiqKGopiw</td>\n",
       "      <td>ACFtxLv8pGrrxMm6EgjreA</td>\n",
       "      <td>4</td>\n",
       "      <td>2016-05-28</td>\n",
       "      <td>Love coming here. Yes the place always needs t...</td>\n",
       "      <td>love coming yes place needs floor swept peanut...</td>\n",
       "      <td>0.070000</td>\n",
       "      <td>0.495385</td>\n",
       "      <td>44</td>\n",
       "      <td>0.053</td>\n",
       "      <td>0.716</td>\n",
       "      <td>0.231</td>\n",
       "      <td>0.8658</td>\n",
       "      <td>Five Guys</td>\n",
       "      <td>61</td>\n",
       "      <td>1</td>\n",
       "      <td>3.5</td>\n",
       "      <td>89.0</td>\n",
       "    </tr>\n",
       "    <tr>\n",
       "      <td>4</td>\n",
       "      <td>L_9BTb55X0GDtThi6GlZ6w</td>\n",
       "      <td>bv2nCi5Qv5vroFiqKGopiw</td>\n",
       "      <td>s2I_Ni76bjJNK9yG60iD-Q</td>\n",
       "      <td>4</td>\n",
       "      <td>2016-05-28</td>\n",
       "      <td>Had their chocolate almond croissant and it wa...</td>\n",
       "      <td>chocolate almond croissant amazing light butte...</td>\n",
       "      <td>0.500000</td>\n",
       "      <td>0.700000</td>\n",
       "      <td>17</td>\n",
       "      <td>0.000</td>\n",
       "      <td>0.667</td>\n",
       "      <td>0.333</td>\n",
       "      <td>0.8176</td>\n",
       "      <td>Maison Christian Faure</td>\n",
       "      <td>397</td>\n",
       "      <td>1</td>\n",
       "      <td>4.5</td>\n",
       "      <td>755.0</td>\n",
       "    </tr>\n",
       "  </tbody>\n",
       "</table>\n",
       "</div>"
      ],
      "text/plain": [
       "                review_id                 user_id             business_id  \\\n",
       "0  vkVSCC7xljjrAI4UGfnKEQ  bv2nCi5Qv5vroFiqKGopiw  AEx2SYEUJmTxVVB18LlCwA   \n",
       "1  n6QzIUObkYshz4dz2QRJTw  bv2nCi5Qv5vroFiqKGopiw  VR6GpWIda3SfvPC-lg9H3w   \n",
       "2  MV3CcKScW05u5LVfF6ok0g  bv2nCi5Qv5vroFiqKGopiw  CKC0-MOWMqoeWf6s-szl8g   \n",
       "3  IXvOzsEMYtiJI0CARmj77Q  bv2nCi5Qv5vroFiqKGopiw  ACFtxLv8pGrrxMm6EgjreA   \n",
       "4  L_9BTb55X0GDtThi6GlZ6w  bv2nCi5Qv5vroFiqKGopiw  s2I_Ni76bjJNK9yG60iD-Q   \n",
       "\n",
       "   stars_x       date                                               text  \\\n",
       "0        5 2016-05-28  Super simple place but amazing nonetheless. It...   \n",
       "1        5 2016-05-28  Small unassuming place that changes their menu...   \n",
       "2        5 2016-05-28  Lester's is located in a beautiful neighborhoo...   \n",
       "3        4 2016-05-28  Love coming here. Yes the place always needs t...   \n",
       "4        4 2016-05-28  Had their chocolate almond croissant and it wa...   \n",
       "\n",
       "                                        cleaned_text  polarity  subjectivity  \\\n",
       "0  super simple place amazing nonetheless serve t...  0.327083      0.605952   \n",
       "1  small unassuming place changes menu cool decor...  0.342857      0.571429   \n",
       "2  lester located beautiful neighborhood 1951 kno...  0.425000      0.525000   \n",
       "3  love coming yes place needs floor swept peanut...  0.070000      0.495385   \n",
       "4  chocolate almond croissant amazing light butte...  0.500000      0.700000   \n",
       "\n",
       "   review_length  negative  neutral  positive  compound_score  \\\n",
       "0             15     0.000    0.445     0.555          0.9287   \n",
       "1             41     0.000    0.802     0.198          0.8542   \n",
       "2             24     0.000    0.855     0.145          0.5994   \n",
       "3             44     0.053    0.716     0.231          0.8658   \n",
       "4             17     0.000    0.667     0.333          0.8176   \n",
       "\n",
       "                     name  review_count  is_open  stars_y  num_checkins  \n",
       "0              Wilensky's            84        1      4.0         119.0  \n",
       "1               Tuck Shop            50        1      4.5          62.0  \n",
       "2           Lester's Deli            70        1      4.0          72.0  \n",
       "3               Five Guys            61        1      3.5          89.0  \n",
       "4  Maison Christian Faure           397        1      4.5         755.0  "
      ]
     },
     "execution_count": 75,
     "metadata": {},
     "output_type": "execute_result"
    }
   ],
   "source": [
    "# merge df with aggregate_checkins\n",
    "df = pd.merge(df, aggregate_checkins, on = 'business_id', how='left')\n",
    "\n",
    "df.head()"
   ]
  },
  {
   "cell_type": "code",
   "execution_count": 78,
   "metadata": {
    "ExecuteTime": {
     "end_time": "2019-12-03T18:45:35.462784Z",
     "start_time": "2019-12-03T18:45:35.457887Z"
    }
   },
   "outputs": [
    {
     "data": {
      "text/plain": [
       "Index(['review_id', 'user_id', 'business_id', 'star_individual', 'date',\n",
       "       'text', 'cleaned_text', 'polarity', 'subjectivity', 'review_length',\n",
       "       'negative', 'neutral', 'positive', 'compound_score', 'name',\n",
       "       'review_count', 'is_open', 'business_stars', 'num_checkins'],\n",
       "      dtype='object')"
      ]
     },
     "execution_count": 78,
     "metadata": {},
     "output_type": "execute_result"
    }
   ],
   "source": [
    "# rename the column\n",
    "df.columns"
   ]
  },
  {
   "cell_type": "code",
   "execution_count": 77,
   "metadata": {
    "ExecuteTime": {
     "end_time": "2019-12-03T18:45:30.511878Z",
     "start_time": "2019-12-03T18:45:30.507882Z"
    }
   },
   "outputs": [],
   "source": [
    "df.columns=['review_id',           'user_id',       'business_id', \\\n",
    "            'star_individual',        'date',              'text', \\\n",
    "            'cleaned_text',          'polarity',      'subjectivity', \\\n",
    "           'review_length',          'negative',           'neutral', \\\n",
    "                'positive',    'compound_score',              'name', \\\n",
    "            'review_count',           'is_open',           'business_stars', \\\n",
    "           'num_checkins']"
   ]
  },
  {
   "cell_type": "code",
   "execution_count": 80,
   "metadata": {
    "ExecuteTime": {
     "end_time": "2019-12-03T19:05:27.527369Z",
     "start_time": "2019-12-03T19:04:11.541733Z"
    }
   },
   "outputs": [
    {
     "data": {
      "text/html": [
       "<div>\n",
       "<style scoped>\n",
       "    .dataframe tbody tr th:only-of-type {\n",
       "        vertical-align: middle;\n",
       "    }\n",
       "\n",
       "    .dataframe tbody tr th {\n",
       "        vertical-align: top;\n",
       "    }\n",
       "\n",
       "    .dataframe thead th {\n",
       "        text-align: right;\n",
       "    }\n",
       "</style>\n",
       "<table border=\"1\" class=\"dataframe\">\n",
       "  <thead>\n",
       "    <tr style=\"text-align: right;\">\n",
       "      <th></th>\n",
       "      <th>review_id</th>\n",
       "      <th>user_id</th>\n",
       "      <th>business_id</th>\n",
       "      <th>star_individual</th>\n",
       "      <th>date</th>\n",
       "      <th>text</th>\n",
       "      <th>cleaned_text</th>\n",
       "      <th>polarity</th>\n",
       "      <th>subjectivity</th>\n",
       "      <th>review_length</th>\n",
       "      <th>negative</th>\n",
       "      <th>neutral</th>\n",
       "      <th>positive</th>\n",
       "      <th>compound_score</th>\n",
       "      <th>name</th>\n",
       "      <th>review_count</th>\n",
       "      <th>is_open</th>\n",
       "      <th>business_stars</th>\n",
       "      <th>num_checkins</th>\n",
       "    </tr>\n",
       "  </thead>\n",
       "  <tbody>\n",
       "    <tr>\n",
       "      <td>0</td>\n",
       "      <td>vkVSCC7xljjrAI4UGfnKEQ</td>\n",
       "      <td>bv2nCi5Qv5vroFiqKGopiw</td>\n",
       "      <td>AEx2SYEUJmTxVVB18LlCwA</td>\n",
       "      <td>5</td>\n",
       "      <td>2016-05-28</td>\n",
       "      <td>Super simple place but amazing nonetheless. It...</td>\n",
       "      <td>super simple place amazing nonetheless serve t...</td>\n",
       "      <td>0.327083</td>\n",
       "      <td>0.605952</td>\n",
       "      <td>15</td>\n",
       "      <td>0.0</td>\n",
       "      <td>0.445</td>\n",
       "      <td>0.555</td>\n",
       "      <td>0.9287</td>\n",
       "      <td>Wilensky's</td>\n",
       "      <td>84</td>\n",
       "      <td>1</td>\n",
       "      <td>4.0</td>\n",
       "      <td>119.0</td>\n",
       "    </tr>\n",
       "    <tr>\n",
       "      <td>1</td>\n",
       "      <td>n6QzIUObkYshz4dz2QRJTw</td>\n",
       "      <td>bv2nCi5Qv5vroFiqKGopiw</td>\n",
       "      <td>VR6GpWIda3SfvPC-lg9H3w</td>\n",
       "      <td>5</td>\n",
       "      <td>2016-05-28</td>\n",
       "      <td>Small unassuming place that changes their menu...</td>\n",
       "      <td>small unassuming place changes menu cool decor...</td>\n",
       "      <td>0.342857</td>\n",
       "      <td>0.571429</td>\n",
       "      <td>41</td>\n",
       "      <td>0.0</td>\n",
       "      <td>0.802</td>\n",
       "      <td>0.198</td>\n",
       "      <td>0.8542</td>\n",
       "      <td>Tuck Shop</td>\n",
       "      <td>50</td>\n",
       "      <td>1</td>\n",
       "      <td>4.5</td>\n",
       "      <td>62.0</td>\n",
       "    </tr>\n",
       "  </tbody>\n",
       "</table>\n",
       "</div>"
      ],
      "text/plain": [
       "                review_id                 user_id             business_id  \\\n",
       "0  vkVSCC7xljjrAI4UGfnKEQ  bv2nCi5Qv5vroFiqKGopiw  AEx2SYEUJmTxVVB18LlCwA   \n",
       "1  n6QzIUObkYshz4dz2QRJTw  bv2nCi5Qv5vroFiqKGopiw  VR6GpWIda3SfvPC-lg9H3w   \n",
       "\n",
       "   star_individual       date  \\\n",
       "0                5 2016-05-28   \n",
       "1                5 2016-05-28   \n",
       "\n",
       "                                                text  \\\n",
       "0  Super simple place but amazing nonetheless. It...   \n",
       "1  Small unassuming place that changes their menu...   \n",
       "\n",
       "                                        cleaned_text  polarity  subjectivity  \\\n",
       "0  super simple place amazing nonetheless serve t...  0.327083      0.605952   \n",
       "1  small unassuming place changes menu cool decor...  0.342857      0.571429   \n",
       "\n",
       "   review_length  negative  neutral  positive  compound_score        name  \\\n",
       "0             15       0.0    0.445     0.555          0.9287  Wilensky's   \n",
       "1             41       0.0    0.802     0.198          0.8542   Tuck Shop   \n",
       "\n",
       "   review_count  is_open  business_stars  num_checkins  \n",
       "0            84        1             4.0         119.0  \n",
       "1            50        1             4.5          62.0  "
      ]
     },
     "execution_count": 80,
     "metadata": {},
     "output_type": "execute_result"
    }
   ],
   "source": [
    "df.to_csv('~/yelp/review_final.csv', index=False)\n",
    "df.head(2)"
   ]
  },
  {
   "cell_type": "code",
   "execution_count": 90,
   "metadata": {
    "ExecuteTime": {
     "end_time": "2019-12-03T19:36:01.318932Z",
     "start_time": "2019-12-03T19:36:01.162384Z"
    }
   },
   "outputs": [
    {
     "data": {
      "text/html": [
       "<div>\n",
       "<style scoped>\n",
       "    .dataframe tbody tr th:only-of-type {\n",
       "        vertical-align: middle;\n",
       "    }\n",
       "\n",
       "    .dataframe tbody tr th {\n",
       "        vertical-align: top;\n",
       "    }\n",
       "\n",
       "    .dataframe thead th {\n",
       "        text-align: right;\n",
       "    }\n",
       "</style>\n",
       "<table border=\"1\" class=\"dataframe\">\n",
       "  <thead>\n",
       "    <tr style=\"text-align: right;\">\n",
       "      <th></th>\n",
       "      <th>cleaned_text</th>\n",
       "      <th>polarity</th>\n",
       "      <th>subjectivity</th>\n",
       "      <th>review_length</th>\n",
       "      <th>negative</th>\n",
       "      <th>neutral</th>\n",
       "      <th>positive</th>\n",
       "      <th>compound_score</th>\n",
       "      <th>review_count</th>\n",
       "      <th>num_checkins</th>\n",
       "    </tr>\n",
       "  </thead>\n",
       "  <tbody>\n",
       "    <tr>\n",
       "      <td>0</td>\n",
       "      <td>super simple place amazing nonetheless serve t...</td>\n",
       "      <td>0.327083</td>\n",
       "      <td>0.605952</td>\n",
       "      <td>15</td>\n",
       "      <td>0.0</td>\n",
       "      <td>0.445</td>\n",
       "      <td>0.555</td>\n",
       "      <td>0.9287</td>\n",
       "      <td>84</td>\n",
       "      <td>119.0</td>\n",
       "    </tr>\n",
       "    <tr>\n",
       "      <td>1</td>\n",
       "      <td>small unassuming place changes menu cool decor...</td>\n",
       "      <td>0.342857</td>\n",
       "      <td>0.571429</td>\n",
       "      <td>41</td>\n",
       "      <td>0.0</td>\n",
       "      <td>0.802</td>\n",
       "      <td>0.198</td>\n",
       "      <td>0.8542</td>\n",
       "      <td>50</td>\n",
       "      <td>62.0</td>\n",
       "    </tr>\n",
       "  </tbody>\n",
       "</table>\n",
       "</div>"
      ],
      "text/plain": [
       "                                        cleaned_text  polarity  subjectivity  \\\n",
       "0  super simple place amazing nonetheless serve t...  0.327083      0.605952   \n",
       "1  small unassuming place changes menu cool decor...  0.342857      0.571429   \n",
       "\n",
       "   review_length  negative  neutral  positive  compound_score  review_count  \\\n",
       "0             15       0.0    0.445     0.555          0.9287            84   \n",
       "1             41       0.0    0.802     0.198          0.8542            50   \n",
       "\n",
       "   num_checkins  \n",
       "0         119.0  \n",
       "1          62.0  "
      ]
     },
     "execution_count": 90,
     "metadata": {},
     "output_type": "execute_result"
    }
   ],
   "source": [
    "df[['cleaned_text',          'polarity',      'subjectivity', \\\n",
    "           'review_length',          'negative',           'neutral', \\\n",
    "                'positive',    'compound_score',              \\\n",
    "            'review_count',           \\\n",
    "           'num_checkins']].head(2)"
   ]
  },
  {
   "cell_type": "code",
   "execution_count": 4,
   "metadata": {
    "ExecuteTime": {
     "end_time": "2019-12-03T01:04:40.806545Z",
     "start_time": "2019-12-03T01:04:39.451345Z"
    }
   },
   "outputs": [
    {
     "data": {
      "image/png": "[encoded data removed]",
      "text/plain": [
       "<Figure size 432x288 with 2 Axes>"
      ]
     },
     "metadata": {
      "needs_background": "light"
     },
     "output_type": "display_data"
    },
    {
     "data": {
      "text/html": [
       "<div>\n",
       "<style scoped>\n",
       "    .dataframe tbody tr th:only-of-type {\n",
       "        vertical-align: middle;\n",
       "    }\n",
       "\n",
       "    .dataframe tbody tr th {\n",
       "        vertical-align: top;\n",
       "    }\n",
       "\n",
       "    .dataframe thead th {\n",
       "        text-align: right;\n",
       "    }\n",
       "</style>\n",
       "<table border=\"1\" class=\"dataframe\">\n",
       "  <thead>\n",
       "    <tr style=\"text-align: right;\">\n",
       "      <th></th>\n",
       "      <th>polarity</th>\n",
       "      <th>subjectivity</th>\n",
       "      <th>review_length</th>\n",
       "      <th>negative</th>\n",
       "      <th>neutral</th>\n",
       "      <th>positive</th>\n",
       "      <th>compound_score</th>\n",
       "      <th>review_count</th>\n",
       "      <th>num_checkins</th>\n",
       "    </tr>\n",
       "  </thead>\n",
       "  <tbody>\n",
       "    <tr>\n",
       "      <td>polarity</td>\n",
       "      <td>1.000000</td>\n",
       "      <td>0.245347</td>\n",
       "      <td>-0.188277</td>\n",
       "      <td>-0.613318</td>\n",
       "      <td>-0.460344</td>\n",
       "      <td>0.715677</td>\n",
       "      <td>0.637224</td>\n",
       "      <td>0.055156</td>\n",
       "      <td>0.044022</td>\n",
       "    </tr>\n",
       "    <tr>\n",
       "      <td>subjectivity</td>\n",
       "      <td>0.245347</td>\n",
       "      <td>1.000000</td>\n",
       "      <td>-0.124951</td>\n",
       "      <td>-0.010044</td>\n",
       "      <td>-0.381878</td>\n",
       "      <td>0.334163</td>\n",
       "      <td>0.135592</td>\n",
       "      <td>0.017107</td>\n",
       "      <td>0.007665</td>\n",
       "    </tr>\n",
       "    <tr>\n",
       "      <td>review_length</td>\n",
       "      <td>-0.188277</td>\n",
       "      <td>-0.124951</td>\n",
       "      <td>1.000000</td>\n",
       "      <td>0.028958</td>\n",
       "      <td>0.312269</td>\n",
       "      <td>-0.284045</td>\n",
       "      <td>0.111392</td>\n",
       "      <td>0.025378</td>\n",
       "      <td>0.010345</td>\n",
       "    </tr>\n",
       "    <tr>\n",
       "      <td>negative</td>\n",
       "      <td>-0.613318</td>\n",
       "      <td>-0.010044</td>\n",
       "      <td>0.028958</td>\n",
       "      <td>1.000000</td>\n",
       "      <td>-0.014208</td>\n",
       "      <td>-0.508120</td>\n",
       "      <td>-0.733804</td>\n",
       "      <td>-0.023117</td>\n",
       "      <td>-0.014925</td>\n",
       "    </tr>\n",
       "    <tr>\n",
       "      <td>neutral</td>\n",
       "      <td>-0.460344</td>\n",
       "      <td>-0.381878</td>\n",
       "      <td>0.312269</td>\n",
       "      <td>-0.014208</td>\n",
       "      <td>1.000000</td>\n",
       "      <td>-0.853977</td>\n",
       "      <td>-0.304740</td>\n",
       "      <td>-0.026670</td>\n",
       "      <td>-0.027011</td>\n",
       "    </tr>\n",
       "    <tr>\n",
       "      <td>positive</td>\n",
       "      <td>0.715677</td>\n",
       "      <td>0.334163</td>\n",
       "      <td>-0.284045</td>\n",
       "      <td>-0.508120</td>\n",
       "      <td>-0.853977</td>\n",
       "      <td>1.000000</td>\n",
       "      <td>0.644340</td>\n",
       "      <td>0.035005</td>\n",
       "      <td>0.031035</td>\n",
       "    </tr>\n",
       "    <tr>\n",
       "      <td>compound_score</td>\n",
       "      <td>0.637224</td>\n",
       "      <td>0.135592</td>\n",
       "      <td>0.111392</td>\n",
       "      <td>-0.733804</td>\n",
       "      <td>-0.304740</td>\n",
       "      <td>0.644340</td>\n",
       "      <td>1.000000</td>\n",
       "      <td>0.054417</td>\n",
       "      <td>0.040125</td>\n",
       "    </tr>\n",
       "    <tr>\n",
       "      <td>review_count</td>\n",
       "      <td>0.055156</td>\n",
       "      <td>0.017107</td>\n",
       "      <td>0.025378</td>\n",
       "      <td>-0.023117</td>\n",
       "      <td>-0.026670</td>\n",
       "      <td>0.035005</td>\n",
       "      <td>0.054417</td>\n",
       "      <td>1.000000</td>\n",
       "      <td>0.886773</td>\n",
       "    </tr>\n",
       "    <tr>\n",
       "      <td>num_checkins</td>\n",
       "      <td>0.044022</td>\n",
       "      <td>0.007665</td>\n",
       "      <td>0.010345</td>\n",
       "      <td>-0.014925</td>\n",
       "      <td>-0.027011</td>\n",
       "      <td>0.031035</td>\n",
       "      <td>0.040125</td>\n",
       "      <td>0.886773</td>\n",
       "      <td>1.000000</td>\n",
       "    </tr>\n",
       "  </tbody>\n",
       "</table>\n",
       "</div>"
      ],
      "text/plain": [
       "                polarity  subjectivity  review_length  negative   neutral  \\\n",
       "polarity        1.000000      0.245347      -0.188277 -0.613318 -0.460344   \n",
       "subjectivity    0.245347      1.000000      -0.124951 -0.010044 -0.381878   \n",
       "review_length  -0.188277     -0.124951       1.000000  0.028958  0.312269   \n",
       "negative       -0.613318     -0.010044       0.028958  1.000000 -0.014208   \n",
       "neutral        -0.460344     -0.381878       0.312269 -0.014208  1.000000   \n",
       "positive        0.715677      0.334163      -0.284045 -0.508120 -0.853977   \n",
       "compound_score  0.637224      0.135592       0.111392 -0.733804 -0.304740   \n",
       "review_count    0.055156      0.017107       0.025378 -0.023117 -0.026670   \n",
       "num_checkins    0.044022      0.007665       0.010345 -0.014925 -0.027011   \n",
       "\n",
       "                positive  compound_score  review_count  num_checkins  \n",
       "polarity        0.715677        0.637224      0.055156      0.044022  \n",
       "subjectivity    0.334163        0.135592      0.017107      0.007665  \n",
       "review_length  -0.284045        0.111392      0.025378      0.010345  \n",
       "negative       -0.508120       -0.733804     -0.023117     -0.014925  \n",
       "neutral        -0.853977       -0.304740     -0.026670     -0.027011  \n",
       "positive        1.000000        0.644340      0.035005      0.031035  \n",
       "compound_score  0.644340        1.000000      0.054417      0.040125  \n",
       "review_count    0.035005        0.054417      1.000000      0.886773  \n",
       "num_checkins    0.031035        0.040125      0.886773      1.000000  "
      ]
     },
     "execution_count": 4,
     "metadata": {},
     "output_type": "execute_result"
    }
   ],
   "source": [
    "# check on coorelations\n",
    "\n",
    "df_subset =df[['polarity','subjectivity','review_length','negative','neutral','positive', 'compound_score','review_count',\n",
    "              'num_checkins']]\n",
    "\n",
    "df_subset_corr = df_subset.corr()\n",
    "\n",
    "#visulize correlation matrix in heatmap\n",
    "plt.figure()\n",
    "sns.heatmap(df_subset_corr, vmin=-1, vmax=1, cmap='PiYG_r')\n",
    "plt.show()\n",
    "\n",
    "\n",
    "df_subset_corr"
   ]
  },
  {
   "cell_type": "code",
   "execution_count": 37,
   "metadata": {
    "ExecuteTime": {
     "end_time": "2019-12-04T00:49:47.549372Z",
     "start_time": "2019-12-04T00:49:46.630527Z"
    }
   },
   "outputs": [
    {
     "data": {
      "text/plain": [
       "review_id             0\n",
       "user_id               0\n",
       "business_id           0\n",
       "star_individual       0\n",
       "date                  0\n",
       "text                  0\n",
       "cleaned_text         16\n",
       "polarity              0\n",
       "subjectivity          0\n",
       "review_length         0\n",
       "negative              0\n",
       "neutral               0\n",
       "positive              0\n",
       "compound_score        0\n",
       "name                  0\n",
       "review_count          0\n",
       "is_open               0\n",
       "business_stars        0\n",
       "num_checkins       5736\n",
       "dtype: int64"
      ]
     },
     "execution_count": 37,
     "metadata": {},
     "output_type": "execute_result"
    }
   ],
   "source": [
    "# check on missing values\n",
    "df.isnull().sum()"
   ]
  },
  {
   "cell_type": "code",
   "execution_count": 44,
   "metadata": {
    "ExecuteTime": {
     "end_time": "2019-12-04T00:53:40.891269Z",
     "start_time": "2019-12-04T00:53:40.811519Z"
    }
   },
   "outputs": [
    {
     "data": {
      "text/plain": [
       "count    2021385.000000\n",
       "mean        1275.963367\n",
       "std         2800.091761\n",
       "min            1.000000\n",
       "25%          116.000000\n",
       "50%          394.000000\n",
       "75%         1199.000000\n",
       "max        32393.000000\n",
       "Name: num_checkins, dtype: object"
      ]
     },
     "execution_count": 44,
     "metadata": {},
     "output_type": "execute_result"
    }
   ],
   "source": [
    "#check on describe stats for num_checkins\n",
    "df['num_checkins'].describe().apply(lambda x: format(x, 'f'))"
   ]
  },
  {
   "cell_type": "code",
   "execution_count": 45,
   "metadata": {
    "ExecuteTime": {
     "end_time": "2019-12-04T00:53:44.905882Z",
     "start_time": "2019-12-04T00:53:44.822909Z"
    }
   },
   "outputs": [
    {
     "data": {
      "text/plain": [
       "count    2027121.000000\n",
       "mean        1272.352864\n",
       "std         2796.948686\n",
       "min            0.000000\n",
       "25%          114.000000\n",
       "50%          391.000000\n",
       "75%         1191.000000\n",
       "max        32393.000000\n",
       "Name: num_checkins, dtype: object"
      ]
     },
     "execution_count": 45,
     "metadata": {},
     "output_type": "execute_result"
    }
   ],
   "source": [
    "# Replace num_checkins for missing as 0. In the data not every restaurants have check ins. Therefore, replace with 0 for nan\n",
    "df['num_checkins'] = np.where(df['num_checkins'].isnull(),0, df['num_checkins'])\n",
    "df['num_checkins'].describe().apply(lambda x: format(x, 'f'))"
   ]
  },
  {
   "cell_type": "code",
   "execution_count": 47,
   "metadata": {
    "ExecuteTime": {
     "end_time": "2019-12-04T00:56:20.088817Z",
     "start_time": "2019-12-04T00:56:17.021134Z"
    }
   },
   "outputs": [
    {
     "data": {
      "text/plain": [
       "(2027105, 19)"
      ]
     },
     "metadata": {},
     "output_type": "display_data"
    },
    {
     "data": {
      "text/plain": [
       "review_id          0\n",
       "user_id            0\n",
       "business_id        0\n",
       "star_individual    0\n",
       "date               0\n",
       "text               0\n",
       "cleaned_text       0\n",
       "polarity           0\n",
       "subjectivity       0\n",
       "review_length      0\n",
       "negative           0\n",
       "neutral            0\n",
       "positive           0\n",
       "compound_score     0\n",
       "name               0\n",
       "review_count       0\n",
       "is_open            0\n",
       "business_stars     0\n",
       "num_checkins       0\n",
       "dtype: int64"
      ]
     },
     "execution_count": 47,
     "metadata": {},
     "output_type": "execute_result"
    }
   ],
   "source": [
    "# drop the 16 missing values for cleaned text\n",
    "\n",
    "df = df.dropna(axis=0).reset_index(drop=True)\n",
    "\n",
    "#sanity check\n",
    "display(df.shape)\n",
    "df.isnull().sum()"
   ]
  },
  {
   "cell_type": "code",
   "execution_count": 51,
   "metadata": {
    "ExecuteTime": {
     "end_time": "2019-12-04T00:59:16.949407Z",
     "start_time": "2019-12-04T00:58:09.725728Z"
    }
   },
   "outputs": [],
   "source": [
    "# Save the final df \n",
    "\n",
    "df.to_csv('~/yelp/review_final.csv', index=False)"
   ]
  },
  {
   "cell_type": "markdown",
   "metadata": {},
   "source": [
    "# Train Test Split \n",
    "\n",
    "1. Setting up X and y. Two different y. y1 = business_stars, y2=is_open\n",
    "2. Train test split"
   ]
  },
  {
   "cell_type": "code",
   "execution_count": 24,
   "metadata": {
    "ExecuteTime": {
     "end_time": "2019-12-04T02:35:17.563681Z",
     "start_time": "2019-12-04T02:35:17.318650Z"
    }
   },
   "outputs": [],
   "source": [
    "# Setting up X and y1  - Using sentiment and other numeric data to get business_stars\n",
    "\n",
    "#X combine cleaned_text with numeric data\n",
    "\n",
    "X = df[['cleaned_text','polarity', 'subjectivity', 'review_length', \\\n",
    "       'negative', 'neutral', 'positive', 'compound_score','review_count','num_checkins']]\n",
    "\n",
    "# X1 all numeric data. \n",
    "X1 = df[['polarity', 'subjectivity', 'review_length', \\\n",
    "       'negative', 'neutral', 'positive', 'compound_score','review_count','num_checkins']]\n",
    "\n",
    "#X2 cleaned_text only\n",
    "X2 = df[['cleaned_text']]\n",
    "\n",
    "\n",
    "#y1 is the stars ratings for each reviewer\n",
    "y1 = df['star_individual']\n",
    "\n",
    "\n",
    "# y2 is whether the business is still open\n",
    "y2 = df['is_open']"
   ]
  },
  {
   "cell_type": "code",
   "execution_count": 53,
   "metadata": {
    "ExecuteTime": {
     "end_time": "2019-12-04T00:59:24.923967Z",
     "start_time": "2019-12-04T00:59:24.902841Z"
    }
   },
   "outputs": [
    {
     "data": {
      "text/plain": [
       "5    867766\n",
       "4    477343\n",
       "1    259209\n",
       "3    242712\n",
       "2    180075\n",
       "Name: star_individual, dtype: int64"
      ]
     },
     "execution_count": 53,
     "metadata": {},
     "output_type": "execute_result"
    }
   ],
   "source": [
    "# Check on y1 for number of different classes\n",
    "y1.value_counts()\n",
    "#y1 has imbalance between each ratings"
   ]
  },
  {
   "cell_type": "code",
   "execution_count": 54,
   "metadata": {
    "ExecuteTime": {
     "end_time": "2019-12-04T00:59:27.480299Z",
     "start_time": "2019-12-04T00:59:27.457261Z"
    }
   },
   "outputs": [
    {
     "data": {
      "text/plain": [
       "1    1881387\n",
       "0     145718\n",
       "Name: is_open, dtype: int64"
      ]
     },
     "execution_count": 54,
     "metadata": {},
     "output_type": "execute_result"
    }
   ],
   "source": [
    "# Check on y2 for number of different classes\n",
    "y2.value_counts()\n",
    "\n",
    "# y2 has imbalance between open and close"
   ]
  },
  {
   "cell_type": "markdown",
   "metadata": {},
   "source": [
    "##  Combination X1 -y1 numeric with star ratings"
   ]
  },
  {
   "cell_type": "code",
   "execution_count": 33,
   "metadata": {
    "ExecuteTime": {
     "end_time": "2019-12-04T02:38:24.605807Z",
     "start_time": "2019-12-04T02:38:23.281259Z"
    }
   },
   "outputs": [],
   "source": [
    "# split the X1- y1 data into train_test split set up test_size to be 0.3\n",
    "from sklearn.model_selection import train_test_split\n",
    "X_train_1, X_test_1, y_train_1, y_test_1 = train_test_split(X1, y1, test_size=0.3, random_state=15, stratify = y1)"
   ]
  },
  {
   "cell_type": "markdown",
   "metadata": {},
   "source": [
    "##  Combination X2 -y1 clean_text with star ratings"
   ]
  },
  {
   "cell_type": "code",
   "execution_count": 32,
   "metadata": {
    "ExecuteTime": {
     "end_time": "2019-12-04T02:38:20.758102Z",
     "start_time": "2019-12-04T02:38:19.433487Z"
    }
   },
   "outputs": [],
   "source": [
    "# split the X2- y1 data into train_test split set up test_size to be 0.3\n",
    "\n",
    "X_train_2, X_test_2, y_train_2, y_test_2 = train_test_split(X2, y1, test_size=0.3, random_state=15, stratify = y1)"
   ]
  },
  {
   "cell_type": "markdown",
   "metadata": {},
   "source": [
    "##  Combination X -y1 combination text and numeric with star ratings"
   ]
  },
  {
   "cell_type": "code",
   "execution_count": 31,
   "metadata": {
    "ExecuteTime": {
     "end_time": "2019-12-04T02:38:17.776554Z",
     "start_time": "2019-12-04T02:38:15.753550Z"
    }
   },
   "outputs": [],
   "source": [
    "# split the X- y1 data into train_test split set up test_size to be 0.3\n",
    "\n",
    "X_train, X_test, y_train_3, y_test_2 = train_test_split(X, y1, test_size=0.3, random_state=15, stratify = y1)"
   ]
  },
  {
   "cell_type": "markdown",
   "metadata": {},
   "source": [
    "## Combination X1 -y2 combination text and numeric with star ratings"
   ]
  },
  {
   "cell_type": "code",
   "execution_count": 30,
   "metadata": {
    "ExecuteTime": {
     "end_time": "2019-12-04T02:38:14.016275Z",
     "start_time": "2019-12-04T02:38:12.794042Z"
    }
   },
   "outputs": [],
   "source": [
    "# split the X1- y2 data into train_test split set up test_size to be 0.3\n",
    "\n",
    "X_train_con, X_test_con, y_train_con, y_test_con = train_test_split(X1, y2, test_size=0.3, random_state=15, stratify = y2)"
   ]
  },
  {
   "cell_type": "markdown",
   "metadata": {},
   "source": [
    "##  Modeling - Logistic Regression Combination X1-y1"
   ]
  },
  {
   "cell_type": "code",
   "execution_count": 64,
   "metadata": {
    "ExecuteTime": {
     "end_time": "2019-12-04T01:12:06.631051Z",
     "start_time": "2019-12-04T01:11:04.115259Z"
    }
   },
   "outputs": [
    {
     "name": "stdout",
     "output_type": "stream",
     "text": [
      "Train Data Score for Log with X1-y1: 0.5086366849266655\n",
      "Test Data Score for Log with X1-y1: 0.5089192684002422\n"
     ]
    }
   ],
   "source": [
    "#Logistic regression with Numeric data and star ratings \n",
    "from sklearn.linear_model import LogisticRegression\n",
    "log_num = LogisticRegression(solver='lbfgs').fit(X_train_1,y_train_1)\n",
    "\n",
    "#get the accuracy score\n",
    "print(f'Train Data Score for Log with X1-y1: {log_num.score(X_train_1, y_train_1)}')\n",
    "print(f'Test Data Score for Log with X1-y1: {log_num.score(X_test_1, y_test_2)}')\n"
   ]
  },
  {
   "cell_type": "code",
   "execution_count": 36,
   "metadata": {
    "ExecuteTime": {
     "end_time": "2019-12-04T02:42:13.794470Z",
     "start_time": "2019-12-04T02:41:52.995569Z"
    }
   },
   "outputs": [
    {
     "name": "stdout",
     "output_type": "stream",
     "text": [
      "Train Data Score for Log with X1-y2: 0.9281149112773815\n",
      "Test Data Score for Log with X1-y2: 0.9281159353561398\n"
     ]
    }
   ],
   "source": [
    "# Logistic Regression with numeric data and business continuity\n",
    "from sklearn.linear_model import LogisticRegression\n",
    "log_num2 = LogisticRegression().fit(X_train_con,y_train_con)\n",
    "\n",
    "#get the accuracy score\n",
    "print(f'Train Data Score for Log with X1-y2: {log_num2.score(X_train_con, y_train_con)}')\n",
    "print(f'Test Data Score for Log with X1-y2: {log_num2.score(X_test_con, y_test_con)}')\n"
   ]
  },
  {
   "cell_type": "markdown",
   "metadata": {
    "ExecuteTime": {
     "end_time": "2019-12-04T01:03:13.934643Z",
     "start_time": "2019-12-04T01:03:13.919954Z"
    }
   },
   "source": [
    "## Modeling -bag of words - Logistic Regression Combination X2-y1 "
   ]
  },
  {
   "cell_type": "code",
   "execution_count": 43,
   "metadata": {
    "ExecuteTime": {
     "end_time": "2019-12-04T02:55:06.735220Z",
     "start_time": "2019-12-04T02:55:06.714983Z"
    }
   },
   "outputs": [
    {
     "data": {
      "text/html": [
       "<div>\n",
       "<style scoped>\n",
       "    .dataframe tbody tr th:only-of-type {\n",
       "        vertical-align: middle;\n",
       "    }\n",
       "\n",
       "    .dataframe tbody tr th {\n",
       "        vertical-align: top;\n",
       "    }\n",
       "\n",
       "    .dataframe thead th {\n",
       "        text-align: right;\n",
       "    }\n",
       "</style>\n",
       "<table border=\"1\" class=\"dataframe\">\n",
       "  <thead>\n",
       "    <tr style=\"text-align: right;\">\n",
       "      <th></th>\n",
       "      <th>review_id</th>\n",
       "      <th>user_id</th>\n",
       "      <th>business_id</th>\n",
       "      <th>star_individual</th>\n",
       "      <th>date</th>\n",
       "      <th>text</th>\n",
       "      <th>cleaned_text</th>\n",
       "      <th>polarity</th>\n",
       "      <th>subjectivity</th>\n",
       "      <th>review_length</th>\n",
       "      <th>negative</th>\n",
       "      <th>neutral</th>\n",
       "      <th>positive</th>\n",
       "      <th>compound_score</th>\n",
       "      <th>name</th>\n",
       "      <th>review_count</th>\n",
       "      <th>is_open</th>\n",
       "      <th>business_stars</th>\n",
       "      <th>num_checkins</th>\n",
       "    </tr>\n",
       "  </thead>\n",
       "  <tbody>\n",
       "    <tr>\n",
       "      <td>0</td>\n",
       "      <td>vkVSCC7xljjrAI4UGfnKEQ</td>\n",
       "      <td>bv2nCi5Qv5vroFiqKGopiw</td>\n",
       "      <td>AEx2SYEUJmTxVVB18LlCwA</td>\n",
       "      <td>5</td>\n",
       "      <td>2016-05-28</td>\n",
       "      <td>Super simple place but amazing nonetheless. It...</td>\n",
       "      <td>super simple place amazing nonetheless serve t...</td>\n",
       "      <td>0.327083</td>\n",
       "      <td>0.605952</td>\n",
       "      <td>15</td>\n",
       "      <td>0.000</td>\n",
       "      <td>0.445</td>\n",
       "      <td>0.555</td>\n",
       "      <td>0.9287</td>\n",
       "      <td>Wilensky's</td>\n",
       "      <td>84</td>\n",
       "      <td>1</td>\n",
       "      <td>4.0</td>\n",
       "      <td>119.0</td>\n",
       "    </tr>\n",
       "    <tr>\n",
       "      <td>1</td>\n",
       "      <td>n6QzIUObkYshz4dz2QRJTw</td>\n",
       "      <td>bv2nCi5Qv5vroFiqKGopiw</td>\n",
       "      <td>VR6GpWIda3SfvPC-lg9H3w</td>\n",
       "      <td>5</td>\n",
       "      <td>2016-05-28</td>\n",
       "      <td>Small unassuming place that changes their menu...</td>\n",
       "      <td>small unassuming place changes menu cool decor...</td>\n",
       "      <td>0.342857</td>\n",
       "      <td>0.571429</td>\n",
       "      <td>41</td>\n",
       "      <td>0.000</td>\n",
       "      <td>0.802</td>\n",
       "      <td>0.198</td>\n",
       "      <td>0.8542</td>\n",
       "      <td>Tuck Shop</td>\n",
       "      <td>50</td>\n",
       "      <td>1</td>\n",
       "      <td>4.5</td>\n",
       "      <td>62.0</td>\n",
       "    </tr>\n",
       "    <tr>\n",
       "      <td>2</td>\n",
       "      <td>MV3CcKScW05u5LVfF6ok0g</td>\n",
       "      <td>bv2nCi5Qv5vroFiqKGopiw</td>\n",
       "      <td>CKC0-MOWMqoeWf6s-szl8g</td>\n",
       "      <td>5</td>\n",
       "      <td>2016-05-28</td>\n",
       "      <td>Lester's is located in a beautiful neighborhoo...</td>\n",
       "      <td>lester located beautiful neighborhood 1951 kno...</td>\n",
       "      <td>0.425000</td>\n",
       "      <td>0.525000</td>\n",
       "      <td>24</td>\n",
       "      <td>0.000</td>\n",
       "      <td>0.855</td>\n",
       "      <td>0.145</td>\n",
       "      <td>0.5994</td>\n",
       "      <td>Lester's Deli</td>\n",
       "      <td>70</td>\n",
       "      <td>1</td>\n",
       "      <td>4.0</td>\n",
       "      <td>72.0</td>\n",
       "    </tr>\n",
       "    <tr>\n",
       "      <td>3</td>\n",
       "      <td>IXvOzsEMYtiJI0CARmj77Q</td>\n",
       "      <td>bv2nCi5Qv5vroFiqKGopiw</td>\n",
       "      <td>ACFtxLv8pGrrxMm6EgjreA</td>\n",
       "      <td>4</td>\n",
       "      <td>2016-05-28</td>\n",
       "      <td>Love coming here. Yes the place always needs t...</td>\n",
       "      <td>love coming yes place needs floor swept peanut...</td>\n",
       "      <td>0.070000</td>\n",
       "      <td>0.495385</td>\n",
       "      <td>44</td>\n",
       "      <td>0.053</td>\n",
       "      <td>0.716</td>\n",
       "      <td>0.231</td>\n",
       "      <td>0.8658</td>\n",
       "      <td>Five Guys</td>\n",
       "      <td>61</td>\n",
       "      <td>1</td>\n",
       "      <td>3.5</td>\n",
       "      <td>89.0</td>\n",
       "    </tr>\n",
       "    <tr>\n",
       "      <td>4</td>\n",
       "      <td>L_9BTb55X0GDtThi6GlZ6w</td>\n",
       "      <td>bv2nCi5Qv5vroFiqKGopiw</td>\n",
       "      <td>s2I_Ni76bjJNK9yG60iD-Q</td>\n",
       "      <td>4</td>\n",
       "      <td>2016-05-28</td>\n",
       "      <td>Had their chocolate almond croissant and it wa...</td>\n",
       "      <td>chocolate almond croissant amazing light butte...</td>\n",
       "      <td>0.500000</td>\n",
       "      <td>0.700000</td>\n",
       "      <td>17</td>\n",
       "      <td>0.000</td>\n",
       "      <td>0.667</td>\n",
       "      <td>0.333</td>\n",
       "      <td>0.8176</td>\n",
       "      <td>Maison Christian Faure</td>\n",
       "      <td>397</td>\n",
       "      <td>1</td>\n",
       "      <td>4.5</td>\n",
       "      <td>755.0</td>\n",
       "    </tr>\n",
       "  </tbody>\n",
       "</table>\n",
       "</div>"
      ],
      "text/plain": [
       "                review_id                 user_id             business_id  \\\n",
       "0  vkVSCC7xljjrAI4UGfnKEQ  bv2nCi5Qv5vroFiqKGopiw  AEx2SYEUJmTxVVB18LlCwA   \n",
       "1  n6QzIUObkYshz4dz2QRJTw  bv2nCi5Qv5vroFiqKGopiw  VR6GpWIda3SfvPC-lg9H3w   \n",
       "2  MV3CcKScW05u5LVfF6ok0g  bv2nCi5Qv5vroFiqKGopiw  CKC0-MOWMqoeWf6s-szl8g   \n",
       "3  IXvOzsEMYtiJI0CARmj77Q  bv2nCi5Qv5vroFiqKGopiw  ACFtxLv8pGrrxMm6EgjreA   \n",
       "4  L_9BTb55X0GDtThi6GlZ6w  bv2nCi5Qv5vroFiqKGopiw  s2I_Ni76bjJNK9yG60iD-Q   \n",
       "\n",
       "   star_individual        date  \\\n",
       "0                5  2016-05-28   \n",
       "1                5  2016-05-28   \n",
       "2                5  2016-05-28   \n",
       "3                4  2016-05-28   \n",
       "4                4  2016-05-28   \n",
       "\n",
       "                                                text  \\\n",
       "0  Super simple place but amazing nonetheless. It...   \n",
       "1  Small unassuming place that changes their menu...   \n",
       "2  Lester's is located in a beautiful neighborhoo...   \n",
       "3  Love coming here. Yes the place always needs t...   \n",
       "4  Had their chocolate almond croissant and it wa...   \n",
       "\n",
       "                                        cleaned_text  polarity  subjectivity  \\\n",
       "0  super simple place amazing nonetheless serve t...  0.327083      0.605952   \n",
       "1  small unassuming place changes menu cool decor...  0.342857      0.571429   \n",
       "2  lester located beautiful neighborhood 1951 kno...  0.425000      0.525000   \n",
       "3  love coming yes place needs floor swept peanut...  0.070000      0.495385   \n",
       "4  chocolate almond croissant amazing light butte...  0.500000      0.700000   \n",
       "\n",
       "   review_length  negative  neutral  positive  compound_score  \\\n",
       "0             15     0.000    0.445     0.555          0.9287   \n",
       "1             41     0.000    0.802     0.198          0.8542   \n",
       "2             24     0.000    0.855     0.145          0.5994   \n",
       "3             44     0.053    0.716     0.231          0.8658   \n",
       "4             17     0.000    0.667     0.333          0.8176   \n",
       "\n",
       "                     name  review_count  is_open  business_stars  num_checkins  \n",
       "0              Wilensky's            84        1             4.0         119.0  \n",
       "1               Tuck Shop            50        1             4.5          62.0  \n",
       "2           Lester's Deli            70        1             4.0          72.0  \n",
       "3               Five Guys            61        1             3.5          89.0  \n",
       "4  Maison Christian Faure           397        1             4.5         755.0  "
      ]
     },
     "execution_count": 43,
     "metadata": {},
     "output_type": "execute_result"
    }
   ],
   "source": [
    "df.head()"
   ]
  },
  {
   "cell_type": "code",
   "execution_count": 54,
   "metadata": {
    "ExecuteTime": {
     "end_time": "2019-12-04T03:00:56.547194Z",
     "start_time": "2019-12-04T03:00:56.540776Z"
    }
   },
   "outputs": [
    {
     "data": {
      "text/plain": [
       "pandas.core.series.Series"
      ]
     },
     "execution_count": 54,
     "metadata": {},
     "output_type": "execute_result"
    }
   ],
   "source": [
    "# Change cleaned_text to bag of words\n",
    "a = df.iloc[:50000,:]['cleaned_text']\n",
    "b = df.iloc[50000:100000,:]['cleaned_text']\n",
    "type(a)"
   ]
  },
  {
   "cell_type": "code",
   "execution_count": 69,
   "metadata": {
    "ExecuteTime": {
     "end_time": "2019-12-04T03:13:49.579094Z",
     "start_time": "2019-12-04T03:13:49.572592Z"
    }
   },
   "outputs": [
    {
     "data": {
      "text/plain": [
       "review_id                                     PK49MJcsccRXF2H-jO1dbA\n",
       "user_id                                       yHbrIShhhHkkl20_KGP4OA\n",
       "business_id                                   CVKOPzBVOj3_apFUmZ9ZWw\n",
       "star_individual                                                    4\n",
       "date                                                      2016-11-18\n",
       "text               「 炸魚跟薯條 Fish & Chips？不會吧？特別來到 賭城 Las Vegas 你要帶...\n",
       "cleaned_text       「 炸魚跟薯條 fish chips？不會吧？特別來到 las vegas 你要帶我們來吃這...\n",
       "polarity                                                        0.16\n",
       "subjectivity                                                    0.54\n",
       "review_length                                                     27\n",
       "negative                                                           0\n",
       "neutral                                                            1\n",
       "positive                                                           0\n",
       "compound_score                                                     0\n",
       "name                                      Gordon Ramsay Fish & Chips\n",
       "review_count                                                     635\n",
       "is_open                                                            1\n",
       "business_stars                                                     4\n",
       "num_checkins                                                    1263\n",
       "Name: 45000, dtype: object"
      ]
     },
     "execution_count": 69,
     "metadata": {},
     "output_type": "execute_result"
    }
   ],
   "source": [
    "df.iloc[45000]"
   ]
  },
  {
   "cell_type": "code",
   "execution_count": 70,
   "metadata": {
    "ExecuteTime": {
     "end_time": "2019-12-04T03:14:04.392399Z",
     "start_time": "2019-12-04T03:14:04.349544Z"
    }
   },
   "outputs": [],
   "source": [
    "subset = df[df['neutral']==1]"
   ]
  },
  {
   "cell_type": "code",
   "execution_count": 71,
   "metadata": {
    "ExecuteTime": {
     "end_time": "2019-12-04T03:14:19.448078Z",
     "start_time": "2019-12-04T03:14:19.443788Z"
    }
   },
   "outputs": [
    {
     "data": {
      "text/plain": [
       "(19999, 19)"
      ]
     },
     "execution_count": 71,
     "metadata": {},
     "output_type": "execute_result"
    }
   ],
   "source": [
    "subset.shape"
   ]
  },
  {
   "cell_type": "code",
   "execution_count": 73,
   "metadata": {
    "ExecuteTime": {
     "end_time": "2019-12-04T03:16:31.510950Z",
     "start_time": "2019-12-04T03:16:31.380275Z"
    }
   },
   "outputs": [],
   "source": [
    "subset['cleaned_text'].to_csv('~/yelp/subset.csv')"
   ]
  },
  {
   "cell_type": "code",
   "execution_count": 45,
   "metadata": {
    "ExecuteTime": {
     "end_time": "2019-12-04T02:58:01.351901Z",
     "start_time": "2019-12-04T02:58:01.348607Z"
    }
   },
   "outputs": [],
   "source": [
    "a=a.tolist()"
   ]
  },
  {
   "cell_type": "code",
   "execution_count": 42,
   "metadata": {
    "ExecuteTime": {
     "end_time": "2019-12-04T02:50:50.382067Z",
     "start_time": "2019-12-04T02:50:50.048659Z"
    }
   },
   "outputs": [
    {
     "data": {
      "text/html": [
       "<div>\n",
       "<style scoped>\n",
       "    .dataframe tbody tr th:only-of-type {\n",
       "        vertical-align: middle;\n",
       "    }\n",
       "\n",
       "    .dataframe tbody tr th {\n",
       "        vertical-align: top;\n",
       "    }\n",
       "\n",
       "    .dataframe thead th {\n",
       "        text-align: right;\n",
       "    }\n",
       "</style>\n",
       "<table border=\"1\" class=\"dataframe\">\n",
       "  <thead>\n",
       "    <tr style=\"text-align: right;\">\n",
       "      <th></th>\n",
       "      <th>word_count</th>\n",
       "      <th>word</th>\n",
       "    </tr>\n",
       "  </thead>\n",
       "  <tbody>\n",
       "    <tr>\n",
       "      <td>0</td>\n",
       "      <td>0</td>\n",
       "      <td>000</td>\n",
       "    </tr>\n",
       "    <tr>\n",
       "      <td>1</td>\n",
       "      <td>1</td>\n",
       "      <td>00a</td>\n",
       "    </tr>\n",
       "    <tr>\n",
       "      <td>2</td>\n",
       "      <td>2</td>\n",
       "      <td>00p</td>\n",
       "    </tr>\n",
       "    <tr>\n",
       "      <td>3</td>\n",
       "      <td>3</td>\n",
       "      <td>00pm</td>\n",
       "    </tr>\n",
       "    <tr>\n",
       "      <td>4</td>\n",
       "      <td>4</td>\n",
       "      <td>0459</td>\n",
       "    </tr>\n",
       "    <tr>\n",
       "      <td>...</td>\n",
       "      <td>...</td>\n",
       "      <td>...</td>\n",
       "    </tr>\n",
       "    <tr>\n",
       "      <td>18874</td>\n",
       "      <td>18874</td>\n",
       "      <td>上海粗炒</td>\n",
       "    </tr>\n",
       "    <tr>\n",
       "      <td>18875</td>\n",
       "      <td>18875</td>\n",
       "      <td>冬瓜盅</td>\n",
       "    </tr>\n",
       "    <tr>\n",
       "      <td>18876</td>\n",
       "      <td>18876</td>\n",
       "      <td>可能說中文啊</td>\n",
       "    </tr>\n",
       "    <tr>\n",
       "      <td>18877</td>\n",
       "      <td>18877</td>\n",
       "      <td>紅燒牛肉麵</td>\n",
       "    </tr>\n",
       "    <tr>\n",
       "      <td>18878</td>\n",
       "      <td>18878</td>\n",
       "      <td>蒸餃子</td>\n",
       "    </tr>\n",
       "  </tbody>\n",
       "</table>\n",
       "<p>18879 rows × 2 columns</p>\n",
       "</div>"
      ],
      "text/plain": [
       "       word_count    word\n",
       "0               0     000\n",
       "1               1     00a\n",
       "2               2     00p\n",
       "3               3    00pm\n",
       "4               4    0459\n",
       "...           ...     ...\n",
       "18874       18874    上海粗炒\n",
       "18875       18875     冬瓜盅\n",
       "18876       18876  可能說中文啊\n",
       "18877       18877   紅燒牛肉麵\n",
       "18878       18878     蒸餃子\n",
       "\n",
       "[18879 rows x 2 columns]"
      ]
     },
     "execution_count": 42,
     "metadata": {},
     "output_type": "execute_result"
    }
   ],
   "source": [
    "#tokenized\n",
    "from sklearn.feature_extraction.text import CountVectorizer\n",
    "vectorizer = CountVectorizer().fit(a)\n",
    "\n",
    "b= pd.DataFrame(vectorizer.get_feature_names()).reset_index()\n",
    "b.columns=['word_count','word']\n",
    "b"
   ]
  },
  {
   "cell_type": "code",
   "execution_count": 37,
   "metadata": {
    "ExecuteTime": {
     "end_time": "2019-12-04T02:46:59.922840Z",
     "start_time": "2019-12-04T02:45:33.285205Z"
    }
   },
   "outputs": [],
   "source": [
    "# Get the frequent words in the df['cleaned_text']\n",
    "from sklearn.feature_extraction.text import CountVectorizer\n",
    "\n",
    "text_list = df['cleaned_text'].tolist()\n",
    "bagofwords = CountVectorizer().fit(text_list)\n",
    "words_count_df= pd.DataFrame(bagofwords.get_feature_names()).reset_index()\n",
    "words_count_df.columns=['word_count','word']\n",
    "\n"
   ]
  },
  {
   "cell_type": "code",
   "execution_count": 38,
   "metadata": {
    "ExecuteTime": {
     "end_time": "2019-12-04T02:47:52.029122Z",
     "start_time": "2019-12-04T02:47:52.016124Z"
    }
   },
   "outputs": [
    {
     "data": {
      "text/html": [
       "<div>\n",
       "<style scoped>\n",
       "    .dataframe tbody tr th:only-of-type {\n",
       "        vertical-align: middle;\n",
       "    }\n",
       "\n",
       "    .dataframe tbody tr th {\n",
       "        vertical-align: top;\n",
       "    }\n",
       "\n",
       "    .dataframe thead th {\n",
       "        text-align: right;\n",
       "    }\n",
       "</style>\n",
       "<table border=\"1\" class=\"dataframe\">\n",
       "  <thead>\n",
       "    <tr style=\"text-align: right;\">\n",
       "      <th></th>\n",
       "      <th>word_count</th>\n",
       "      <th>word</th>\n",
       "    </tr>\n",
       "  </thead>\n",
       "  <tbody>\n",
       "    <tr>\n",
       "      <td>0</td>\n",
       "      <td>0</td>\n",
       "      <td>000</td>\n",
       "    </tr>\n",
       "    <tr>\n",
       "      <td>1</td>\n",
       "      <td>1</td>\n",
       "      <td>0000</td>\n",
       "    </tr>\n",
       "    <tr>\n",
       "      <td>2</td>\n",
       "      <td>2</td>\n",
       "      <td>00000</td>\n",
       "    </tr>\n",
       "    <tr>\n",
       "      <td>3</td>\n",
       "      <td>3</td>\n",
       "      <td>000000</td>\n",
       "    </tr>\n",
       "    <tr>\n",
       "      <td>4</td>\n",
       "      <td>4</td>\n",
       "      <td>0000000</td>\n",
       "    </tr>\n",
       "    <tr>\n",
       "      <td>...</td>\n",
       "      <td>...</td>\n",
       "      <td>...</td>\n",
       "    </tr>\n",
       "    <tr>\n",
       "      <td>448379</td>\n",
       "      <td>448379</td>\n",
       "      <td>７ヶ月前にオープンの新店に初訪問</td>\n",
       "    </tr>\n",
       "    <tr>\n",
       "      <td>448380</td>\n",
       "      <td>448380</td>\n",
       "      <td>８ドルで妥当なお値段設定</td>\n",
       "    </tr>\n",
       "    <tr>\n",
       "      <td>448381</td>\n",
       "      <td>448381</td>\n",
       "      <td>ｉnever</td>\n",
       "    </tr>\n",
       "    <tr>\n",
       "      <td>448382</td>\n",
       "      <td>448382</td>\n",
       "      <td>ｍｃｄｏｎａｌｄ</td>\n",
       "    </tr>\n",
       "    <tr>\n",
       "      <td>448383</td>\n",
       "      <td>448383</td>\n",
       "      <td>ﾊﾟﾁｸﾘ</td>\n",
       "    </tr>\n",
       "  </tbody>\n",
       "</table>\n",
       "<p>448384 rows × 2 columns</p>\n",
       "</div>"
      ],
      "text/plain": [
       "        word_count              word\n",
       "0                0               000\n",
       "1                1              0000\n",
       "2                2             00000\n",
       "3                3            000000\n",
       "4                4           0000000\n",
       "...            ...               ...\n",
       "448379      448379  ７ヶ月前にオープンの新店に初訪問\n",
       "448380      448380      ８ドルで妥当なお値段設定\n",
       "448381      448381            ｉnever\n",
       "448382      448382          ｍｃｄｏｎａｌｄ\n",
       "448383      448383             ﾊﾟﾁｸﾘ\n",
       "\n",
       "[448384 rows x 2 columns]"
      ]
     },
     "execution_count": 38,
     "metadata": {},
     "output_type": "execute_result"
    }
   ],
   "source": [
    "words_count_df"
   ]
  },
  {
   "cell_type": "code",
   "execution_count": 14,
   "metadata": {
    "ExecuteTime": {
     "end_time": "2019-12-04T02:26:38.543337Z",
     "start_time": "2019-12-04T02:26:36.982570Z"
    }
   },
   "outputs": [],
   "source": [
    "text = ''.join(str(e) for e in text_list)"
   ]
  },
  {
   "cell_type": "code",
   "execution_count": null,
   "metadata": {
    "ExecuteTime": {
     "start_time": "2019-12-04T02:22:21.354Z"
    }
   },
   "outputs": [],
   "source": [
    "type(text)"
   ]
  },
  {
   "cell_type": "code",
   "execution_count": 29,
   "metadata": {
    "ExecuteTime": {
     "end_time": "2019-12-04T02:35:55.533228Z",
     "start_time": "2019-12-04T02:35:55.425727Z"
    }
   },
   "outputs": [
    {
     "data": {
      "text/html": [
       "<div>\n",
       "<style scoped>\n",
       "    .dataframe tbody tr th:only-of-type {\n",
       "        vertical-align: middle;\n",
       "    }\n",
       "\n",
       "    .dataframe tbody tr th {\n",
       "        vertical-align: top;\n",
       "    }\n",
       "\n",
       "    .dataframe thead th {\n",
       "        text-align: right;\n",
       "    }\n",
       "</style>\n",
       "<table border=\"1\" class=\"dataframe\">\n",
       "  <thead>\n",
       "    <tr style=\"text-align: right;\">\n",
       "      <th></th>\n",
       "      <th>word_count</th>\n",
       "      <th>word</th>\n",
       "    </tr>\n",
       "  </thead>\n",
       "  <tbody>\n",
       "    <tr>\n",
       "      <td>0</td>\n",
       "      <td>0</td>\n",
       "      <td>cleaned_text</td>\n",
       "    </tr>\n",
       "  </tbody>\n",
       "</table>\n",
       "</div>"
      ],
      "text/plain": [
       "   word_count          word\n",
       "0           0  cleaned_text"
      ]
     },
     "execution_count": 29,
     "metadata": {},
     "output_type": "execute_result"
    }
   ],
   "source": [
    "#tokenized the cleaned text\n",
    "\n",
    "from sklearn.feature_extraction.text import CountVectorizer\n",
    "bagofwords = CountVectorizer().fit(X_train_2)\n",
    "X_train_2 = bagofwords.transform(X_train_2)\n",
    "\n",
    "#get the \n",
    "words_count_df= pd.DataFrame(bagofwords.get_feature_names()).reset_index()\n",
    "words_count_df.columns=['word_count','word']\n",
    "words_count_df.head()"
   ]
  }
 ],
 "metadata": {
  "kernelspec": {
   "display_name": "Python 3",
   "language": "python",
   "name": "python3"
  },
  "toc": {
   "base_numbering": 1,
   "nav_menu": {},
   "number_sections": true,
   "sideBar": true,
   "skip_h1_title": false,
   "title_cell": "Table of Contents",
   "title_sidebar": "Contents",
   "toc_cell": false,
   "toc_position": {
    "height": "calc(100% - 180px)",
    "left": "10px",
    "top": "150px",
    "width": "318.875px"
   },
   "toc_section_display": true,
   "toc_window_display": true
  },
  "varInspector": {
   "cols": {
    "lenName": 16,
    "lenType": 16,
    "lenVar": 40
   },
   "kernels_config": {
    "python": {
     "delete_cmd_postfix": "",
     "delete_cmd_prefix": "del ",
     "library": "var_list.py",
     "varRefreshCmd": "print(var_dic_list())"
    },
    "r": {
     "delete_cmd_postfix": ") ",
     "delete_cmd_prefix": "rm(",
     "library": "var_list.r",
     "varRefreshCmd": "cat(var_dic_list()) "
    }
   },
   "types_to_exclude": [
    "module",
    "function",
    "builtin_function_or_method",
    "instance",
    "_Feature"
   ],
   "window_display": false
  }
 },
 "nbformat": 4,
 "nbformat_minor": 2
}
