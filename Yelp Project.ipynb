{
 "cells": [
  {
   "cell_type": "markdown",
   "metadata": {},
   "source": [
    "# Importing data and packages"
   ]
  },
  {
   "cell_type": "code",
   "execution_count": 1,
   "metadata": {
    "ExecuteTime": {
     "end_time": "2019-12-03T00:57:11.235568Z",
     "start_time": "2019-12-03T00:57:09.967674Z"
    }
   },
   "outputs": [],
   "source": [
    "import pandas as pd\n",
    "import numpy as np\n",
    "import seaborn as sns\n",
    "import matplotlib.pyplot as plt\n",
    "%matplotlib inline\n",
    "from scipy import stats\n",
    "import statsmodels.api as sm \n",
    "\n",
    "#Set up all the columns to display\n",
    "pd.set_option('display.max_columns',None)\n",
    "\n",
    "import warnings\n",
    "warnings.filterwarnings('ignore')\n",
    "\n",
    "\n",
    "#import different nlp packages\n",
    "import nltk\n",
    "import string\n",
    "from sklearn.feature_extraction.text import ENGLISH_STOP_WORDS\n",
    "from nltk.tokenize import word_tokenize\n",
    "from nltk.stem import PorterStemmer\n",
    "import re"
   ]
  },
  {
   "cell_type": "code",
   "execution_count": 2,
   "metadata": {
    "ExecuteTime": {
     "end_time": "2019-12-03T00:57:43.189534Z",
     "start_time": "2019-12-03T00:57:14.047372Z"
    }
   },
   "outputs": [],
   "source": [
    "# Import files\n",
    "# business = pd.read_csv('~/yelp/business.csv')\n",
    "# business_attribute = pd.read_csv('~/yelp/business_attributes.csv')\n",
    "# business_hours = pd.read_csv('~/yelp/business_hours.csv')\n",
    "# checkin = pd.read_csv('~/yelp/checkin.csv')\n",
    "# tip = pd.read_csv('~/yelp/tip.csv')\n",
    "\n",
    "#import big file review\n",
    "# review = pd.read_csv('C:/Users/Terrance/Desktop/yelp/review.csv')\n",
    "\n",
    "## import the review data for 2015- 2017\n",
    "# review1 = pd.read_csv('cleaned_data/review_15_17.csv')\n",
    "\n",
    "#import the north america restaurant review for 2015-2017\n",
    "# review_nora = pd.read_csv('cleaned_data/review_nora.csv')\n",
    "\n",
    "#import the north america restaurant review for 2015-2017\n",
    "# review_nora_cleaned = pd.read_csv('~/yelp/cleaned_data/review_nora_cleaned_2019-11-29.csv')\n",
    "\n",
    "#import the final review files\n",
    "df = pd.read_csv('~/yelp/cleaned_data/review_final.csv')"
   ]
  },
  {
   "cell_type": "code",
   "execution_count": 160,
   "metadata": {
    "ExecuteTime": {
     "end_time": "2019-12-01T20:14:48.503377Z",
     "start_time": "2019-12-01T20:14:48.492115Z"
    }
   },
   "outputs": [
    {
     "data": {
      "text/html": [
       "<div>\n",
       "<style scoped>\n",
       "    .dataframe tbody tr th:only-of-type {\n",
       "        vertical-align: middle;\n",
       "    }\n",
       "\n",
       "    .dataframe tbody tr th {\n",
       "        vertical-align: top;\n",
       "    }\n",
       "\n",
       "    .dataframe thead th {\n",
       "        text-align: right;\n",
       "    }\n",
       "</style>\n",
       "<table border=\"1\" class=\"dataframe\">\n",
       "  <thead>\n",
       "    <tr style=\"text-align: right;\">\n",
       "      <th></th>\n",
       "      <th>business_id</th>\n",
       "      <th>weekday</th>\n",
       "      <th>hour</th>\n",
       "      <th>checkins</th>\n",
       "    </tr>\n",
       "  </thead>\n",
       "  <tbody>\n",
       "    <tr>\n",
       "      <td>0</td>\n",
       "      <td>3Mc-LxcqeguOXOVT_2ZtCg</td>\n",
       "      <td>Tue</td>\n",
       "      <td>0:00</td>\n",
       "      <td>12</td>\n",
       "    </tr>\n",
       "    <tr>\n",
       "      <td>1</td>\n",
       "      <td>SVFx6_epO22bZTZnKwlX7g</td>\n",
       "      <td>Wed</td>\n",
       "      <td>0:00</td>\n",
       "      <td>4</td>\n",
       "    </tr>\n",
       "    <tr>\n",
       "      <td>2</td>\n",
       "      <td>vW9aLivd4-IorAfStzsHww</td>\n",
       "      <td>Tue</td>\n",
       "      <td>14:00</td>\n",
       "      <td>1</td>\n",
       "    </tr>\n",
       "    <tr>\n",
       "      <td>3</td>\n",
       "      <td>tEzxhauTQddACyqdJ0OPEQ</td>\n",
       "      <td>Fri</td>\n",
       "      <td>19:00</td>\n",
       "      <td>1</td>\n",
       "    </tr>\n",
       "    <tr>\n",
       "      <td>4</td>\n",
       "      <td>CEyZU32P-vtMhgqRCaXzMA</td>\n",
       "      <td>Tue</td>\n",
       "      <td>17:00</td>\n",
       "      <td>1</td>\n",
       "    </tr>\n",
       "  </tbody>\n",
       "</table>\n",
       "</div>"
      ],
      "text/plain": [
       "              business_id weekday   hour  checkins\n",
       "0  3Mc-LxcqeguOXOVT_2ZtCg     Tue   0:00        12\n",
       "1  SVFx6_epO22bZTZnKwlX7g     Wed   0:00         4\n",
       "2  vW9aLivd4-IorAfStzsHww     Tue  14:00         1\n",
       "3  tEzxhauTQddACyqdJ0OPEQ     Fri  19:00         1\n",
       "4  CEyZU32P-vtMhgqRCaXzMA     Tue  17:00         1"
      ]
     },
     "execution_count": 160,
     "metadata": {},
     "output_type": "execute_result"
    }
   ],
   "source": [
    "checkin.head()"
   ]
  },
  {
   "cell_type": "code",
   "execution_count": 150,
   "metadata": {
    "ExecuteTime": {
     "end_time": "2019-12-01T19:47:59.909494Z",
     "start_time": "2019-12-01T19:47:59.890336Z"
    }
   },
   "outputs": [
    {
     "data": {
      "text/html": [
       "<div>\n",
       "<style scoped>\n",
       "    .dataframe tbody tr th:only-of-type {\n",
       "        vertical-align: middle;\n",
       "    }\n",
       "\n",
       "    .dataframe tbody tr th {\n",
       "        vertical-align: top;\n",
       "    }\n",
       "\n",
       "    .dataframe thead th {\n",
       "        text-align: right;\n",
       "    }\n",
       "</style>\n",
       "<table border=\"1\" class=\"dataframe\">\n",
       "  <thead>\n",
       "    <tr style=\"text-align: right;\">\n",
       "      <th></th>\n",
       "      <th>business_id</th>\n",
       "      <th>name</th>\n",
       "      <th>neighborhood</th>\n",
       "      <th>address</th>\n",
       "      <th>city</th>\n",
       "      <th>state</th>\n",
       "      <th>postal_code</th>\n",
       "      <th>latitude</th>\n",
       "      <th>longitude</th>\n",
       "      <th>stars</th>\n",
       "      <th>review_count</th>\n",
       "      <th>is_open</th>\n",
       "      <th>categories</th>\n",
       "    </tr>\n",
       "  </thead>\n",
       "  <tbody>\n",
       "    <tr>\n",
       "      <td>0</td>\n",
       "      <td>FYWN1wneV18bWNgQjJ2GNg</td>\n",
       "      <td>\"Dental by Design\"</td>\n",
       "      <td>NaN</td>\n",
       "      <td>\"4855 E Warner Rd, Ste B9\"</td>\n",
       "      <td>Ahwatukee</td>\n",
       "      <td>AZ</td>\n",
       "      <td>85044</td>\n",
       "      <td>33.330690</td>\n",
       "      <td>-111.978599</td>\n",
       "      <td>4.0</td>\n",
       "      <td>22</td>\n",
       "      <td>1</td>\n",
       "      <td>Dentists;General Dentistry;Health &amp; Medical;Or...</td>\n",
       "    </tr>\n",
       "    <tr>\n",
       "      <td>1</td>\n",
       "      <td>He-G7vWjzVUysIKrfNbPUQ</td>\n",
       "      <td>\"Stephen Szabo Salon\"</td>\n",
       "      <td>NaN</td>\n",
       "      <td>\"3101 Washington Rd\"</td>\n",
       "      <td>McMurray</td>\n",
       "      <td>PA</td>\n",
       "      <td>15317</td>\n",
       "      <td>40.291685</td>\n",
       "      <td>-80.104900</td>\n",
       "      <td>3.0</td>\n",
       "      <td>11</td>\n",
       "      <td>1</td>\n",
       "      <td>Hair Stylists;Hair Salons;Men's Hair Salons;Bl...</td>\n",
       "    </tr>\n",
       "    <tr>\n",
       "      <td>2</td>\n",
       "      <td>KQPW8lFf1y5BT2MxiSZ3QA</td>\n",
       "      <td>\"Western Motor Vehicle\"</td>\n",
       "      <td>NaN</td>\n",
       "      <td>\"6025 N 27th Ave, Ste 1\"</td>\n",
       "      <td>Phoenix</td>\n",
       "      <td>AZ</td>\n",
       "      <td>85017</td>\n",
       "      <td>33.524903</td>\n",
       "      <td>-112.115310</td>\n",
       "      <td>1.5</td>\n",
       "      <td>18</td>\n",
       "      <td>1</td>\n",
       "      <td>Departments of Motor Vehicles;Public Services ...</td>\n",
       "    </tr>\n",
       "    <tr>\n",
       "      <td>3</td>\n",
       "      <td>8DShNS-LuFqpEWIp0HxijA</td>\n",
       "      <td>\"Sports Authority\"</td>\n",
       "      <td>NaN</td>\n",
       "      <td>\"5000 Arizona Mills Cr, Ste 435\"</td>\n",
       "      <td>Tempe</td>\n",
       "      <td>AZ</td>\n",
       "      <td>85282</td>\n",
       "      <td>33.383147</td>\n",
       "      <td>-111.964725</td>\n",
       "      <td>3.0</td>\n",
       "      <td>9</td>\n",
       "      <td>0</td>\n",
       "      <td>Sporting Goods;Shopping</td>\n",
       "    </tr>\n",
       "    <tr>\n",
       "      <td>4</td>\n",
       "      <td>PfOCPjBrlQAnz__NXj9h_w</td>\n",
       "      <td>\"Brick House Tavern + Tap\"</td>\n",
       "      <td>NaN</td>\n",
       "      <td>\"581 Howe Ave\"</td>\n",
       "      <td>Cuyahoga Falls</td>\n",
       "      <td>OH</td>\n",
       "      <td>44221</td>\n",
       "      <td>41.119535</td>\n",
       "      <td>-81.475690</td>\n",
       "      <td>3.5</td>\n",
       "      <td>116</td>\n",
       "      <td>1</td>\n",
       "      <td>American (New);Nightlife;Bars;Sandwiches;Ameri...</td>\n",
       "    </tr>\n",
       "  </tbody>\n",
       "</table>\n",
       "</div>"
      ],
      "text/plain": [
       "              business_id                        name neighborhood  \\\n",
       "0  FYWN1wneV18bWNgQjJ2GNg          \"Dental by Design\"          NaN   \n",
       "1  He-G7vWjzVUysIKrfNbPUQ       \"Stephen Szabo Salon\"          NaN   \n",
       "2  KQPW8lFf1y5BT2MxiSZ3QA     \"Western Motor Vehicle\"          NaN   \n",
       "3  8DShNS-LuFqpEWIp0HxijA          \"Sports Authority\"          NaN   \n",
       "4  PfOCPjBrlQAnz__NXj9h_w  \"Brick House Tavern + Tap\"          NaN   \n",
       "\n",
       "                            address            city state postal_code  \\\n",
       "0        \"4855 E Warner Rd, Ste B9\"       Ahwatukee    AZ       85044   \n",
       "1              \"3101 Washington Rd\"        McMurray    PA       15317   \n",
       "2          \"6025 N 27th Ave, Ste 1\"         Phoenix    AZ       85017   \n",
       "3  \"5000 Arizona Mills Cr, Ste 435\"           Tempe    AZ       85282   \n",
       "4                    \"581 Howe Ave\"  Cuyahoga Falls    OH       44221   \n",
       "\n",
       "    latitude   longitude  stars  review_count  is_open  \\\n",
       "0  33.330690 -111.978599    4.0            22        1   \n",
       "1  40.291685  -80.104900    3.0            11        1   \n",
       "2  33.524903 -112.115310    1.5            18        1   \n",
       "3  33.383147 -111.964725    3.0             9        0   \n",
       "4  41.119535  -81.475690    3.5           116        1   \n",
       "\n",
       "                                          categories  \n",
       "0  Dentists;General Dentistry;Health & Medical;Or...  \n",
       "1  Hair Stylists;Hair Salons;Men's Hair Salons;Bl...  \n",
       "2  Departments of Motor Vehicles;Public Services ...  \n",
       "3                            Sporting Goods;Shopping  \n",
       "4  American (New);Nightlife;Bars;Sandwiches;Ameri...  "
      ]
     },
     "execution_count": 150,
     "metadata": {},
     "output_type": "execute_result"
    }
   ],
   "source": [
    "business.head()"
   ]
  },
  {
   "cell_type": "code",
   "execution_count": 5,
   "metadata": {
    "ExecuteTime": {
     "end_time": "2019-11-24T16:15:22.600000Z",
     "start_time": "2019-11-24T16:15:22.587000Z"
    }
   },
   "outputs": [
    {
     "data": {
      "text/html": [
       "<div>\n",
       "<style scoped>\n",
       "    .dataframe tbody tr th:only-of-type {\n",
       "        vertical-align: middle;\n",
       "    }\n",
       "\n",
       "    .dataframe tbody tr th {\n",
       "        vertical-align: top;\n",
       "    }\n",
       "\n",
       "    .dataframe thead th {\n",
       "        text-align: right;\n",
       "    }\n",
       "</style>\n",
       "<table border=\"1\" class=\"dataframe\">\n",
       "  <thead>\n",
       "    <tr style=\"text-align: right;\">\n",
       "      <th></th>\n",
       "      <th>Unnamed: 0</th>\n",
       "      <th>review_id</th>\n",
       "      <th>user_id</th>\n",
       "      <th>business_id</th>\n",
       "      <th>stars</th>\n",
       "      <th>date</th>\n",
       "      <th>text</th>\n",
       "    </tr>\n",
       "  </thead>\n",
       "  <tbody>\n",
       "    <tr>\n",
       "      <th>0</th>\n",
       "      <td>0</td>\n",
       "      <td>vkVSCC7xljjrAI4UGfnKEQ</td>\n",
       "      <td>bv2nCi5Qv5vroFiqKGopiw</td>\n",
       "      <td>AEx2SYEUJmTxVVB18LlCwA</td>\n",
       "      <td>5</td>\n",
       "      <td>2016-05-28</td>\n",
       "      <td>Super simple place but amazing nonetheless. It...</td>\n",
       "    </tr>\n",
       "    <tr>\n",
       "      <th>1</th>\n",
       "      <td>1</td>\n",
       "      <td>n6QzIUObkYshz4dz2QRJTw</td>\n",
       "      <td>bv2nCi5Qv5vroFiqKGopiw</td>\n",
       "      <td>VR6GpWIda3SfvPC-lg9H3w</td>\n",
       "      <td>5</td>\n",
       "      <td>2016-05-28</td>\n",
       "      <td>Small unassuming place that changes their menu...</td>\n",
       "    </tr>\n",
       "    <tr>\n",
       "      <th>2</th>\n",
       "      <td>2</td>\n",
       "      <td>MV3CcKScW05u5LVfF6ok0g</td>\n",
       "      <td>bv2nCi5Qv5vroFiqKGopiw</td>\n",
       "      <td>CKC0-MOWMqoeWf6s-szl8g</td>\n",
       "      <td>5</td>\n",
       "      <td>2016-05-28</td>\n",
       "      <td>Lester's is located in a beautiful neighborhoo...</td>\n",
       "    </tr>\n",
       "    <tr>\n",
       "      <th>3</th>\n",
       "      <td>3</td>\n",
       "      <td>IXvOzsEMYtiJI0CARmj77Q</td>\n",
       "      <td>bv2nCi5Qv5vroFiqKGopiw</td>\n",
       "      <td>ACFtxLv8pGrrxMm6EgjreA</td>\n",
       "      <td>4</td>\n",
       "      <td>2016-05-28</td>\n",
       "      <td>Love coming here. Yes the place always needs t...</td>\n",
       "    </tr>\n",
       "    <tr>\n",
       "      <th>4</th>\n",
       "      <td>4</td>\n",
       "      <td>L_9BTb55X0GDtThi6GlZ6w</td>\n",
       "      <td>bv2nCi5Qv5vroFiqKGopiw</td>\n",
       "      <td>s2I_Ni76bjJNK9yG60iD-Q</td>\n",
       "      <td>4</td>\n",
       "      <td>2016-05-28</td>\n",
       "      <td>Had their chocolate almond croissant and it wa...</td>\n",
       "    </tr>\n",
       "  </tbody>\n",
       "</table>\n",
       "</div>"
      ],
      "text/plain": [
       "   Unnamed: 0               review_id                 user_id  \\\n",
       "0           0  vkVSCC7xljjrAI4UGfnKEQ  bv2nCi5Qv5vroFiqKGopiw   \n",
       "1           1  n6QzIUObkYshz4dz2QRJTw  bv2nCi5Qv5vroFiqKGopiw   \n",
       "2           2  MV3CcKScW05u5LVfF6ok0g  bv2nCi5Qv5vroFiqKGopiw   \n",
       "3           3  IXvOzsEMYtiJI0CARmj77Q  bv2nCi5Qv5vroFiqKGopiw   \n",
       "4           4  L_9BTb55X0GDtThi6GlZ6w  bv2nCi5Qv5vroFiqKGopiw   \n",
       "\n",
       "              business_id  stars        date  \\\n",
       "0  AEx2SYEUJmTxVVB18LlCwA      5  2016-05-28   \n",
       "1  VR6GpWIda3SfvPC-lg9H3w      5  2016-05-28   \n",
       "2  CKC0-MOWMqoeWf6s-szl8g      5  2016-05-28   \n",
       "3  ACFtxLv8pGrrxMm6EgjreA      4  2016-05-28   \n",
       "4  s2I_Ni76bjJNK9yG60iD-Q      4  2016-05-28   \n",
       "\n",
       "                                                text  \n",
       "0  Super simple place but amazing nonetheless. It...  \n",
       "1  Small unassuming place that changes their menu...  \n",
       "2  Lester's is located in a beautiful neighborhoo...  \n",
       "3  Love coming here. Yes the place always needs t...  \n",
       "4  Had their chocolate almond croissant and it wa...  "
      ]
     },
     "execution_count": 5,
     "metadata": {},
     "output_type": "execute_result"
    }
   ],
   "source": [
    "review1.head()"
   ]
  },
  {
   "cell_type": "code",
   "execution_count": 4,
   "metadata": {
    "ExecuteTime": {
     "end_time": "2019-11-20T20:10:21.110600Z",
     "start_time": "2019-11-20T20:09:37.773600Z"
    }
   },
   "outputs": [],
   "source": [
    "#import big file user\n",
    "user = pd.read_csv('C:/Users/Terrance/Desktop/yelp/user.csv')"
   ]
  },
  {
   "cell_type": "code",
   "execution_count": 8,
   "metadata": {
    "ExecuteTime": {
     "end_time": "2019-11-20T02:43:52.646000Z",
     "start_time": "2019-11-20T02:43:52.619000Z"
    }
   },
   "outputs": [
    {
     "data": {
      "text/html": [
       "<div>\n",
       "<style scoped>\n",
       "    .dataframe tbody tr th:only-of-type {\n",
       "        vertical-align: middle;\n",
       "    }\n",
       "\n",
       "    .dataframe tbody tr th {\n",
       "        vertical-align: top;\n",
       "    }\n",
       "\n",
       "    .dataframe thead th {\n",
       "        text-align: right;\n",
       "    }\n",
       "</style>\n",
       "<table border=\"1\" class=\"dataframe\">\n",
       "  <thead>\n",
       "    <tr style=\"text-align: right;\">\n",
       "      <th></th>\n",
       "      <th>user_id</th>\n",
       "      <th>name</th>\n",
       "      <th>review_count</th>\n",
       "      <th>yelping_since</th>\n",
       "      <th>friends</th>\n",
       "      <th>useful</th>\n",
       "      <th>funny</th>\n",
       "      <th>cool</th>\n",
       "      <th>fans</th>\n",
       "      <th>elite</th>\n",
       "      <th>average_stars</th>\n",
       "      <th>compliment_hot</th>\n",
       "      <th>compliment_more</th>\n",
       "      <th>compliment_profile</th>\n",
       "      <th>compliment_cute</th>\n",
       "      <th>compliment_list</th>\n",
       "      <th>compliment_note</th>\n",
       "      <th>compliment_plain</th>\n",
       "      <th>compliment_cool</th>\n",
       "      <th>compliment_funny</th>\n",
       "      <th>compliment_writer</th>\n",
       "      <th>compliment_photos</th>\n",
       "    </tr>\n",
       "  </thead>\n",
       "  <tbody>\n",
       "    <tr>\n",
       "      <th>0</th>\n",
       "      <td>JJ-aSuM4pCFPdkfoZ34q0Q</td>\n",
       "      <td>Chris</td>\n",
       "      <td>10</td>\n",
       "      <td>2013-09-24</td>\n",
       "      <td>0njfJmB-7n84DlIgUByCNw, rFn3Xe3RqHxRSxWOU19Gpg...</td>\n",
       "      <td>0</td>\n",
       "      <td>0</td>\n",
       "      <td>0</td>\n",
       "      <td>0</td>\n",
       "      <td>None</td>\n",
       "      <td>3.70</td>\n",
       "      <td>0</td>\n",
       "      <td>0</td>\n",
       "      <td>0</td>\n",
       "      <td>0</td>\n",
       "      <td>0</td>\n",
       "      <td>0</td>\n",
       "      <td>0</td>\n",
       "      <td>0</td>\n",
       "      <td>0</td>\n",
       "      <td>0</td>\n",
       "      <td>0</td>\n",
       "    </tr>\n",
       "    <tr>\n",
       "      <th>1</th>\n",
       "      <td>uUzsFQn_6cXDh6rPNGbIFA</td>\n",
       "      <td>Tiffy</td>\n",
       "      <td>1</td>\n",
       "      <td>2017-03-02</td>\n",
       "      <td>None</td>\n",
       "      <td>0</td>\n",
       "      <td>0</td>\n",
       "      <td>0</td>\n",
       "      <td>0</td>\n",
       "      <td>None</td>\n",
       "      <td>2.00</td>\n",
       "      <td>0</td>\n",
       "      <td>0</td>\n",
       "      <td>0</td>\n",
       "      <td>0</td>\n",
       "      <td>0</td>\n",
       "      <td>0</td>\n",
       "      <td>0</td>\n",
       "      <td>0</td>\n",
       "      <td>0</td>\n",
       "      <td>0</td>\n",
       "      <td>0</td>\n",
       "    </tr>\n",
       "    <tr>\n",
       "      <th>2</th>\n",
       "      <td>mBneaEEH5EMyxaVyqS-72A</td>\n",
       "      <td>Mark</td>\n",
       "      <td>6</td>\n",
       "      <td>2015-03-13</td>\n",
       "      <td>None</td>\n",
       "      <td>0</td>\n",
       "      <td>0</td>\n",
       "      <td>0</td>\n",
       "      <td>0</td>\n",
       "      <td>None</td>\n",
       "      <td>4.67</td>\n",
       "      <td>0</td>\n",
       "      <td>0</td>\n",
       "      <td>0</td>\n",
       "      <td>0</td>\n",
       "      <td>0</td>\n",
       "      <td>0</td>\n",
       "      <td>0</td>\n",
       "      <td>0</td>\n",
       "      <td>0</td>\n",
       "      <td>0</td>\n",
       "      <td>0</td>\n",
       "    </tr>\n",
       "    <tr>\n",
       "      <th>3</th>\n",
       "      <td>W5mJGs-dcDWRGEhAzUYtoA</td>\n",
       "      <td>Evelyn</td>\n",
       "      <td>3</td>\n",
       "      <td>2016-09-08</td>\n",
       "      <td>None</td>\n",
       "      <td>0</td>\n",
       "      <td>0</td>\n",
       "      <td>0</td>\n",
       "      <td>0</td>\n",
       "      <td>None</td>\n",
       "      <td>4.67</td>\n",
       "      <td>0</td>\n",
       "      <td>0</td>\n",
       "      <td>0</td>\n",
       "      <td>0</td>\n",
       "      <td>0</td>\n",
       "      <td>0</td>\n",
       "      <td>0</td>\n",
       "      <td>0</td>\n",
       "      <td>0</td>\n",
       "      <td>0</td>\n",
       "      <td>0</td>\n",
       "    </tr>\n",
       "    <tr>\n",
       "      <th>4</th>\n",
       "      <td>4E8--zUZO1Rr1IBK4_83fg</td>\n",
       "      <td>Lisa</td>\n",
       "      <td>11</td>\n",
       "      <td>2012-07-16</td>\n",
       "      <td>None</td>\n",
       "      <td>4</td>\n",
       "      <td>0</td>\n",
       "      <td>0</td>\n",
       "      <td>0</td>\n",
       "      <td>None</td>\n",
       "      <td>3.45</td>\n",
       "      <td>0</td>\n",
       "      <td>0</td>\n",
       "      <td>0</td>\n",
       "      <td>0</td>\n",
       "      <td>0</td>\n",
       "      <td>0</td>\n",
       "      <td>0</td>\n",
       "      <td>0</td>\n",
       "      <td>0</td>\n",
       "      <td>1</td>\n",
       "      <td>0</td>\n",
       "    </tr>\n",
       "  </tbody>\n",
       "</table>\n",
       "</div>"
      ],
      "text/plain": [
       "                  user_id    name  review_count yelping_since  \\\n",
       "0  JJ-aSuM4pCFPdkfoZ34q0Q   Chris            10    2013-09-24   \n",
       "1  uUzsFQn_6cXDh6rPNGbIFA   Tiffy             1    2017-03-02   \n",
       "2  mBneaEEH5EMyxaVyqS-72A    Mark             6    2015-03-13   \n",
       "3  W5mJGs-dcDWRGEhAzUYtoA  Evelyn             3    2016-09-08   \n",
       "4  4E8--zUZO1Rr1IBK4_83fg    Lisa            11    2012-07-16   \n",
       "\n",
       "                                             friends  useful  funny  cool  \\\n",
       "0  0njfJmB-7n84DlIgUByCNw, rFn3Xe3RqHxRSxWOU19Gpg...       0      0     0   \n",
       "1                                               None       0      0     0   \n",
       "2                                               None       0      0     0   \n",
       "3                                               None       0      0     0   \n",
       "4                                               None       4      0     0   \n",
       "\n",
       "   fans elite  average_stars  compliment_hot  compliment_more  \\\n",
       "0     0  None           3.70               0                0   \n",
       "1     0  None           2.00               0                0   \n",
       "2     0  None           4.67               0                0   \n",
       "3     0  None           4.67               0                0   \n",
       "4     0  None           3.45               0                0   \n",
       "\n",
       "   compliment_profile  compliment_cute  compliment_list  compliment_note  \\\n",
       "0                   0                0                0                0   \n",
       "1                   0                0                0                0   \n",
       "2                   0                0                0                0   \n",
       "3                   0                0                0                0   \n",
       "4                   0                0                0                0   \n",
       "\n",
       "   compliment_plain  compliment_cool  compliment_funny  compliment_writer  \\\n",
       "0                 0                0                 0                  0   \n",
       "1                 0                0                 0                  0   \n",
       "2                 0                0                 0                  0   \n",
       "3                 0                0                 0                  0   \n",
       "4                 0                0                 0                  1   \n",
       "\n",
       "   compliment_photos  \n",
       "0                  0  \n",
       "1                  0  \n",
       "2                  0  \n",
       "3                  0  \n",
       "4                  0  "
      ]
     },
     "execution_count": 8,
     "metadata": {},
     "output_type": "execute_result"
    }
   ],
   "source": [
    "user.head()"
   ]
  },
  {
   "cell_type": "markdown",
   "metadata": {
    "heading_collapsed": true
   },
   "source": [
    "# Data Cleaning"
   ]
  },
  {
   "cell_type": "markdown",
   "metadata": {
    "heading_collapsed": true,
    "hidden": true
   },
   "source": [
    "## Cleaning data for review files\n",
    "\n",
    "### Status: Done <br>\n",
    "Steps Completed:\n",
    "    - change date formate\n",
    "    - select only 2015-2017\n",
    "\n",
    "### Final variable: review1. import from reivew_15_17.csv"
   ]
  },
  {
   "cell_type": "code",
   "execution_count": null,
   "metadata": {
    "ExecuteTime": {
     "end_time": "2019-11-21T00:45:30.453800Z",
     "start_time": "2019-11-21T00:45:19.854Z"
    },
    "hidden": true
   },
   "outputs": [],
   "source": [
    "# # change date from object to date time\n",
    "# review['date'] = pd.to_datetime(review['date'], format = '%Y-%m-%d')\n",
    "\n",
    "# #sanity check\n",
    "# review['date'][0]"
   ]
  },
  {
   "cell_type": "code",
   "execution_count": null,
   "metadata": {
    "ExecuteTime": {
     "end_time": "2019-11-21T00:45:30.462800Z",
     "start_time": "2019-11-21T00:45:22.823Z"
    },
    "hidden": true
   },
   "outputs": [],
   "source": [
    "# #check how many reviews in each year\n",
    "# pd.DatetimeIndex(review['date']).year.value_counts()"
   ]
  },
  {
   "cell_type": "code",
   "execution_count": null,
   "metadata": {
    "ExecuteTime": {
     "end_time": "2019-11-21T00:45:30.474800Z",
     "start_time": "2019-11-21T00:45:24.838Z"
    },
    "hidden": true
   },
   "outputs": [],
   "source": [
    "# #select only reviews after 2015\n",
    "# review1 = review[(review['date']>=\"2015\")]"
   ]
  },
  {
   "cell_type": "code",
   "execution_count": 34,
   "metadata": {
    "ExecuteTime": {
     "end_time": "2019-11-18T19:45:52.809600Z",
     "start_time": "2019-11-18T19:45:52.424600Z"
    },
    "hidden": true
   },
   "outputs": [
    {
     "data": {
      "text/plain": [
       "2017    1128518\n",
       "2016    1052916\n",
       "2015     911487\n",
       "Name: date, dtype: int64"
      ]
     },
     "execution_count": 34,
     "metadata": {},
     "output_type": "execute_result"
    }
   ],
   "source": [
    "# #check on how many reviews in 2015, 2016, and 2017\n",
    "# pd.DatetimeIndex(review1['date']).year.value_counts()"
   ]
  },
  {
   "cell_type": "code",
   "execution_count": 35,
   "metadata": {
    "ExecuteTime": {
     "end_time": "2019-11-19T20:58:06.569400Z",
     "start_time": "2019-11-19T20:57:01.926400Z"
    },
    "hidden": true
   },
   "outputs": [],
   "source": [
    "# #export the review1 to csv\n",
    "\n",
    "# review1.to_csv('review_15_17.csv')"
   ]
  },
  {
   "cell_type": "code",
   "execution_count": 38,
   "metadata": {
    "ExecuteTime": {
     "end_time": "2019-11-19T20:58:21.024400Z",
     "start_time": "2019-11-19T20:58:21.018400Z"
    },
    "hidden": true
   },
   "outputs": [
    {
     "data": {
      "text/plain": [
       "(3092921, 6)"
      ]
     },
     "execution_count": 38,
     "metadata": {},
     "output_type": "execute_result"
    }
   ],
   "source": [
    "# review1.shape"
   ]
  },
  {
   "cell_type": "code",
   "execution_count": null,
   "metadata": {
    "hidden": true
   },
   "outputs": [],
   "source": [
    "# check on missing values\n",
    "review1.isnull().sum()"
   ]
  },
  {
   "cell_type": "markdown",
   "metadata": {
    "heading_collapsed": true,
    "hidden": true
   },
   "source": [
    "## Cleaning data for business files. \n",
    "\n",
    "### Status: Done\n",
    "Steps Completed: \n",
    "    - Filter out food and restaurant category\n",
    "    - Filter out north america by state abbv\n",
    "    - select review1 with only north amercia restaurant from previous steps by business id\n",
    "      \n",
    "\n",
    "### Final variable: review_nora"
   ]
  },
  {
   "cell_type": "code",
   "execution_count": 9,
   "metadata": {
    "ExecuteTime": {
     "end_time": "2019-11-24T16:36:17.792000Z",
     "start_time": "2019-11-24T16:36:17.525000Z"
    },
    "hidden": true
   },
   "outputs": [
    {
     "data": {
      "text/plain": [
       "(174567, 13)"
      ]
     },
     "metadata": {},
     "output_type": "display_data"
    },
    {
     "data": {
      "text/plain": [
       "(69079, 13)"
      ]
     },
     "metadata": {},
     "output_type": "display_data"
    }
   ],
   "source": [
    "#filter only restuant and food from all business\n",
    "\n",
    "business_filter = business[(business['categories'].str.contains(\"Food\",regex=True))|\n",
    "         (business['categories'].str.contains(\"Restaurant\",regex=True))]\n",
    "\n",
    "#sanity check\n",
    "display(business.shape)\n",
    "display(business_filter.shape)"
   ]
  },
  {
   "cell_type": "code",
   "execution_count": 10,
   "metadata": {
    "ExecuteTime": {
     "end_time": "2019-11-24T16:36:20.583000Z",
     "start_time": "2019-11-24T16:36:20.434000Z"
    },
    "hidden": true,
    "scrolled": true
   },
   "outputs": [
    {
     "data": {
      "text/plain": [
       "ON     16845\n",
       "AZ     13826\n",
       "NV      9263\n",
       "OH      6031\n",
       "QC      5941\n",
       "NC      4969\n",
       "PA      4686\n",
       "BW      2023\n",
       "WI      1984\n",
       "EDH     1906\n",
       "IL       786\n",
       "SC       291\n",
       "MLN      120\n",
       "HLD       76\n",
       "CHE       75\n",
       "NYK       71\n",
       "FIF       34\n",
       "ELN       32\n",
       "C         22\n",
       "WLN       21\n",
       "NY        12\n",
       "01        10\n",
       "NI        10\n",
       "ST         8\n",
       "VS         6\n",
       "ESX        4\n",
       "IN         3\n",
       "BY         3\n",
       "CO         2\n",
       "GLG        2\n",
       "XGL        2\n",
       "CA         1\n",
       "RCC        1\n",
       "B          1\n",
       "6          1\n",
       "3          1\n",
       "WHT        1\n",
       "FLN        1\n",
       "AK         1\n",
       "ABE        1\n",
       "30         1\n",
       "PKN        1\n",
       "VA         1\n",
       "ZET        1\n",
       "HU         1\n",
       "KHL        1\n",
       "Name: state, dtype: int64"
      ]
     },
     "execution_count": 10,
     "metadata": {},
     "output_type": "execute_result"
    }
   ],
   "source": [
    "#filter out North America Only\n",
    "#check on different locations for the business\n",
    "business_filter['state'].value_counts()"
   ]
  },
  {
   "cell_type": "code",
   "execution_count": 27,
   "metadata": {
    "ExecuteTime": {
     "end_time": "2019-11-24T16:46:31.998000Z",
     "start_time": "2019-11-24T16:46:31.950000Z"
    },
    "hidden": true
   },
   "outputs": [],
   "source": [
    "#get only US and canada business\n",
    "\n",
    "#set up list contains only north america state\n",
    "state_abbv = pd.read_csv('data/state_abbr.csv')\n",
    "\n",
    "#get north amercia business only from business_filter\n",
    "business_nora = business_filter[business_filter['state'].isin(state_abbv['Code'])]\n",
    "\n",
    "state_count = business_nora['state'].value_counts()\n",
    "# state_count.to_csv('state_count.csv')\n"
   ]
  },
  {
   "cell_type": "code",
   "execution_count": 33,
   "metadata": {
    "ExecuteTime": {
     "end_time": "2019-11-24T16:49:58.344000Z",
     "start_time": "2019-11-24T16:49:57.181000Z"
    },
    "hidden": true
   },
   "outputs": [
    {
     "data": {
      "text/plain": [
       "(2027121, 7)"
      ]
     },
     "metadata": {},
     "output_type": "display_data"
    },
    {
     "data": {
      "text/plain": [
       "(3092921, 7)"
      ]
     },
     "metadata": {},
     "output_type": "display_data"
    }
   ],
   "source": [
    "# Select north america reviews only based on business_nora['business_id']\n",
    "review_nora = review1[review1['business_id'].isin(business_nora['business_id'])]\n",
    "\n",
    "display(review_nora.shape)\n",
    "display(review1.shape)"
   ]
  },
  {
   "cell_type": "code",
   "execution_count": 33,
   "metadata": {
    "ExecuteTime": {
     "end_time": "2019-11-26T21:44:44.121200Z",
     "start_time": "2019-11-26T21:43:57.401200Z"
    },
    "hidden": true
   },
   "outputs": [],
   "source": [
    "# drop duplicated index columns\n",
    "review_nora = review_nora.drop(['Unnamed: 0', 'Unnamed: 0.1'], axis=1)\n",
    "\n",
    "#Export review_nora to csv\n",
    "review_nora.to_csv('cleaned_data/review_nora.csv')"
   ]
  },
  {
   "cell_type": "code",
   "execution_count": 14,
   "metadata": {
    "ExecuteTime": {
     "end_time": "2019-11-24T16:36:41.298000Z",
     "start_time": "2019-11-24T16:36:39.741000Z"
    },
    "hidden": true
   },
   "outputs": [],
   "source": [
    "#remove \"\" from name column.\n",
    "\n",
    "\n",
    "# number_reviews = business_nora[['name','stars','review_count','latitude', 'longitude']]\n",
    "\n",
    "# number_reviews['name'] = number_reviews['name'].apply(lambda x : x.replace('\"',''))\n",
    "\n",
    "# number_reviews.to_csv('number_reviews.csv')"
   ]
  },
  {
   "cell_type": "code",
   "execution_count": 15,
   "metadata": {
    "ExecuteTime": {
     "end_time": "2019-11-24T16:37:30.094000Z",
     "start_time": "2019-11-24T16:37:30.026000Z"
    },
    "hidden": true
   },
   "outputs": [],
   "source": [
    "# ON = business_nora[(business_nora['stars']==5.0)][['name','review_count','stars']]\n",
    "\n",
    "# ON = ON.sort_values(by='review_count', ascending=False)\n",
    "\n",
    "# Top_20 = ON.head(20)\n",
    "# Top_20.to_csv('top20.csv')"
   ]
  },
  {
   "cell_type": "code",
   "execution_count": 18,
   "metadata": {
    "ExecuteTime": {
     "end_time": "2019-11-24T16:38:07.488000Z",
     "start_time": "2019-11-24T16:38:07.108000Z"
    },
    "hidden": true
   },
   "outputs": [
    {
     "data": {
      "text/plain": [
       "<Figure size 1440x720 with 0 Axes>"
      ]
     },
     "metadata": {},
     "output_type": "display_data"
    },
    {
     "data": {
      "image/png": "[encoded data removed]",
      "text/plain": [
       "<Figure size 1440x720 with 1 Axes>"
      ]
     },
     "metadata": {},
     "output_type": "display_data"
    }
   ],
   "source": [
    "#plot out number of stars distribution \n",
    "sns.set(font_scale=15)\n",
    "sns.set(style = 'darkgrid')\n",
    "plt.figure(figsize=(20,10))\n",
    "sns.set(font_scale=2.0)\n",
    "plt.figure(figsize=(20,10))\n",
    "sns.countplot(number_reviews['stars'], edgecolor='black', palette = 'Blues_d')\n",
    "plt.title('Rating Distribution')\n",
    "plt.ylabel('Number of Rating')\n",
    "plt.xlabel('Star Ratings')\n",
    "\n",
    "plt.show()"
   ]
  },
  {
   "cell_type": "code",
   "execution_count": null,
   "metadata": {
    "hidden": true
   },
   "outputs": [],
   "source": []
  },
  {
   "cell_type": "markdown",
   "metadata": {
    "heading_collapsed": true,
    "hidden": true
   },
   "source": [
    "## Clean Text review in review_nora\n",
    "\n",
    "### Status: Done\n",
    "\n",
    "    1. Tokenized the text\n",
    "    2. Change to lower character for each tokens\n",
    "    3. Remove stopwords \n",
    "    4. Remove punctuation \n",
    "    5. Untokenized the text \n",
    "    6. Unlist each row from list of strings to strings\n",
    "    \n",
    "### Final Variables: review_nora_cleaned\n",
    "    "
   ]
  },
  {
   "cell_type": "code",
   "execution_count": 8,
   "metadata": {
    "ExecuteTime": {
     "end_time": "2019-11-27T15:49:47.743230Z",
     "start_time": "2019-11-27T15:49:33.127812Z"
    },
    "hidden": true
   },
   "outputs": [
    {
     "data": {
      "text/html": [
       "<div>\n",
       "<style scoped>\n",
       "    .dataframe tbody tr th:only-of-type {\n",
       "        vertical-align: middle;\n",
       "    }\n",
       "\n",
       "    .dataframe tbody tr th {\n",
       "        vertical-align: top;\n",
       "    }\n",
       "\n",
       "    .dataframe thead th {\n",
       "        text-align: right;\n",
       "    }\n",
       "</style>\n",
       "<table border=\"1\" class=\"dataframe\">\n",
       "  <thead>\n",
       "    <tr style=\"text-align: right;\">\n",
       "      <th></th>\n",
       "      <th>Unnamed: 0</th>\n",
       "      <th>review_id</th>\n",
       "      <th>user_id</th>\n",
       "      <th>business_id</th>\n",
       "      <th>stars</th>\n",
       "      <th>date</th>\n",
       "      <th>text</th>\n",
       "    </tr>\n",
       "  </thead>\n",
       "  <tbody>\n",
       "    <tr>\n",
       "      <td>0</td>\n",
       "      <td>0</td>\n",
       "      <td>vkVSCC7xljjrAI4UGfnKEQ</td>\n",
       "      <td>bv2nCi5Qv5vroFiqKGopiw</td>\n",
       "      <td>AEx2SYEUJmTxVVB18LlCwA</td>\n",
       "      <td>5</td>\n",
       "      <td>2016-05-28</td>\n",
       "      <td>Super simple place but amazing nonetheless. It...</td>\n",
       "    </tr>\n",
       "    <tr>\n",
       "      <td>1</td>\n",
       "      <td>1</td>\n",
       "      <td>n6QzIUObkYshz4dz2QRJTw</td>\n",
       "      <td>bv2nCi5Qv5vroFiqKGopiw</td>\n",
       "      <td>VR6GpWIda3SfvPC-lg9H3w</td>\n",
       "      <td>5</td>\n",
       "      <td>2016-05-28</td>\n",
       "      <td>Small unassuming place that changes their menu...</td>\n",
       "    </tr>\n",
       "    <tr>\n",
       "      <td>2</td>\n",
       "      <td>2</td>\n",
       "      <td>MV3CcKScW05u5LVfF6ok0g</td>\n",
       "      <td>bv2nCi5Qv5vroFiqKGopiw</td>\n",
       "      <td>CKC0-MOWMqoeWf6s-szl8g</td>\n",
       "      <td>5</td>\n",
       "      <td>2016-05-28</td>\n",
       "      <td>Lester's is located in a beautiful neighborhoo...</td>\n",
       "    </tr>\n",
       "    <tr>\n",
       "      <td>3</td>\n",
       "      <td>3</td>\n",
       "      <td>IXvOzsEMYtiJI0CARmj77Q</td>\n",
       "      <td>bv2nCi5Qv5vroFiqKGopiw</td>\n",
       "      <td>ACFtxLv8pGrrxMm6EgjreA</td>\n",
       "      <td>4</td>\n",
       "      <td>2016-05-28</td>\n",
       "      <td>Love coming here. Yes the place always needs t...</td>\n",
       "    </tr>\n",
       "    <tr>\n",
       "      <td>4</td>\n",
       "      <td>4</td>\n",
       "      <td>L_9BTb55X0GDtThi6GlZ6w</td>\n",
       "      <td>bv2nCi5Qv5vroFiqKGopiw</td>\n",
       "      <td>s2I_Ni76bjJNK9yG60iD-Q</td>\n",
       "      <td>4</td>\n",
       "      <td>2016-05-28</td>\n",
       "      <td>Had their chocolate almond croissant and it wa...</td>\n",
       "    </tr>\n",
       "  </tbody>\n",
       "</table>\n",
       "</div>"
      ],
      "text/plain": [
       "   Unnamed: 0               review_id                 user_id  \\\n",
       "0           0  vkVSCC7xljjrAI4UGfnKEQ  bv2nCi5Qv5vroFiqKGopiw   \n",
       "1           1  n6QzIUObkYshz4dz2QRJTw  bv2nCi5Qv5vroFiqKGopiw   \n",
       "2           2  MV3CcKScW05u5LVfF6ok0g  bv2nCi5Qv5vroFiqKGopiw   \n",
       "3           3  IXvOzsEMYtiJI0CARmj77Q  bv2nCi5Qv5vroFiqKGopiw   \n",
       "4           4  L_9BTb55X0GDtThi6GlZ6w  bv2nCi5Qv5vroFiqKGopiw   \n",
       "\n",
       "              business_id  stars        date  \\\n",
       "0  AEx2SYEUJmTxVVB18LlCwA      5  2016-05-28   \n",
       "1  VR6GpWIda3SfvPC-lg9H3w      5  2016-05-28   \n",
       "2  CKC0-MOWMqoeWf6s-szl8g      5  2016-05-28   \n",
       "3  ACFtxLv8pGrrxMm6EgjreA      4  2016-05-28   \n",
       "4  s2I_Ni76bjJNK9yG60iD-Q      4  2016-05-28   \n",
       "\n",
       "                                                text  \n",
       "0  Super simple place but amazing nonetheless. It...  \n",
       "1  Small unassuming place that changes their menu...  \n",
       "2  Lester's is located in a beautiful neighborhoo...  \n",
       "3  Love coming here. Yes the place always needs t...  \n",
       "4  Had their chocolate almond croissant and it wa...  "
      ]
     },
     "execution_count": 8,
     "metadata": {},
     "output_type": "execute_result"
    }
   ],
   "source": [
    "review_nora = pd.read_csv('~/yelp/review_nora.csv')\n",
    "review_nora.head()"
   ]
  },
  {
   "cell_type": "code",
   "execution_count": 5,
   "metadata": {
    "ExecuteTime": {
     "end_time": "2019-12-01T14:53:36.760110Z",
     "start_time": "2019-12-01T14:53:33.706445Z"
    },
    "hidden": true
   },
   "outputs": [],
   "source": [
    "#import different nlp packages\n",
    "import nltk\n",
    "import string\n",
    "from sklearn.feature_extraction.text import ENGLISH_STOP_WORDS\n",
    "from nltk.tokenize import word_tokenize\n",
    "from nltk.stem import PorterStemmer\n",
    "import re"
   ]
  },
  {
   "cell_type": "code",
   "execution_count": 6,
   "metadata": {
    "ExecuteTime": {
     "end_time": "2019-12-01T14:53:36.767437Z",
     "start_time": "2019-12-01T14:53:36.763077Z"
    },
    "hidden": true
   },
   "outputs": [],
   "source": [
    "#define function to remove stop words\n",
    "def remove_stopwords(list_of_tokens):\n",
    "    '''\n",
    "    Remove English Stop Words\n",
    "    '''\n",
    "    \n",
    "    cleaned_tokens = []\n",
    "    for token in list_of_tokens:\n",
    "        if token in ENGLISH_STOP_WORDS: continue\n",
    "        cleaned_tokens.append(token)\n",
    "        \n",
    "    return cleaned_tokens"
   ]
  },
  {
   "cell_type": "code",
   "execution_count": 7,
   "metadata": {
    "ExecuteTime": {
     "end_time": "2019-12-01T14:53:39.399866Z",
     "start_time": "2019-12-01T14:53:39.394567Z"
    },
    "hidden": true
   },
   "outputs": [],
   "source": [
    "#define function to remove punctuation, character less than 2, remove extra''\n",
    "def remove_punctuation(list_of_tokens):\n",
    "    '''\n",
    "    1. Remove Punctuation\n",
    "    2. Remove character less than 2\n",
    "    3. Remove extra '' in the list\n",
    "    \n",
    "    '''\n",
    "    cleaned_tokens = []\n",
    "    for word in list_of_tokens:\n",
    "          \n",
    "        #remove punctuation\n",
    "        for punctuation in string.punctuation:\n",
    "            word = word.replace(punctuation,'')\n",
    "            \n",
    "            #remove character less than 2\n",
    "            word = re.sub(r'\\b\\w{1,2}\\b', '', word)\n",
    "            \n",
    "        #append the word to cleaned token\n",
    "        cleaned_tokens.append(word)\n",
    "        \n",
    "        #remove extra '' in the list\n",
    "        while('' in cleaned_tokens):\n",
    "            cleaned_tokens.remove('')\n",
    "            \n",
    "    return cleaned_tokens"
   ]
  },
  {
   "cell_type": "code",
   "execution_count": 8,
   "metadata": {
    "ExecuteTime": {
     "end_time": "2019-12-01T14:53:42.403169Z",
     "start_time": "2019-12-01T14:53:42.399606Z"
    },
    "hidden": true
   },
   "outputs": [],
   "source": [
    "#define a function to untokenlize the tokens\n",
    "def the_untokenizer(token_list):\n",
    "    '''\n",
    "    Untokenize the token back to string\n",
    "    '''\n",
    "    return \" \".join(token_list)"
   ]
  },
  {
   "cell_type": "code",
   "execution_count": 9,
   "metadata": {
    "ExecuteTime": {
     "end_time": "2019-12-01T14:53:47.564850Z",
     "start_time": "2019-12-01T14:53:47.559833Z"
    },
    "hidden": true
   },
   "outputs": [],
   "source": [
    "#define a function to cleaning_out_texts to combine functions:tokenize, remove_stopwords, remove_punctuation, the_untokenizer\n",
    "\n",
    "def cleaning_out_texts(text):\n",
    "    '''\n",
    "    1. Tokenized the text\n",
    "    2. Change to lower character for each tokens\n",
    "    3. Apply remove_stopwords function defined above\n",
    "    4. Apply remove_punctuation function defined above\n",
    "    5. Apply the_untokenizer function defined above\n",
    "    6. Returned cleaned text\n",
    "    \n",
    "    '''\n",
    "    cleaned_text = []\n",
    "    \n",
    "    tokenizer_list = word_tokenize(text)\n",
    "    \n",
    "    lower_word = []\n",
    "    for word in tokenizer_list:\n",
    "        \n",
    "        word = word.lower()\n",
    "        \n",
    "        lower_word.append(word)\n",
    "    \n",
    "    removed_stopwords_list = remove_stopwords(lower_word)\n",
    "        \n",
    "    removed_punctuation_list = remove_punctuation(removed_stopwords_list)\n",
    "                \n",
    "    back_to_string = the_untokenizer(removed_punctuation_list)\n",
    "        \n",
    "    cleaned_text.append(back_to_string)\n",
    "        \n",
    "    return cleaned_text       "
   ]
  },
  {
   "cell_type": "code",
   "execution_count": 21,
   "metadata": {
    "ExecuteTime": {
     "end_time": "2019-11-27T17:48:08.198603Z",
     "start_time": "2019-11-27T15:51:01.269078Z"
    },
    "hidden": true
   },
   "outputs": [
    {
     "data": {
      "text/html": [
       "<div>\n",
       "<style scoped>\n",
       "    .dataframe tbody tr th:only-of-type {\n",
       "        vertical-align: middle;\n",
       "    }\n",
       "\n",
       "    .dataframe tbody tr th {\n",
       "        vertical-align: top;\n",
       "    }\n",
       "\n",
       "    .dataframe thead th {\n",
       "        text-align: right;\n",
       "    }\n",
       "</style>\n",
       "<table border=\"1\" class=\"dataframe\">\n",
       "  <thead>\n",
       "    <tr style=\"text-align: right;\">\n",
       "      <th></th>\n",
       "      <th>Unnamed: 0</th>\n",
       "      <th>review_id</th>\n",
       "      <th>user_id</th>\n",
       "      <th>business_id</th>\n",
       "      <th>stars</th>\n",
       "      <th>date</th>\n",
       "      <th>text</th>\n",
       "      <th>cleaned_text</th>\n",
       "    </tr>\n",
       "  </thead>\n",
       "  <tbody>\n",
       "    <tr>\n",
       "      <td>0</td>\n",
       "      <td>0</td>\n",
       "      <td>vkVSCC7xljjrAI4UGfnKEQ</td>\n",
       "      <td>bv2nCi5Qv5vroFiqKGopiw</td>\n",
       "      <td>AEx2SYEUJmTxVVB18LlCwA</td>\n",
       "      <td>5</td>\n",
       "      <td>2016-05-28</td>\n",
       "      <td>Super simple place but amazing nonetheless. It...</td>\n",
       "      <td>[super simple place amazing nonetheless serve ...</td>\n",
       "    </tr>\n",
       "    <tr>\n",
       "      <td>1</td>\n",
       "      <td>1</td>\n",
       "      <td>n6QzIUObkYshz4dz2QRJTw</td>\n",
       "      <td>bv2nCi5Qv5vroFiqKGopiw</td>\n",
       "      <td>VR6GpWIda3SfvPC-lg9H3w</td>\n",
       "      <td>5</td>\n",
       "      <td>2016-05-28</td>\n",
       "      <td>Small unassuming place that changes their menu...</td>\n",
       "      <td>[small unassuming place changes menu cool deco...</td>\n",
       "    </tr>\n",
       "    <tr>\n",
       "      <td>2</td>\n",
       "      <td>2</td>\n",
       "      <td>MV3CcKScW05u5LVfF6ok0g</td>\n",
       "      <td>bv2nCi5Qv5vroFiqKGopiw</td>\n",
       "      <td>CKC0-MOWMqoeWf6s-szl8g</td>\n",
       "      <td>5</td>\n",
       "      <td>2016-05-28</td>\n",
       "      <td>Lester's is located in a beautiful neighborhoo...</td>\n",
       "      <td>[lester located beautiful neighborhood 1951 kn...</td>\n",
       "    </tr>\n",
       "    <tr>\n",
       "      <td>3</td>\n",
       "      <td>3</td>\n",
       "      <td>IXvOzsEMYtiJI0CARmj77Q</td>\n",
       "      <td>bv2nCi5Qv5vroFiqKGopiw</td>\n",
       "      <td>ACFtxLv8pGrrxMm6EgjreA</td>\n",
       "      <td>4</td>\n",
       "      <td>2016-05-28</td>\n",
       "      <td>Love coming here. Yes the place always needs t...</td>\n",
       "      <td>[love coming yes place needs floor swept peanu...</td>\n",
       "    </tr>\n",
       "    <tr>\n",
       "      <td>4</td>\n",
       "      <td>4</td>\n",
       "      <td>L_9BTb55X0GDtThi6GlZ6w</td>\n",
       "      <td>bv2nCi5Qv5vroFiqKGopiw</td>\n",
       "      <td>s2I_Ni76bjJNK9yG60iD-Q</td>\n",
       "      <td>4</td>\n",
       "      <td>2016-05-28</td>\n",
       "      <td>Had their chocolate almond croissant and it wa...</td>\n",
       "      <td>[chocolate almond croissant amazing light butt...</td>\n",
       "    </tr>\n",
       "  </tbody>\n",
       "</table>\n",
       "</div>"
      ],
      "text/plain": [
       "   Unnamed: 0               review_id                 user_id  \\\n",
       "0           0  vkVSCC7xljjrAI4UGfnKEQ  bv2nCi5Qv5vroFiqKGopiw   \n",
       "1           1  n6QzIUObkYshz4dz2QRJTw  bv2nCi5Qv5vroFiqKGopiw   \n",
       "2           2  MV3CcKScW05u5LVfF6ok0g  bv2nCi5Qv5vroFiqKGopiw   \n",
       "3           3  IXvOzsEMYtiJI0CARmj77Q  bv2nCi5Qv5vroFiqKGopiw   \n",
       "4           4  L_9BTb55X0GDtThi6GlZ6w  bv2nCi5Qv5vroFiqKGopiw   \n",
       "\n",
       "              business_id  stars        date  \\\n",
       "0  AEx2SYEUJmTxVVB18LlCwA      5  2016-05-28   \n",
       "1  VR6GpWIda3SfvPC-lg9H3w      5  2016-05-28   \n",
       "2  CKC0-MOWMqoeWf6s-szl8g      5  2016-05-28   \n",
       "3  ACFtxLv8pGrrxMm6EgjreA      4  2016-05-28   \n",
       "4  s2I_Ni76bjJNK9yG60iD-Q      4  2016-05-28   \n",
       "\n",
       "                                                text  \\\n",
       "0  Super simple place but amazing nonetheless. It...   \n",
       "1  Small unassuming place that changes their menu...   \n",
       "2  Lester's is located in a beautiful neighborhoo...   \n",
       "3  Love coming here. Yes the place always needs t...   \n",
       "4  Had their chocolate almond croissant and it wa...   \n",
       "\n",
       "                                        cleaned_text  \n",
       "0  [super simple place amazing nonetheless serve ...  \n",
       "1  [small unassuming place changes menu cool deco...  \n",
       "2  [lester located beautiful neighborhood 1951 kn...  \n",
       "3  [love coming yes place needs floor swept peanu...  \n",
       "4  [chocolate almond croissant amazing light butt...  "
      ]
     },
     "execution_count": 21,
     "metadata": {},
     "output_type": "execute_result"
    }
   ],
   "source": [
    "review_nora['cleaned_text']= review_nora['text'].apply(cleaning_out_texts)\n",
    "review_nora.head()"
   ]
  },
  {
   "cell_type": "code",
   "execution_count": 10,
   "metadata": {
    "ExecuteTime": {
     "end_time": "2019-12-01T14:53:54.353616Z",
     "start_time": "2019-12-01T14:53:54.314675Z"
    },
    "hidden": true
   },
   "outputs": [
    {
     "data": {
      "text/plain": [
       "0    super simple place amazing nonetheless serve t...\n",
       "1    small unassuming place changes menu cool decor...\n",
       "2    lester located beautiful neighborhood 1951 kno...\n",
       "3    love coming yes place needs floor swept peanut...\n",
       "4    chocolate almond croissant amazing light butte...\n",
       "Name: cleaned_text, dtype: object"
      ]
     },
     "execution_count": 10,
     "metadata": {},
     "output_type": "execute_result"
    }
   ],
   "source": [
    "review_nora_cleaned['cleaned_text'].head()"
   ]
  },
  {
   "cell_type": "code",
   "execution_count": 11,
   "metadata": {
    "ExecuteTime": {
     "end_time": "2019-12-01T14:53:59.777389Z",
     "start_time": "2019-12-01T14:53:59.774096Z"
    },
    "hidden": true
   },
   "outputs": [],
   "source": [
    "# define a function to remove extra '' and unpack the list\n",
    "\n",
    "def unlist(list):\n",
    "    return str(list).strip(\"[],''\")"
   ]
  },
  {
   "cell_type": "code",
   "execution_count": 7,
   "metadata": {
    "ExecuteTime": {
     "end_time": "2019-11-29T14:32:12.424791Z",
     "start_time": "2019-11-29T14:32:12.419744Z"
    },
    "hidden": true
   },
   "outputs": [
    {
     "data": {
      "text/plain": [
       "Index(['review_id', 'user_id', 'business_id', 'stars', 'date', 'text',\n",
       "       'cleaned_text'],\n",
       "      dtype='object')"
      ]
     },
     "execution_count": 7,
     "metadata": {},
     "output_type": "execute_result"
    }
   ],
   "source": [
    "review_nora_cleaned.columns"
   ]
  },
  {
   "cell_type": "code",
   "execution_count": 33,
   "metadata": {
    "ExecuteTime": {
     "end_time": "2019-11-29T02:28:55.878891Z",
     "start_time": "2019-11-29T02:28:54.847856Z"
    },
    "hidden": true
   },
   "outputs": [],
   "source": [
    "#apply the unlist function to cleaned_text\n",
    "review_nora_cleaned['cleaned_text']=review_nora_cleaned['cleaned_text'].apply(unlist)"
   ]
  },
  {
   "cell_type": "code",
   "execution_count": 6,
   "metadata": {
    "ExecuteTime": {
     "end_time": "2019-11-29T14:32:08.046420Z",
     "start_time": "2019-11-29T14:32:07.823716Z"
    },
    "hidden": true
   },
   "outputs": [],
   "source": [
    "#drop unnecssary columns. the index from previous step\n",
    "review_nora_cleaned=review_nora_cleaned.drop(['Unnamed: 0','index'], axis=1)"
   ]
  },
  {
   "cell_type": "code",
   "execution_count": 62,
   "metadata": {
    "ExecuteTime": {
     "end_time": "2019-11-29T02:43:11.649815Z",
     "start_time": "2019-11-29T02:43:11.646301Z"
    },
    "hidden": true
   },
   "outputs": [
    {
     "name": "stdout",
     "output_type": "stream",
     "text": [
      "RangeIndex(start=0, stop=2027121, step=1)\n"
     ]
    }
   ],
   "source": [
    "print(review_nora_cleaned.index)"
   ]
  },
  {
   "cell_type": "code",
   "execution_count": 88,
   "metadata": {
    "ExecuteTime": {
     "end_time": "2019-11-29T02:48:09.158374Z",
     "start_time": "2019-11-29T02:48:06.800465Z"
    },
    "hidden": true
   },
   "outputs": [
    {
     "data": {
      "text/plain": [
       "0"
      ]
     },
     "execution_count": 88,
     "metadata": {},
     "output_type": "execute_result"
    }
   ],
   "source": [
    "#remove NA value. only 16. so remove have no impact\n",
    "review_nora_cleaned = review_nora_cleaned.dropna(axis=0).reset_index()\n",
    "\n",
    "review_nora_cleaned['cleaned_text'].isnull().sum()"
   ]
  },
  {
   "cell_type": "code",
   "execution_count": 94,
   "metadata": {
    "ExecuteTime": {
     "end_time": "2019-11-29T02:54:59.864677Z",
     "start_time": "2019-11-29T02:54:14.463428Z"
    },
    "hidden": true
   },
   "outputs": [],
   "source": [
    "#export the updated review_nora_cleaned 2019-11-28 to csv\n",
    "review_nora_cleaned.to_csv('~/yelp/review_nora_cleaned_2019_11_28.csv')"
   ]
  },
  {
   "cell_type": "markdown",
   "metadata": {
    "heading_collapsed": true,
    "hidden": true
   },
   "source": [
    "## Clean checkin files\n",
    "\n",
    "### Status: Done\n",
    "\n",
    "    1. Aggregate number of checkins by business id \n",
    "    \n",
    "\n",
    "### Final Variable Name: aggregate_checkins"
   ]
  },
  {
   "cell_type": "code",
   "execution_count": 181,
   "metadata": {
    "ExecuteTime": {
     "end_time": "2019-12-01T20:43:18.073378Z",
     "start_time": "2019-12-01T20:43:18.061510Z"
    },
    "hidden": true
   },
   "outputs": [
    {
     "data": {
      "text/html": [
       "<div>\n",
       "<style scoped>\n",
       "    .dataframe tbody tr th:only-of-type {\n",
       "        vertical-align: middle;\n",
       "    }\n",
       "\n",
       "    .dataframe tbody tr th {\n",
       "        vertical-align: top;\n",
       "    }\n",
       "\n",
       "    .dataframe thead th {\n",
       "        text-align: right;\n",
       "    }\n",
       "</style>\n",
       "<table border=\"1\" class=\"dataframe\">\n",
       "  <thead>\n",
       "    <tr style=\"text-align: right;\">\n",
       "      <th></th>\n",
       "      <th>business_id</th>\n",
       "      <th>weekday</th>\n",
       "      <th>hour</th>\n",
       "      <th>checkins</th>\n",
       "    </tr>\n",
       "  </thead>\n",
       "  <tbody>\n",
       "    <tr>\n",
       "      <td>0</td>\n",
       "      <td>3Mc-LxcqeguOXOVT_2ZtCg</td>\n",
       "      <td>Tue</td>\n",
       "      <td>0:00</td>\n",
       "      <td>12</td>\n",
       "    </tr>\n",
       "    <tr>\n",
       "      <td>1</td>\n",
       "      <td>SVFx6_epO22bZTZnKwlX7g</td>\n",
       "      <td>Wed</td>\n",
       "      <td>0:00</td>\n",
       "      <td>4</td>\n",
       "    </tr>\n",
       "    <tr>\n",
       "      <td>2</td>\n",
       "      <td>vW9aLivd4-IorAfStzsHww</td>\n",
       "      <td>Tue</td>\n",
       "      <td>14:00</td>\n",
       "      <td>1</td>\n",
       "    </tr>\n",
       "    <tr>\n",
       "      <td>3</td>\n",
       "      <td>tEzxhauTQddACyqdJ0OPEQ</td>\n",
       "      <td>Fri</td>\n",
       "      <td>19:00</td>\n",
       "      <td>1</td>\n",
       "    </tr>\n",
       "    <tr>\n",
       "      <td>4</td>\n",
       "      <td>CEyZU32P-vtMhgqRCaXzMA</td>\n",
       "      <td>Tue</td>\n",
       "      <td>17:00</td>\n",
       "      <td>1</td>\n",
       "    </tr>\n",
       "  </tbody>\n",
       "</table>\n",
       "</div>"
      ],
      "text/plain": [
       "              business_id weekday   hour  checkins\n",
       "0  3Mc-LxcqeguOXOVT_2ZtCg     Tue   0:00        12\n",
       "1  SVFx6_epO22bZTZnKwlX7g     Wed   0:00         4\n",
       "2  vW9aLivd4-IorAfStzsHww     Tue  14:00         1\n",
       "3  tEzxhauTQddACyqdJ0OPEQ     Fri  19:00         1\n",
       "4  CEyZU32P-vtMhgqRCaXzMA     Tue  17:00         1"
      ]
     },
     "execution_count": 181,
     "metadata": {},
     "output_type": "execute_result"
    }
   ],
   "source": [
    "checkin.head()"
   ]
  },
  {
   "cell_type": "code",
   "execution_count": 183,
   "metadata": {
    "ExecuteTime": {
     "end_time": "2019-12-01T20:44:42.519325Z",
     "start_time": "2019-12-01T20:44:40.619357Z"
    },
    "hidden": true
   },
   "outputs": [
    {
     "data": {
      "text/html": [
       "<div>\n",
       "<style scoped>\n",
       "    .dataframe tbody tr th:only-of-type {\n",
       "        vertical-align: middle;\n",
       "    }\n",
       "\n",
       "    .dataframe tbody tr th {\n",
       "        vertical-align: top;\n",
       "    }\n",
       "\n",
       "    .dataframe thead tr th {\n",
       "        text-align: left;\n",
       "    }\n",
       "</style>\n",
       "<table border=\"1\" class=\"dataframe\">\n",
       "  <thead>\n",
       "    <tr>\n",
       "      <th></th>\n",
       "      <th>business_id</th>\n",
       "      <th>checkins</th>\n",
       "    </tr>\n",
       "    <tr>\n",
       "      <th></th>\n",
       "      <th></th>\n",
       "      <th>sum</th>\n",
       "    </tr>\n",
       "  </thead>\n",
       "  <tbody>\n",
       "    <tr>\n",
       "      <td>0</td>\n",
       "      <td>--6MefnULPED_I942VcFNA</td>\n",
       "      <td>139</td>\n",
       "    </tr>\n",
       "    <tr>\n",
       "      <td>1</td>\n",
       "      <td>--7zmmkVg-IMGaXbuVd0SQ</td>\n",
       "      <td>153</td>\n",
       "    </tr>\n",
       "    <tr>\n",
       "      <td>2</td>\n",
       "      <td>--8LPVSo5i0Oo61X01sV9A</td>\n",
       "      <td>1</td>\n",
       "    </tr>\n",
       "    <tr>\n",
       "      <td>3</td>\n",
       "      <td>--9QQLMTbFzLJ_oT-ON3Xw</td>\n",
       "      <td>33</td>\n",
       "    </tr>\n",
       "    <tr>\n",
       "      <td>4</td>\n",
       "      <td>--9e1ONYQuAa-CB_Rrw7Tw</td>\n",
       "      <td>2568</td>\n",
       "    </tr>\n",
       "  </tbody>\n",
       "</table>\n",
       "</div>"
      ],
      "text/plain": [
       "              business_id checkins\n",
       "                               sum\n",
       "0  --6MefnULPED_I942VcFNA      139\n",
       "1  --7zmmkVg-IMGaXbuVd0SQ      153\n",
       "2  --8LPVSo5i0Oo61X01sV9A        1\n",
       "3  --9QQLMTbFzLJ_oT-ON3Xw       33\n",
       "4  --9e1ONYQuAa-CB_Rrw7Tw     2568"
      ]
     },
     "execution_count": 183,
     "metadata": {},
     "output_type": "execute_result"
    }
   ],
   "source": [
    "aggregate_checkins = checkin.groupby('business_id').agg({'checkins':['sum']}).reset_index()\n",
    "aggregate_checkins.head()"
   ]
  },
  {
   "cell_type": "markdown",
   "metadata": {
    "heading_collapsed": true
   },
   "source": [
    "# Convert Words to Numbers\n",
    "\n",
    "## Status: Done\n",
    "\n",
    "    1. Using Textblob to get the polarity and subjectivity\n",
    "    2. Get the length of each review text\n",
    "    3. Using VADER Packages to get the postive, neutral, negative sentiment in each review\n",
    "\n",
    "### Using Textblob to get the polarity and subjectivity in the sentence: Done\n"
   ]
  },
  {
   "cell_type": "code",
   "execution_count": 11,
   "metadata": {
    "ExecuteTime": {
     "end_time": "2019-11-29T15:01:08.849761Z",
     "start_time": "2019-11-29T14:32:55.940532Z"
    },
    "hidden": true,
    "scrolled": true
   },
   "outputs": [],
   "source": [
    "#Using Textblob to get polarity and subjectivity by sentence\n",
    "from textblob import TextBlob\n",
    "\n",
    "polarity = []\n",
    "subjectivity = []\n",
    "\n",
    "for n in range(review_nora_cleaned.shape[0]):\n",
    "    \n",
    "    polar_score = TextBlob(review_nora_cleaned['cleaned_text'][n]).sentiment[0]\n",
    "    subject_score = TextBlob(review_nora_cleaned['cleaned_text'][n]).sentiment[1]\n",
    "    \n",
    "    polarity.append(polar_score)\n",
    "    subjectivity.append(subject_score)\n",
    "\n",
    "review_nora_cleaned['polarity']=polarity\n",
    "review_nora_cleaned['subjectivity']=subjectivity"
   ]
  },
  {
   "cell_type": "code",
   "execution_count": 13,
   "metadata": {
    "ExecuteTime": {
     "end_time": "2019-11-29T15:37:51.904805Z",
     "start_time": "2019-11-29T15:37:06.128474Z"
    },
    "hidden": true
   },
   "outputs": [],
   "source": [
    "#save the cleaned version to csv\n",
    "review_nora_cleaned.to_csv('~/yelp/cleaned_data/review_nora_cleaned_2019-11-29.csv', index=False)"
   ]
  },
  {
   "cell_type": "code",
   "execution_count": 12,
   "metadata": {
    "ExecuteTime": {
     "end_time": "2019-12-01T15:03:01.795558Z",
     "start_time": "2019-12-01T15:03:01.657008Z"
    },
    "hidden": true
   },
   "outputs": [
    {
     "data": {
      "text/html": [
       "<div>\n",
       "<style scoped>\n",
       "    .dataframe tbody tr th:only-of-type {\n",
       "        vertical-align: middle;\n",
       "    }\n",
       "\n",
       "    .dataframe tbody tr th {\n",
       "        vertical-align: top;\n",
       "    }\n",
       "\n",
       "    .dataframe thead th {\n",
       "        text-align: right;\n",
       "    }\n",
       "</style>\n",
       "<table border=\"1\" class=\"dataframe\">\n",
       "  <thead>\n",
       "    <tr style=\"text-align: right;\">\n",
       "      <th></th>\n",
       "      <th>review_id</th>\n",
       "      <th>user_id</th>\n",
       "      <th>business_id</th>\n",
       "      <th>stars</th>\n",
       "      <th>date</th>\n",
       "      <th>text</th>\n",
       "      <th>cleaned_text</th>\n",
       "      <th>polarity</th>\n",
       "      <th>subjectivity</th>\n",
       "    </tr>\n",
       "  </thead>\n",
       "  <tbody>\n",
       "    <tr>\n",
       "      <td>0</td>\n",
       "      <td>vkVSCC7xljjrAI4UGfnKEQ</td>\n",
       "      <td>bv2nCi5Qv5vroFiqKGopiw</td>\n",
       "      <td>AEx2SYEUJmTxVVB18LlCwA</td>\n",
       "      <td>5</td>\n",
       "      <td>2016-05-28</td>\n",
       "      <td>Super simple place but amazing nonetheless. It...</td>\n",
       "      <td>super simple place amazing nonetheless serve t...</td>\n",
       "      <td>0.327083</td>\n",
       "      <td>0.605952</td>\n",
       "    </tr>\n",
       "    <tr>\n",
       "      <td>1</td>\n",
       "      <td>n6QzIUObkYshz4dz2QRJTw</td>\n",
       "      <td>bv2nCi5Qv5vroFiqKGopiw</td>\n",
       "      <td>VR6GpWIda3SfvPC-lg9H3w</td>\n",
       "      <td>5</td>\n",
       "      <td>2016-05-28</td>\n",
       "      <td>Small unassuming place that changes their menu...</td>\n",
       "      <td>small unassuming place changes menu cool decor...</td>\n",
       "      <td>0.342857</td>\n",
       "      <td>0.571429</td>\n",
       "    </tr>\n",
       "    <tr>\n",
       "      <td>2</td>\n",
       "      <td>MV3CcKScW05u5LVfF6ok0g</td>\n",
       "      <td>bv2nCi5Qv5vroFiqKGopiw</td>\n",
       "      <td>CKC0-MOWMqoeWf6s-szl8g</td>\n",
       "      <td>5</td>\n",
       "      <td>2016-05-28</td>\n",
       "      <td>Lester's is located in a beautiful neighborhoo...</td>\n",
       "      <td>lester located beautiful neighborhood 1951 kno...</td>\n",
       "      <td>0.425000</td>\n",
       "      <td>0.525000</td>\n",
       "    </tr>\n",
       "    <tr>\n",
       "      <td>3</td>\n",
       "      <td>IXvOzsEMYtiJI0CARmj77Q</td>\n",
       "      <td>bv2nCi5Qv5vroFiqKGopiw</td>\n",
       "      <td>ACFtxLv8pGrrxMm6EgjreA</td>\n",
       "      <td>4</td>\n",
       "      <td>2016-05-28</td>\n",
       "      <td>Love coming here. Yes the place always needs t...</td>\n",
       "      <td>love coming yes place needs floor swept peanut...</td>\n",
       "      <td>0.070000</td>\n",
       "      <td>0.495385</td>\n",
       "    </tr>\n",
       "    <tr>\n",
       "      <td>4</td>\n",
       "      <td>L_9BTb55X0GDtThi6GlZ6w</td>\n",
       "      <td>bv2nCi5Qv5vroFiqKGopiw</td>\n",
       "      <td>s2I_Ni76bjJNK9yG60iD-Q</td>\n",
       "      <td>4</td>\n",
       "      <td>2016-05-28</td>\n",
       "      <td>Had their chocolate almond croissant and it wa...</td>\n",
       "      <td>chocolate almond croissant amazing light butte...</td>\n",
       "      <td>0.500000</td>\n",
       "      <td>0.700000</td>\n",
       "    </tr>\n",
       "  </tbody>\n",
       "</table>\n",
       "</div>"
      ],
      "text/plain": [
       "                review_id                 user_id             business_id  \\\n",
       "0  vkVSCC7xljjrAI4UGfnKEQ  bv2nCi5Qv5vroFiqKGopiw  AEx2SYEUJmTxVVB18LlCwA   \n",
       "1  n6QzIUObkYshz4dz2QRJTw  bv2nCi5Qv5vroFiqKGopiw  VR6GpWIda3SfvPC-lg9H3w   \n",
       "2  MV3CcKScW05u5LVfF6ok0g  bv2nCi5Qv5vroFiqKGopiw  CKC0-MOWMqoeWf6s-szl8g   \n",
       "3  IXvOzsEMYtiJI0CARmj77Q  bv2nCi5Qv5vroFiqKGopiw  ACFtxLv8pGrrxMm6EgjreA   \n",
       "4  L_9BTb55X0GDtThi6GlZ6w  bv2nCi5Qv5vroFiqKGopiw  s2I_Ni76bjJNK9yG60iD-Q   \n",
       "\n",
       "   stars        date                                               text  \\\n",
       "0      5  2016-05-28  Super simple place but amazing nonetheless. It...   \n",
       "1      5  2016-05-28  Small unassuming place that changes their menu...   \n",
       "2      5  2016-05-28  Lester's is located in a beautiful neighborhoo...   \n",
       "3      4  2016-05-28  Love coming here. Yes the place always needs t...   \n",
       "4      4  2016-05-28  Had their chocolate almond croissant and it wa...   \n",
       "\n",
       "                                        cleaned_text  polarity  subjectivity  \n",
       "0  super simple place amazing nonetheless serve t...  0.327083      0.605952  \n",
       "1  small unassuming place changes menu cool decor...  0.342857      0.571429  \n",
       "2  lester located beautiful neighborhood 1951 kno...  0.425000      0.525000  \n",
       "3  love coming yes place needs floor swept peanut...  0.070000      0.495385  \n",
       "4  chocolate almond croissant amazing light butte...  0.500000      0.700000  "
      ]
     },
     "execution_count": 12,
     "metadata": {},
     "output_type": "execute_result"
    }
   ],
   "source": [
    "review_nora_cleaned.head()"
   ]
  },
  {
   "cell_type": "markdown",
   "metadata": {
    "hidden": true
   },
   "source": [
    "### Get the length of each review: Done\n"
   ]
  },
  {
   "cell_type": "code",
   "execution_count": 19,
   "metadata": {
    "ExecuteTime": {
     "end_time": "2019-12-01T15:34:10.203623Z",
     "start_time": "2019-12-01T15:34:10.196127Z"
    },
    "hidden": true
   },
   "outputs": [
    {
     "data": {
      "text/plain": [
       "'super simple place amazing nonetheless serve thing started bologna salami sandwich mustard staff helpful friendly'"
      ]
     },
     "metadata": {},
     "output_type": "display_data"
    },
    {
     "data": {
      "text/plain": [
       "15"
      ]
     },
     "execution_count": 19,
     "metadata": {},
     "output_type": "execute_result"
    }
   ],
   "source": [
    "# Testing on getting length of words in the review\n",
    "a= review_nora_cleaned['cleaned_text'][0]\n",
    "display(a)\n",
    "len(a.split())\n"
   ]
  },
  {
   "cell_type": "code",
   "execution_count": 24,
   "metadata": {
    "ExecuteTime": {
     "end_time": "2019-12-01T15:46:27.792103Z",
     "start_time": "2019-12-01T15:45:40.743786Z"
    },
    "hidden": true
   },
   "outputs": [
    {
     "data": {
      "text/plain": [
       "(2027105, 9)"
      ]
     },
     "metadata": {},
     "output_type": "display_data"
    },
    {
     "data": {
      "text/plain": [
       "2027105"
      ]
     },
     "metadata": {},
     "output_type": "display_data"
    }
   ],
   "source": [
    "# getting the length of words for each row\n",
    "review_length = []\n",
    "\n",
    "for n in range(review_nora_cleaned.shape[0]):\n",
    "    \n",
    "    length = len(review_nora_cleaned['cleaned_text'][n].split())\n",
    "    \n",
    "    review_length.append(length)\n",
    "    \n",
    "\n",
    "#sanity check \n",
    "display(review_nora_cleaned.shape)\n",
    "display(len(review_length))\n",
    "    "
   ]
  },
  {
   "cell_type": "code",
   "execution_count": 25,
   "metadata": {
    "ExecuteTime": {
     "end_time": "2019-12-01T15:46:37.857249Z",
     "start_time": "2019-12-01T15:46:37.497191Z"
    },
    "hidden": true
   },
   "outputs": [],
   "source": [
    "# Append the review_length to the review_nora_cleaned df\n",
    "review_nora_cleaned['review_length']= review_length"
   ]
  },
  {
   "cell_type": "code",
   "execution_count": 44,
   "metadata": {
    "ExecuteTime": {
     "end_time": "2019-12-01T15:54:25.665986Z",
     "start_time": "2019-12-01T15:54:25.012747Z"
    },
    "hidden": true
   },
   "outputs": [
    {
     "data": {
      "image/png": "[encoded data removed]",
      "text/plain": [
       "<Figure size 576x360 with 1 Axes>"
      ]
     },
     "metadata": {
      "needs_background": "light"
     },
     "output_type": "display_data"
    }
   ],
   "source": [
    "# Visualize the distribution of review_length\n",
    "\n",
    "plt.figure(figsize=(8,5))\n",
    "plt.hist(review_length, edgecolor='black', bins =100)\n",
    "plt.title('Distribution of Review Text Length')\n",
    "plt.xlabel('Number of words')\n",
    "plt.ylabel('Frequency')\n",
    "plt.show()"
   ]
  },
  {
   "cell_type": "code",
   "execution_count": 45,
   "metadata": {
    "ExecuteTime": {
     "end_time": "2019-12-01T15:57:44.606923Z",
     "start_time": "2019-12-01T15:56:56.546093Z"
    },
    "hidden": true
   },
   "outputs": [],
   "source": [
    "# save the updated files to csv\n",
    "review_nora_cleaned.to_csv('~/yelp/cleaned_data/review_nora_cleaned_2019-12-01.csv', index=False)"
   ]
  },
  {
   "cell_type": "markdown",
   "metadata": {
    "hidden": true
   },
   "source": [
    "### Change the text to sentiment using vader package\n",
    "\n",
    "\n",
    "VADER Sentiment Analysis\n",
    "VADER (Valence Aware Dictionary and sEntiment Reasoner) is a lexicon and rule-based sentiment analysis tool that is specifically attuned to sentiments expressed in social media. VADER uses a combination of A sentiment lexicon is a list of lexical features (e.g., words) which are generally labelled according to their semantic orientation as either positive or negative.\n",
    "VADER has been found to be quite successful when dealing with social media texts, NY Times editorials, movie reviews, and product reviews. This is because VADER not only tells about the Positivity and Negativity score but also tells us about how positive or negative a sentiment is.\n",
    "It is fully open-sourced under the MIT License. The developers of VADER have used Amazon’s Mechanical Turk to get most of their ratings, You can find complete details on their Github Page.\n",
    "\n",
    "ADER has a lot of advantages over traditional methods of Sentiment Analysis, including:\n",
    "It works exceedingly well on social media type text, yet readily generalizes to multiple domains\n",
    "It doesn’t require any training data but is constructed from a generalizable, valence-based, human-curated gold standard sentiment lexicon\n",
    "It is fast enough to be used online with streaming data, and\n",
    "It does not severely suffer from a speed-performance tradeoff.\n",
    "\n",
    "The Positive, Negative and Neutral scores represent the proportion of text that falls in these categories. This means our sentence was rated as 67% Positive, 33% Neutral and 0% Negative. Hence all these should add up to 1.\n",
    "The Compound score is a metric that calculates the sum of all the lexicon ratings which have been normalized between -1(most extreme negative) and +1 (most extreme positive). In the case above, lexicon ratings for andsupercool are 2.9and respectively1.3. The compound score turns out to be 0.75 , denoting a very high positive sentiment.\n",
    "\n",
    "compound score metric\n",
    "\n",
    "positive sentiment: compound score >= 0.05\n",
    "neutral sentiment: (compound score > -0.05) and (compound score < 0.05)\n",
    "negative sentiment: compound score <= -0.05"
   ]
  },
  {
   "cell_type": "code",
   "execution_count": 52,
   "metadata": {
    "ExecuteTime": {
     "end_time": "2019-12-01T16:15:19.008507Z",
     "start_time": "2019-12-01T16:15:18.991529Z"
    },
    "hidden": true
   },
   "outputs": [],
   "source": [
    "#import vader packages\n",
    "from vaderSentiment.vaderSentiment import SentimentIntensityAnalyzer\n",
    "analyser = SentimentIntensityAnalyzer()"
   ]
  },
  {
   "cell_type": "code",
   "execution_count": 92,
   "metadata": {
    "ExecuteTime": {
     "end_time": "2019-12-01T17:24:48.975137Z",
     "start_time": "2019-12-01T16:49:38.385285Z"
    },
    "hidden": true
   },
   "outputs": [],
   "source": [
    "# getting sentiment ratings from the text reviews and append each row as dictionary in the list l1\n",
    "l1=[]\n",
    "for j in range(review_nora_cleaned.shape[0]):\n",
    "    l1.append(analyser.polarity_scores(review_nora_cleaned['cleaned_text'][j]))\n",
    "\n"
   ]
  },
  {
   "cell_type": "code",
   "execution_count": 93,
   "metadata": {
    "ExecuteTime": {
     "end_time": "2019-12-01T17:24:48.984251Z",
     "start_time": "2019-12-01T17:24:48.978676Z"
    },
    "hidden": true
   },
   "outputs": [
    {
     "data": {
      "text/plain": [
       "2027105"
      ]
     },
     "execution_count": 93,
     "metadata": {},
     "output_type": "execute_result"
    }
   ],
   "source": [
    "# Sanity check on l1\n",
    "len(l1)"
   ]
  },
  {
   "cell_type": "code",
   "execution_count": 102,
   "metadata": {
    "ExecuteTime": {
     "end_time": "2019-12-01T17:30:30.325812Z",
     "start_time": "2019-12-01T17:30:30.311133Z"
    },
    "hidden": true
   },
   "outputs": [],
   "source": [
    "#change l1 to df and append to original review_nora_cleaned df\n",
    "\n",
    "l1_df=pd.DataFrame(l1, index= range(len(l1)))\n",
    "\n",
    "review_nora_cleaned[['negative','neutral','positive','compound_score']]= l1_df"
   ]
  },
  {
   "cell_type": "code",
   "execution_count": 110,
   "metadata": {
    "ExecuteTime": {
     "end_time": "2019-12-01T17:47:51.868096Z",
     "start_time": "2019-12-01T17:47:51.852075Z"
    },
    "hidden": true
   },
   "outputs": [
    {
     "data": {
      "text/html": [
       "<div>\n",
       "<style scoped>\n",
       "    .dataframe tbody tr th:only-of-type {\n",
       "        vertical-align: middle;\n",
       "    }\n",
       "\n",
       "    .dataframe tbody tr th {\n",
       "        vertical-align: top;\n",
       "    }\n",
       "\n",
       "    .dataframe thead th {\n",
       "        text-align: right;\n",
       "    }\n",
       "</style>\n",
       "<table border=\"1\" class=\"dataframe\">\n",
       "  <thead>\n",
       "    <tr style=\"text-align: right;\">\n",
       "      <th></th>\n",
       "      <th>review_id</th>\n",
       "      <th>user_id</th>\n",
       "      <th>business_id</th>\n",
       "      <th>stars</th>\n",
       "      <th>date</th>\n",
       "      <th>text</th>\n",
       "      <th>cleaned_text</th>\n",
       "      <th>polarity</th>\n",
       "      <th>subjectivity</th>\n",
       "      <th>review_length</th>\n",
       "      <th>negative</th>\n",
       "      <th>neutral</th>\n",
       "      <th>positive</th>\n",
       "      <th>compound_score</th>\n",
       "    </tr>\n",
       "  </thead>\n",
       "  <tbody>\n",
       "    <tr>\n",
       "      <td>0</td>\n",
       "      <td>vkVSCC7xljjrAI4UGfnKEQ</td>\n",
       "      <td>bv2nCi5Qv5vroFiqKGopiw</td>\n",
       "      <td>AEx2SYEUJmTxVVB18LlCwA</td>\n",
       "      <td>5</td>\n",
       "      <td>2016-05-28</td>\n",
       "      <td>Super simple place but amazing nonetheless. It...</td>\n",
       "      <td>super simple place amazing nonetheless serve t...</td>\n",
       "      <td>0.327083</td>\n",
       "      <td>0.605952</td>\n",
       "      <td>15</td>\n",
       "      <td>0.0</td>\n",
       "      <td>0.445</td>\n",
       "      <td>0.555</td>\n",
       "      <td>0.9287</td>\n",
       "    </tr>\n",
       "    <tr>\n",
       "      <td>1</td>\n",
       "      <td>n6QzIUObkYshz4dz2QRJTw</td>\n",
       "      <td>bv2nCi5Qv5vroFiqKGopiw</td>\n",
       "      <td>VR6GpWIda3SfvPC-lg9H3w</td>\n",
       "      <td>5</td>\n",
       "      <td>2016-05-28</td>\n",
       "      <td>Small unassuming place that changes their menu...</td>\n",
       "      <td>small unassuming place changes menu cool decor...</td>\n",
       "      <td>0.342857</td>\n",
       "      <td>0.571429</td>\n",
       "      <td>41</td>\n",
       "      <td>0.0</td>\n",
       "      <td>0.802</td>\n",
       "      <td>0.198</td>\n",
       "      <td>0.8542</td>\n",
       "    </tr>\n",
       "  </tbody>\n",
       "</table>\n",
       "</div>"
      ],
      "text/plain": [
       "                review_id                 user_id             business_id  \\\n",
       "0  vkVSCC7xljjrAI4UGfnKEQ  bv2nCi5Qv5vroFiqKGopiw  AEx2SYEUJmTxVVB18LlCwA   \n",
       "1  n6QzIUObkYshz4dz2QRJTw  bv2nCi5Qv5vroFiqKGopiw  VR6GpWIda3SfvPC-lg9H3w   \n",
       "\n",
       "   stars        date                                               text  \\\n",
       "0      5  2016-05-28  Super simple place but amazing nonetheless. It...   \n",
       "1      5  2016-05-28  Small unassuming place that changes their menu...   \n",
       "\n",
       "                                        cleaned_text  polarity  subjectivity  \\\n",
       "0  super simple place amazing nonetheless serve t...  0.327083      0.605952   \n",
       "1  small unassuming place changes menu cool decor...  0.342857      0.571429   \n",
       "\n",
       "   review_length  negative  neutral  positive  compound_score  \n",
       "0             15       0.0    0.445     0.555          0.9287  \n",
       "1             41       0.0    0.802     0.198          0.8542  "
      ]
     },
     "execution_count": 110,
     "metadata": {},
     "output_type": "execute_result"
    }
   ],
   "source": [
    "#Sanity check\n",
    "review_nora_cleaned.head(2)"
   ]
  },
  {
   "cell_type": "code",
   "execution_count": 122,
   "metadata": {
    "ExecuteTime": {
     "end_time": "2019-12-01T18:17:15.611489Z",
     "start_time": "2019-12-01T18:16:12.817201Z"
    },
    "hidden": true
   },
   "outputs": [],
   "source": [
    "#update the csv files\n",
    "\n",
    "review_nora_cleaned.to_csv('~/yelp/cleaned_data/review_nora_cleaned_2019-12-01.csv', index=False)"
   ]
  },
  {
   "cell_type": "code",
   "execution_count": 107,
   "metadata": {
    "ExecuteTime": {
     "end_time": "2019-12-01T17:41:04.477198Z",
     "start_time": "2019-12-01T17:40:55.087115Z"
    },
    "hidden": true
   },
   "outputs": [
    {
     "data": {
      "image/png": "[encoded data removed]",
      "text/plain": [
       "<Figure size 432x288 with 1 Axes>"
      ]
     },
     "metadata": {
      "needs_background": "light"
     },
     "output_type": "display_data"
    },
    {
     "data": {
      "image/png": "[encoded data removed]",
      "text/plain": [
       "<Figure size 432x288 with 1 Axes>"
      ]
     },
     "metadata": {
      "needs_background": "light"
     },
     "output_type": "display_data"
    }
   ],
   "source": [
    "# Explore the distribution of compound_score before grouping to Positive, Negative, and Netural\n",
    "\n",
    "plt.figure()\n",
    "sns.violinplot(review_nora_cleaned['compound_score'])\n",
    "plt.show()\n",
    "\n",
    "plt.figure()\n",
    "plt.hist(review_nora_cleaned['compound_score'], edgecolor='black', bins=200)\n",
    "plt.show()"
   ]
  },
  {
   "cell_type": "code",
   "execution_count": 121,
   "metadata": {
    "ExecuteTime": {
     "end_time": "2019-12-01T18:10:00.006389Z",
     "start_time": "2019-12-01T18:09:59.840861Z"
    },
    "hidden": true
   },
   "outputs": [
    {
     "data": {
      "image/png": "[encoded data removed]",
      "text/plain": [
       "<Figure size 432x288 with 1 Axes>"
      ]
     },
     "metadata": {
      "needs_background": "light"
     },
     "output_type": "display_data"
    }
   ],
   "source": [
    "# get value count for positive, netural, and negative reviews in the data\n",
    "\n",
    "pos = (review_nora_cleaned['compound_score']>=0.05).sum()\n",
    "neg = (review_nora_cleaned['compound_score']<=-0.05).sum()\n",
    "neu = ((review_nora_cleaned['compound_score']>-0.05) & (review_nora_cleaned['compound_score']<0.05)).sum()\n",
    "\n",
    "sentiment = ['Positive','Negative','Neutural']\n",
    "count =[pos, neg, neu]\n",
    "plt.figure()\n",
    "plt.bar(sentiment, count,edgecolor = 'black', color='orange')\n",
    "plt.title('Different Sentiment In the Data')\n",
    "plt.xlabel('Setinment Category')\n",
    "plt.ylabel('Frequency Count')\n",
    "plt.show()"
   ]
  },
  {
   "cell_type": "code",
   "execution_count": null,
   "metadata": {
    "hidden": true
   },
   "outputs": [],
   "source": [
    "#combined everything into big df. "
   ]
  },
  {
   "cell_type": "markdown",
   "metadata": {},
   "source": [
    "# Get the word cloud for each of the star ratings\n",
    "\n",
    "## Status: in progress\n",
    "\n",
    "    1. Parse out each star ratings with its related cleaned text\n",
    "    2. Word Cloud for each ratings. "
   ]
  },
  {
   "cell_type": "code",
   "execution_count": 123,
   "metadata": {
    "ExecuteTime": {
     "end_time": "2019-12-01T18:20:51.158943Z",
     "start_time": "2019-12-01T18:20:51.134210Z"
    }
   },
   "outputs": [
    {
     "data": {
      "text/plain": [
       "5    867766\n",
       "4    477343\n",
       "1    259209\n",
       "3    242712\n",
       "2    180075\n",
       "Name: stars, dtype: int64"
      ]
     },
     "execution_count": 123,
     "metadata": {},
     "output_type": "execute_result"
    }
   ],
   "source": [
    "#count how many for each star count\n",
    "review_nora_cleaned['stars'].value_counts()"
   ]
  },
  {
   "cell_type": "code",
   "execution_count": 124,
   "metadata": {
    "ExecuteTime": {
     "end_time": "2019-12-01T18:21:51.091367Z",
     "start_time": "2019-12-01T18:21:49.941535Z"
    }
   },
   "outputs": [],
   "source": [
    "# Separate the stars and the text based on the ratings\n",
    "star_5 = review_nora_cleaned[review_nora_cleaned['stars']==5]['cleaned_text'].reset_index(drop=True)\n",
    "star_4 = review_nora_cleaned[review_nora_cleaned['stars']==4]['cleaned_text'].reset_index(drop=True)\n",
    "star_3 = review_nora_cleaned[review_nora_cleaned['stars']==3]['cleaned_text'].reset_index(drop=True)\n",
    "star_2 = review_nora_cleaned[review_nora_cleaned['stars']==2]['cleaned_text'].reset_index(drop=True)\n",
    "star_1 = review_nora_cleaned[review_nora_cleaned['stars']==1]['cleaned_text'].reset_index(drop=True)"
   ]
  },
  {
   "cell_type": "code",
   "execution_count": 130,
   "metadata": {
    "ExecuteTime": {
     "end_time": "2019-12-01T18:33:43.695056Z",
     "start_time": "2019-12-01T18:33:41.648542Z"
    }
   },
   "outputs": [],
   "source": [
    "# Combine text from each row to one single text\n",
    "star5text = star_5.str.cat(sep=' ')"
   ]
  },
  {
   "cell_type": "code",
   "execution_count": null,
   "metadata": {
    "ExecuteTime": {
     "end_time": "2019-12-01T19:37:43.665034Z",
     "start_time": "2019-12-01T19:35:01.173240Z"
    }
   },
   "outputs": [],
   "source": [
    "from wordcloud import WordCloud\n",
    "\n",
    "cloud = WordCloud(background_color=\"white\", max_words=100, max_font_size=50).generate(star5text)\n",
    "plt.figure(figsize=(20,20))\n",
    "plt.imshow(cloud, interpolation ='bilinear')\n",
    "plt.axis('off')\n",
    "plt.show()"
   ]
  },
  {
   "cell_type": "markdown",
   "metadata": {},
   "source": [
    "# Combining df"
   ]
  },
  {
   "cell_type": "markdown",
   "metadata": {},
   "source": [
    "## Create new df by combining different data\n",
    "\n",
    "### Status: Done\n",
    "\n",
    "### Final Variable: df\n",
    "\n",
    "Combined review_nora_cleaned, aggregate_checkins, business_name, is_open from business to one single files"
   ]
  },
  {
   "cell_type": "code",
   "execution_count": 200,
   "metadata": {
    "ExecuteTime": {
     "end_time": "2019-12-01T21:18:48.247494Z",
     "start_time": "2019-12-01T21:18:48.230074Z"
    }
   },
   "outputs": [
    {
     "data": {
      "text/html": [
       "<div>\n",
       "<style scoped>\n",
       "    .dataframe tbody tr th:only-of-type {\n",
       "        vertical-align: middle;\n",
       "    }\n",
       "\n",
       "    .dataframe tbody tr th {\n",
       "        vertical-align: top;\n",
       "    }\n",
       "\n",
       "    .dataframe thead th {\n",
       "        text-align: right;\n",
       "    }\n",
       "</style>\n",
       "<table border=\"1\" class=\"dataframe\">\n",
       "  <thead>\n",
       "    <tr style=\"text-align: right;\">\n",
       "      <th></th>\n",
       "      <th>review_id</th>\n",
       "      <th>user_id</th>\n",
       "      <th>business_id</th>\n",
       "      <th>stars</th>\n",
       "      <th>date</th>\n",
       "      <th>text</th>\n",
       "      <th>cleaned_text</th>\n",
       "      <th>polarity</th>\n",
       "      <th>subjectivity</th>\n",
       "      <th>review_length</th>\n",
       "      <th>negative</th>\n",
       "      <th>neutral</th>\n",
       "      <th>positive</th>\n",
       "      <th>compound_score</th>\n",
       "    </tr>\n",
       "  </thead>\n",
       "  <tbody>\n",
       "    <tr>\n",
       "      <td>0</td>\n",
       "      <td>vkVSCC7xljjrAI4UGfnKEQ</td>\n",
       "      <td>bv2nCi5Qv5vroFiqKGopiw</td>\n",
       "      <td>AEx2SYEUJmTxVVB18LlCwA</td>\n",
       "      <td>5</td>\n",
       "      <td>2016-05-28</td>\n",
       "      <td>Super simple place but amazing nonetheless. It...</td>\n",
       "      <td>super simple place amazing nonetheless serve t...</td>\n",
       "      <td>0.327083</td>\n",
       "      <td>0.605952</td>\n",
       "      <td>15</td>\n",
       "      <td>0.0</td>\n",
       "      <td>0.445</td>\n",
       "      <td>0.555</td>\n",
       "      <td>0.9287</td>\n",
       "    </tr>\n",
       "    <tr>\n",
       "      <td>1</td>\n",
       "      <td>n6QzIUObkYshz4dz2QRJTw</td>\n",
       "      <td>bv2nCi5Qv5vroFiqKGopiw</td>\n",
       "      <td>VR6GpWIda3SfvPC-lg9H3w</td>\n",
       "      <td>5</td>\n",
       "      <td>2016-05-28</td>\n",
       "      <td>Small unassuming place that changes their menu...</td>\n",
       "      <td>small unassuming place changes menu cool decor...</td>\n",
       "      <td>0.342857</td>\n",
       "      <td>0.571429</td>\n",
       "      <td>41</td>\n",
       "      <td>0.0</td>\n",
       "      <td>0.802</td>\n",
       "      <td>0.198</td>\n",
       "      <td>0.8542</td>\n",
       "    </tr>\n",
       "  </tbody>\n",
       "</table>\n",
       "</div>"
      ],
      "text/plain": [
       "                review_id                 user_id             business_id  \\\n",
       "0  vkVSCC7xljjrAI4UGfnKEQ  bv2nCi5Qv5vroFiqKGopiw  AEx2SYEUJmTxVVB18LlCwA   \n",
       "1  n6QzIUObkYshz4dz2QRJTw  bv2nCi5Qv5vroFiqKGopiw  VR6GpWIda3SfvPC-lg9H3w   \n",
       "\n",
       "   stars        date                                               text  \\\n",
       "0      5  2016-05-28  Super simple place but amazing nonetheless. It...   \n",
       "1      5  2016-05-28  Small unassuming place that changes their menu...   \n",
       "\n",
       "                                        cleaned_text  polarity  subjectivity  \\\n",
       "0  super simple place amazing nonetheless serve t...  0.327083      0.605952   \n",
       "1  small unassuming place changes menu cool decor...  0.342857      0.571429   \n",
       "\n",
       "   review_length  negative  neutral  positive  compound_score  \n",
       "0             15       0.0    0.445     0.555          0.9287  \n",
       "1             41       0.0    0.802     0.198          0.8542  "
      ]
     },
     "execution_count": 200,
     "metadata": {},
     "output_type": "execute_result"
    }
   ],
   "source": [
    "review_nora_cleaned.head(2)"
   ]
  },
  {
   "cell_type": "code",
   "execution_count": 205,
   "metadata": {
    "ExecuteTime": {
     "end_time": "2019-12-01T21:24:32.786426Z",
     "start_time": "2019-12-01T21:24:32.765976Z"
    }
   },
   "outputs": [
    {
     "data": {
      "text/html": [
       "<div>\n",
       "<style scoped>\n",
       "    .dataframe tbody tr th:only-of-type {\n",
       "        vertical-align: middle;\n",
       "    }\n",
       "\n",
       "    .dataframe tbody tr th {\n",
       "        vertical-align: top;\n",
       "    }\n",
       "\n",
       "    .dataframe thead th {\n",
       "        text-align: right;\n",
       "    }\n",
       "</style>\n",
       "<table border=\"1\" class=\"dataframe\">\n",
       "  <thead>\n",
       "    <tr style=\"text-align: right;\">\n",
       "      <th></th>\n",
       "      <th>business_id</th>\n",
       "      <th>name</th>\n",
       "      <th>review_count</th>\n",
       "      <th>is_open</th>\n",
       "      <th>stars</th>\n",
       "    </tr>\n",
       "  </thead>\n",
       "  <tbody>\n",
       "    <tr>\n",
       "      <td>0</td>\n",
       "      <td>FYWN1wneV18bWNgQjJ2GNg</td>\n",
       "      <td>\"Dental by Design\"</td>\n",
       "      <td>22</td>\n",
       "      <td>1</td>\n",
       "      <td>4.0</td>\n",
       "    </tr>\n",
       "    <tr>\n",
       "      <td>1</td>\n",
       "      <td>He-G7vWjzVUysIKrfNbPUQ</td>\n",
       "      <td>\"Stephen Szabo Salon\"</td>\n",
       "      <td>11</td>\n",
       "      <td>1</td>\n",
       "      <td>3.0</td>\n",
       "    </tr>\n",
       "  </tbody>\n",
       "</table>\n",
       "</div>"
      ],
      "text/plain": [
       "              business_id                   name  review_count  is_open  stars\n",
       "0  FYWN1wneV18bWNgQjJ2GNg     \"Dental by Design\"            22        1    4.0\n",
       "1  He-G7vWjzVUysIKrfNbPUQ  \"Stephen Szabo Salon\"            11        1    3.0"
      ]
     },
     "execution_count": 205,
     "metadata": {},
     "output_type": "execute_result"
    }
   ],
   "source": [
    "#subset business_id, name, review count, is_open, stars from business files\n",
    "business_subset = business[['business_id','name', 'review_count', 'is_open','stars']]\n",
    "business_subset.head(2)"
   ]
  },
  {
   "cell_type": "code",
   "execution_count": 206,
   "metadata": {
    "ExecuteTime": {
     "end_time": "2019-12-01T21:24:35.438834Z",
     "start_time": "2019-12-01T21:24:35.338298Z"
    }
   },
   "outputs": [
    {
     "data": {
      "text/html": [
       "<div>\n",
       "<style scoped>\n",
       "    .dataframe tbody tr th:only-of-type {\n",
       "        vertical-align: middle;\n",
       "    }\n",
       "\n",
       "    .dataframe tbody tr th {\n",
       "        vertical-align: top;\n",
       "    }\n",
       "\n",
       "    .dataframe thead th {\n",
       "        text-align: right;\n",
       "    }\n",
       "</style>\n",
       "<table border=\"1\" class=\"dataframe\">\n",
       "  <thead>\n",
       "    <tr style=\"text-align: right;\">\n",
       "      <th></th>\n",
       "      <th>business_id</th>\n",
       "      <th>name</th>\n",
       "      <th>review_count</th>\n",
       "      <th>is_open</th>\n",
       "      <th>stars</th>\n",
       "    </tr>\n",
       "  </thead>\n",
       "  <tbody>\n",
       "    <tr>\n",
       "      <td>0</td>\n",
       "      <td>FYWN1wneV18bWNgQjJ2GNg</td>\n",
       "      <td>Dental by Design</td>\n",
       "      <td>22</td>\n",
       "      <td>1</td>\n",
       "      <td>4.0</td>\n",
       "    </tr>\n",
       "    <tr>\n",
       "      <td>1</td>\n",
       "      <td>He-G7vWjzVUysIKrfNbPUQ</td>\n",
       "      <td>Stephen Szabo Salon</td>\n",
       "      <td>11</td>\n",
       "      <td>1</td>\n",
       "      <td>3.0</td>\n",
       "    </tr>\n",
       "  </tbody>\n",
       "</table>\n",
       "</div>"
      ],
      "text/plain": [
       "              business_id                 name  review_count  is_open  stars\n",
       "0  FYWN1wneV18bWNgQjJ2GNg     Dental by Design            22        1    4.0\n",
       "1  He-G7vWjzVUysIKrfNbPUQ  Stephen Szabo Salon            11        1    3.0"
      ]
     },
     "execution_count": 206,
     "metadata": {},
     "output_type": "execute_result"
    }
   ],
   "source": [
    "#remove \"\" in the name column for busines_subset\n",
    "business_subset['name']= business_subset['name'].apply(lambda x : x.replace('\"',''))\n",
    "\n",
    "business_subset.head(2)"
   ]
  },
  {
   "cell_type": "code",
   "execution_count": 199,
   "metadata": {
    "ExecuteTime": {
     "end_time": "2019-12-01T21:18:30.274544Z",
     "start_time": "2019-12-01T21:18:30.264732Z"
    }
   },
   "outputs": [
    {
     "data": {
      "text/html": [
       "<div>\n",
       "<style scoped>\n",
       "    .dataframe tbody tr th:only-of-type {\n",
       "        vertical-align: middle;\n",
       "    }\n",
       "\n",
       "    .dataframe tbody tr th {\n",
       "        vertical-align: top;\n",
       "    }\n",
       "\n",
       "    .dataframe thead tr th {\n",
       "        text-align: left;\n",
       "    }\n",
       "</style>\n",
       "<table border=\"1\" class=\"dataframe\">\n",
       "  <thead>\n",
       "    <tr>\n",
       "      <th></th>\n",
       "      <th>business_id</th>\n",
       "      <th>checkins</th>\n",
       "    </tr>\n",
       "    <tr>\n",
       "      <th></th>\n",
       "      <th></th>\n",
       "      <th>sum</th>\n",
       "    </tr>\n",
       "  </thead>\n",
       "  <tbody>\n",
       "    <tr>\n",
       "      <td>0</td>\n",
       "      <td>--6MefnULPED_I942VcFNA</td>\n",
       "      <td>139</td>\n",
       "    </tr>\n",
       "    <tr>\n",
       "      <td>1</td>\n",
       "      <td>--7zmmkVg-IMGaXbuVd0SQ</td>\n",
       "      <td>153</td>\n",
       "    </tr>\n",
       "  </tbody>\n",
       "</table>\n",
       "</div>"
      ],
      "text/plain": [
       "              business_id checkins\n",
       "                               sum\n",
       "0  --6MefnULPED_I942VcFNA      139\n",
       "1  --7zmmkVg-IMGaXbuVd0SQ      153"
      ]
     },
     "execution_count": 199,
     "metadata": {},
     "output_type": "execute_result"
    }
   ],
   "source": [
    "aggregate_checkins.head(2)"
   ]
  },
  {
   "cell_type": "code",
   "execution_count": 208,
   "metadata": {
    "ExecuteTime": {
     "end_time": "2019-12-01T21:25:49.517141Z",
     "start_time": "2019-12-01T21:25:46.955057Z"
    }
   },
   "outputs": [],
   "source": [
    "# merge review_nora_cleaned with business_subset\n",
    "df = pd.merge(review_nora_cleaned, business_subset, on = 'business_id', how='left')"
   ]
  },
  {
   "cell_type": "code",
   "execution_count": 210,
   "metadata": {
    "ExecuteTime": {
     "end_time": "2019-12-01T21:26:48.262960Z",
     "start_time": "2019-12-01T21:26:46.591478Z"
    }
   },
   "outputs": [
    {
     "data": {
      "text/html": [
       "<div>\n",
       "<style scoped>\n",
       "    .dataframe tbody tr th:only-of-type {\n",
       "        vertical-align: middle;\n",
       "    }\n",
       "\n",
       "    .dataframe tbody tr th {\n",
       "        vertical-align: top;\n",
       "    }\n",
       "\n",
       "    .dataframe thead th {\n",
       "        text-align: right;\n",
       "    }\n",
       "</style>\n",
       "<table border=\"1\" class=\"dataframe\">\n",
       "  <thead>\n",
       "    <tr style=\"text-align: right;\">\n",
       "      <th></th>\n",
       "      <th>review_id</th>\n",
       "      <th>user_id</th>\n",
       "      <th>business_id</th>\n",
       "      <th>stars_x</th>\n",
       "      <th>date</th>\n",
       "      <th>text</th>\n",
       "      <th>cleaned_text</th>\n",
       "      <th>polarity</th>\n",
       "      <th>subjectivity</th>\n",
       "      <th>review_length</th>\n",
       "      <th>negative</th>\n",
       "      <th>neutral</th>\n",
       "      <th>positive</th>\n",
       "      <th>compound_score</th>\n",
       "      <th>name</th>\n",
       "      <th>review_count</th>\n",
       "      <th>is_open</th>\n",
       "      <th>stars_y</th>\n",
       "      <th>(checkins, sum)</th>\n",
       "    </tr>\n",
       "  </thead>\n",
       "  <tbody>\n",
       "    <tr>\n",
       "      <td>0</td>\n",
       "      <td>vkVSCC7xljjrAI4UGfnKEQ</td>\n",
       "      <td>bv2nCi5Qv5vroFiqKGopiw</td>\n",
       "      <td>AEx2SYEUJmTxVVB18LlCwA</td>\n",
       "      <td>5</td>\n",
       "      <td>2016-05-28</td>\n",
       "      <td>Super simple place but amazing nonetheless. It...</td>\n",
       "      <td>super simple place amazing nonetheless serve t...</td>\n",
       "      <td>0.327083</td>\n",
       "      <td>0.605952</td>\n",
       "      <td>15</td>\n",
       "      <td>0.000</td>\n",
       "      <td>0.445</td>\n",
       "      <td>0.555</td>\n",
       "      <td>0.9287</td>\n",
       "      <td>Wilensky's</td>\n",
       "      <td>84</td>\n",
       "      <td>1</td>\n",
       "      <td>4.0</td>\n",
       "      <td>119.0</td>\n",
       "    </tr>\n",
       "    <tr>\n",
       "      <td>1</td>\n",
       "      <td>n6QzIUObkYshz4dz2QRJTw</td>\n",
       "      <td>bv2nCi5Qv5vroFiqKGopiw</td>\n",
       "      <td>VR6GpWIda3SfvPC-lg9H3w</td>\n",
       "      <td>5</td>\n",
       "      <td>2016-05-28</td>\n",
       "      <td>Small unassuming place that changes their menu...</td>\n",
       "      <td>small unassuming place changes menu cool decor...</td>\n",
       "      <td>0.342857</td>\n",
       "      <td>0.571429</td>\n",
       "      <td>41</td>\n",
       "      <td>0.000</td>\n",
       "      <td>0.802</td>\n",
       "      <td>0.198</td>\n",
       "      <td>0.8542</td>\n",
       "      <td>Tuck Shop</td>\n",
       "      <td>50</td>\n",
       "      <td>1</td>\n",
       "      <td>4.5</td>\n",
       "      <td>62.0</td>\n",
       "    </tr>\n",
       "    <tr>\n",
       "      <td>2</td>\n",
       "      <td>MV3CcKScW05u5LVfF6ok0g</td>\n",
       "      <td>bv2nCi5Qv5vroFiqKGopiw</td>\n",
       "      <td>CKC0-MOWMqoeWf6s-szl8g</td>\n",
       "      <td>5</td>\n",
       "      <td>2016-05-28</td>\n",
       "      <td>Lester's is located in a beautiful neighborhoo...</td>\n",
       "      <td>lester located beautiful neighborhood 1951 kno...</td>\n",
       "      <td>0.425000</td>\n",
       "      <td>0.525000</td>\n",
       "      <td>24</td>\n",
       "      <td>0.000</td>\n",
       "      <td>0.855</td>\n",
       "      <td>0.145</td>\n",
       "      <td>0.5994</td>\n",
       "      <td>Lester's Deli</td>\n",
       "      <td>70</td>\n",
       "      <td>1</td>\n",
       "      <td>4.0</td>\n",
       "      <td>72.0</td>\n",
       "    </tr>\n",
       "    <tr>\n",
       "      <td>3</td>\n",
       "      <td>IXvOzsEMYtiJI0CARmj77Q</td>\n",
       "      <td>bv2nCi5Qv5vroFiqKGopiw</td>\n",
       "      <td>ACFtxLv8pGrrxMm6EgjreA</td>\n",
       "      <td>4</td>\n",
       "      <td>2016-05-28</td>\n",
       "      <td>Love coming here. Yes the place always needs t...</td>\n",
       "      <td>love coming yes place needs floor swept peanut...</td>\n",
       "      <td>0.070000</td>\n",
       "      <td>0.495385</td>\n",
       "      <td>44</td>\n",
       "      <td>0.053</td>\n",
       "      <td>0.716</td>\n",
       "      <td>0.231</td>\n",
       "      <td>0.8658</td>\n",
       "      <td>Five Guys</td>\n",
       "      <td>61</td>\n",
       "      <td>1</td>\n",
       "      <td>3.5</td>\n",
       "      <td>89.0</td>\n",
       "    </tr>\n",
       "    <tr>\n",
       "      <td>4</td>\n",
       "      <td>L_9BTb55X0GDtThi6GlZ6w</td>\n",
       "      <td>bv2nCi5Qv5vroFiqKGopiw</td>\n",
       "      <td>s2I_Ni76bjJNK9yG60iD-Q</td>\n",
       "      <td>4</td>\n",
       "      <td>2016-05-28</td>\n",
       "      <td>Had their chocolate almond croissant and it wa...</td>\n",
       "      <td>chocolate almond croissant amazing light butte...</td>\n",
       "      <td>0.500000</td>\n",
       "      <td>0.700000</td>\n",
       "      <td>17</td>\n",
       "      <td>0.000</td>\n",
       "      <td>0.667</td>\n",
       "      <td>0.333</td>\n",
       "      <td>0.8176</td>\n",
       "      <td>Maison Christian Faure</td>\n",
       "      <td>397</td>\n",
       "      <td>1</td>\n",
       "      <td>4.5</td>\n",
       "      <td>755.0</td>\n",
       "    </tr>\n",
       "  </tbody>\n",
       "</table>\n",
       "</div>"
      ],
      "text/plain": [
       "                review_id                 user_id             business_id  \\\n",
       "0  vkVSCC7xljjrAI4UGfnKEQ  bv2nCi5Qv5vroFiqKGopiw  AEx2SYEUJmTxVVB18LlCwA   \n",
       "1  n6QzIUObkYshz4dz2QRJTw  bv2nCi5Qv5vroFiqKGopiw  VR6GpWIda3SfvPC-lg9H3w   \n",
       "2  MV3CcKScW05u5LVfF6ok0g  bv2nCi5Qv5vroFiqKGopiw  CKC0-MOWMqoeWf6s-szl8g   \n",
       "3  IXvOzsEMYtiJI0CARmj77Q  bv2nCi5Qv5vroFiqKGopiw  ACFtxLv8pGrrxMm6EgjreA   \n",
       "4  L_9BTb55X0GDtThi6GlZ6w  bv2nCi5Qv5vroFiqKGopiw  s2I_Ni76bjJNK9yG60iD-Q   \n",
       "\n",
       "   stars_x        date                                               text  \\\n",
       "0        5  2016-05-28  Super simple place but amazing nonetheless. It...   \n",
       "1        5  2016-05-28  Small unassuming place that changes their menu...   \n",
       "2        5  2016-05-28  Lester's is located in a beautiful neighborhoo...   \n",
       "3        4  2016-05-28  Love coming here. Yes the place always needs t...   \n",
       "4        4  2016-05-28  Had their chocolate almond croissant and it wa...   \n",
       "\n",
       "                                        cleaned_text  polarity  subjectivity  \\\n",
       "0  super simple place amazing nonetheless serve t...  0.327083      0.605952   \n",
       "1  small unassuming place changes menu cool decor...  0.342857      0.571429   \n",
       "2  lester located beautiful neighborhood 1951 kno...  0.425000      0.525000   \n",
       "3  love coming yes place needs floor swept peanut...  0.070000      0.495385   \n",
       "4  chocolate almond croissant amazing light butte...  0.500000      0.700000   \n",
       "\n",
       "   review_length  negative  neutral  positive  compound_score  \\\n",
       "0             15     0.000    0.445     0.555          0.9287   \n",
       "1             41     0.000    0.802     0.198          0.8542   \n",
       "2             24     0.000    0.855     0.145          0.5994   \n",
       "3             44     0.053    0.716     0.231          0.8658   \n",
       "4             17     0.000    0.667     0.333          0.8176   \n",
       "\n",
       "                     name  review_count  is_open  stars_y  (checkins, sum)  \n",
       "0              Wilensky's            84        1      4.0            119.0  \n",
       "1               Tuck Shop            50        1      4.5             62.0  \n",
       "2           Lester's Deli            70        1      4.0             72.0  \n",
       "3               Five Guys            61        1      3.5             89.0  \n",
       "4  Maison Christian Faure           397        1      4.5            755.0  "
      ]
     },
     "execution_count": 210,
     "metadata": {},
     "output_type": "execute_result"
    }
   ],
   "source": [
    "# merge df with aggregate_checkins\n",
    "df = pd.merge(df, aggregate_checkins, on = 'business_id', how='left')\n",
    "\n",
    "df.head()"
   ]
  },
  {
   "cell_type": "code",
   "execution_count": 215,
   "metadata": {
    "ExecuteTime": {
     "end_time": "2019-12-01T21:29:41.698784Z",
     "start_time": "2019-12-01T21:29:41.693578Z"
    }
   },
   "outputs": [
    {
     "data": {
      "text/plain": [
       "Index([        'review_id',           'user_id',       'business_id',\n",
       "                 'stars_x',              'date',              'text',\n",
       "            'cleaned_text',          'polarity',      'subjectivity',\n",
       "           'review_length',          'negative',           'neutral',\n",
       "                'positive',    'compound_score',              'name',\n",
       "            'review_count',           'is_open',           'stars_y',\n",
       "       ('checkins', 'sum')],\n",
       "      dtype='object')"
      ]
     },
     "execution_count": 215,
     "metadata": {},
     "output_type": "execute_result"
    }
   ],
   "source": [
    "# rename the column\n",
    "df.columns"
   ]
  },
  {
   "cell_type": "code",
   "execution_count": 220,
   "metadata": {
    "ExecuteTime": {
     "end_time": "2019-12-01T21:32:38.866144Z",
     "start_time": "2019-12-01T21:32:38.861512Z"
    }
   },
   "outputs": [],
   "source": [
    "df.columns=['review_id',           'user_id',       'business_id', \\\n",
    "            'star_individual',        'date',              'text', \\\n",
    "            'cleaned_text',          'polarity',      'subjectivity', \\\n",
    "           'review_length',          'negative',           'neutral', \\\n",
    "                'positive',    'compound_score',              'name', \\\n",
    "            'review_count',           'is_open',           'business_stars', \\\n",
    "           'num_checkins']"
   ]
  },
  {
   "cell_type": "code",
   "execution_count": 222,
   "metadata": {
    "ExecuteTime": {
     "end_time": "2019-12-01T21:34:53.239421Z",
     "start_time": "2019-12-01T21:33:44.768282Z"
    }
   },
   "outputs": [
    {
     "data": {
      "text/html": [
       "<div>\n",
       "<style scoped>\n",
       "    .dataframe tbody tr th:only-of-type {\n",
       "        vertical-align: middle;\n",
       "    }\n",
       "\n",
       "    .dataframe tbody tr th {\n",
       "        vertical-align: top;\n",
       "    }\n",
       "\n",
       "    .dataframe thead th {\n",
       "        text-align: right;\n",
       "    }\n",
       "</style>\n",
       "<table border=\"1\" class=\"dataframe\">\n",
       "  <thead>\n",
       "    <tr style=\"text-align: right;\">\n",
       "      <th></th>\n",
       "      <th>review_id</th>\n",
       "      <th>user_id</th>\n",
       "      <th>business_id</th>\n",
       "      <th>star_individual</th>\n",
       "      <th>date</th>\n",
       "      <th>text</th>\n",
       "      <th>cleaned_text</th>\n",
       "      <th>polarity</th>\n",
       "      <th>subjectivity</th>\n",
       "      <th>review_length</th>\n",
       "      <th>negative</th>\n",
       "      <th>neutral</th>\n",
       "      <th>positive</th>\n",
       "      <th>compound_score</th>\n",
       "      <th>name</th>\n",
       "      <th>review_count</th>\n",
       "      <th>is_open</th>\n",
       "      <th>business_stars</th>\n",
       "      <th>num_checkins</th>\n",
       "    </tr>\n",
       "  </thead>\n",
       "  <tbody>\n",
       "    <tr>\n",
       "      <td>0</td>\n",
       "      <td>vkVSCC7xljjrAI4UGfnKEQ</td>\n",
       "      <td>bv2nCi5Qv5vroFiqKGopiw</td>\n",
       "      <td>AEx2SYEUJmTxVVB18LlCwA</td>\n",
       "      <td>5</td>\n",
       "      <td>2016-05-28</td>\n",
       "      <td>Super simple place but amazing nonetheless. It...</td>\n",
       "      <td>super simple place amazing nonetheless serve t...</td>\n",
       "      <td>0.327083</td>\n",
       "      <td>0.605952</td>\n",
       "      <td>15</td>\n",
       "      <td>0.0</td>\n",
       "      <td>0.445</td>\n",
       "      <td>0.555</td>\n",
       "      <td>0.9287</td>\n",
       "      <td>Wilensky's</td>\n",
       "      <td>84</td>\n",
       "      <td>1</td>\n",
       "      <td>4.0</td>\n",
       "      <td>119.0</td>\n",
       "    </tr>\n",
       "    <tr>\n",
       "      <td>1</td>\n",
       "      <td>n6QzIUObkYshz4dz2QRJTw</td>\n",
       "      <td>bv2nCi5Qv5vroFiqKGopiw</td>\n",
       "      <td>VR6GpWIda3SfvPC-lg9H3w</td>\n",
       "      <td>5</td>\n",
       "      <td>2016-05-28</td>\n",
       "      <td>Small unassuming place that changes their menu...</td>\n",
       "      <td>small unassuming place changes menu cool decor...</td>\n",
       "      <td>0.342857</td>\n",
       "      <td>0.571429</td>\n",
       "      <td>41</td>\n",
       "      <td>0.0</td>\n",
       "      <td>0.802</td>\n",
       "      <td>0.198</td>\n",
       "      <td>0.8542</td>\n",
       "      <td>Tuck Shop</td>\n",
       "      <td>50</td>\n",
       "      <td>1</td>\n",
       "      <td>4.5</td>\n",
       "      <td>62.0</td>\n",
       "    </tr>\n",
       "  </tbody>\n",
       "</table>\n",
       "</div>"
      ],
      "text/plain": [
       "                review_id                 user_id             business_id  \\\n",
       "0  vkVSCC7xljjrAI4UGfnKEQ  bv2nCi5Qv5vroFiqKGopiw  AEx2SYEUJmTxVVB18LlCwA   \n",
       "1  n6QzIUObkYshz4dz2QRJTw  bv2nCi5Qv5vroFiqKGopiw  VR6GpWIda3SfvPC-lg9H3w   \n",
       "\n",
       "   star_individual        date  \\\n",
       "0                5  2016-05-28   \n",
       "1                5  2016-05-28   \n",
       "\n",
       "                                                text  \\\n",
       "0  Super simple place but amazing nonetheless. It...   \n",
       "1  Small unassuming place that changes their menu...   \n",
       "\n",
       "                                        cleaned_text  polarity  subjectivity  \\\n",
       "0  super simple place amazing nonetheless serve t...  0.327083      0.605952   \n",
       "1  small unassuming place changes menu cool decor...  0.342857      0.571429   \n",
       "\n",
       "   review_length  negative  neutral  positive  compound_score        name  \\\n",
       "0             15       0.0    0.445     0.555          0.9287  Wilensky's   \n",
       "1             41       0.0    0.802     0.198          0.8542   Tuck Shop   \n",
       "\n",
       "   review_count  is_open  business_stars  num_checkins  \n",
       "0            84        1             4.0         119.0  \n",
       "1            50        1             4.5          62.0  "
      ]
     },
     "execution_count": 222,
     "metadata": {},
     "output_type": "execute_result"
    }
   ],
   "source": [
    "df.to_csv('~/yelp/cleaned_data/review_final.csv', index=False)\n",
    "df.head(2)"
   ]
  },
  {
   "cell_type": "code",
   "execution_count": 3,
   "metadata": {
    "ExecuteTime": {
     "end_time": "2019-12-03T00:57:43.258746Z",
     "start_time": "2019-12-03T00:57:43.191914Z"
    }
   },
   "outputs": [
    {
     "data": {
      "text/html": [
       "<div>\n",
       "<style scoped>\n",
       "    .dataframe tbody tr th:only-of-type {\n",
       "        vertical-align: middle;\n",
       "    }\n",
       "\n",
       "    .dataframe tbody tr th {\n",
       "        vertical-align: top;\n",
       "    }\n",
       "\n",
       "    .dataframe thead th {\n",
       "        text-align: right;\n",
       "    }\n",
       "</style>\n",
       "<table border=\"1\" class=\"dataframe\">\n",
       "  <thead>\n",
       "    <tr style=\"text-align: right;\">\n",
       "      <th></th>\n",
       "      <th>review_id</th>\n",
       "      <th>user_id</th>\n",
       "      <th>business_id</th>\n",
       "      <th>star_individual</th>\n",
       "      <th>date</th>\n",
       "      <th>text</th>\n",
       "      <th>cleaned_text</th>\n",
       "      <th>polarity</th>\n",
       "      <th>subjectivity</th>\n",
       "      <th>review_length</th>\n",
       "      <th>negative</th>\n",
       "      <th>neutral</th>\n",
       "      <th>positive</th>\n",
       "      <th>compound_score</th>\n",
       "      <th>name</th>\n",
       "      <th>review_count</th>\n",
       "      <th>is_open</th>\n",
       "      <th>business_stars</th>\n",
       "      <th>num_checkins</th>\n",
       "    </tr>\n",
       "  </thead>\n",
       "  <tbody>\n",
       "    <tr>\n",
       "      <td>0</td>\n",
       "      <td>vkVSCC7xljjrAI4UGfnKEQ</td>\n",
       "      <td>bv2nCi5Qv5vroFiqKGopiw</td>\n",
       "      <td>AEx2SYEUJmTxVVB18LlCwA</td>\n",
       "      <td>5</td>\n",
       "      <td>2016-05-28</td>\n",
       "      <td>Super simple place but amazing nonetheless. It...</td>\n",
       "      <td>super simple place amazing nonetheless serve t...</td>\n",
       "      <td>0.327083</td>\n",
       "      <td>0.605952</td>\n",
       "      <td>15</td>\n",
       "      <td>0.000</td>\n",
       "      <td>0.445</td>\n",
       "      <td>0.555</td>\n",
       "      <td>0.9287</td>\n",
       "      <td>Wilensky's</td>\n",
       "      <td>84</td>\n",
       "      <td>1</td>\n",
       "      <td>4.0</td>\n",
       "      <td>119.0</td>\n",
       "    </tr>\n",
       "    <tr>\n",
       "      <td>1</td>\n",
       "      <td>n6QzIUObkYshz4dz2QRJTw</td>\n",
       "      <td>bv2nCi5Qv5vroFiqKGopiw</td>\n",
       "      <td>VR6GpWIda3SfvPC-lg9H3w</td>\n",
       "      <td>5</td>\n",
       "      <td>2016-05-28</td>\n",
       "      <td>Small unassuming place that changes their menu...</td>\n",
       "      <td>small unassuming place changes menu cool decor...</td>\n",
       "      <td>0.342857</td>\n",
       "      <td>0.571429</td>\n",
       "      <td>41</td>\n",
       "      <td>0.000</td>\n",
       "      <td>0.802</td>\n",
       "      <td>0.198</td>\n",
       "      <td>0.8542</td>\n",
       "      <td>Tuck Shop</td>\n",
       "      <td>50</td>\n",
       "      <td>1</td>\n",
       "      <td>4.5</td>\n",
       "      <td>62.0</td>\n",
       "    </tr>\n",
       "    <tr>\n",
       "      <td>2</td>\n",
       "      <td>MV3CcKScW05u5LVfF6ok0g</td>\n",
       "      <td>bv2nCi5Qv5vroFiqKGopiw</td>\n",
       "      <td>CKC0-MOWMqoeWf6s-szl8g</td>\n",
       "      <td>5</td>\n",
       "      <td>2016-05-28</td>\n",
       "      <td>Lester's is located in a beautiful neighborhoo...</td>\n",
       "      <td>lester located beautiful neighborhood 1951 kno...</td>\n",
       "      <td>0.425000</td>\n",
       "      <td>0.525000</td>\n",
       "      <td>24</td>\n",
       "      <td>0.000</td>\n",
       "      <td>0.855</td>\n",
       "      <td>0.145</td>\n",
       "      <td>0.5994</td>\n",
       "      <td>Lester's Deli</td>\n",
       "      <td>70</td>\n",
       "      <td>1</td>\n",
       "      <td>4.0</td>\n",
       "      <td>72.0</td>\n",
       "    </tr>\n",
       "    <tr>\n",
       "      <td>3</td>\n",
       "      <td>IXvOzsEMYtiJI0CARmj77Q</td>\n",
       "      <td>bv2nCi5Qv5vroFiqKGopiw</td>\n",
       "      <td>ACFtxLv8pGrrxMm6EgjreA</td>\n",
       "      <td>4</td>\n",
       "      <td>2016-05-28</td>\n",
       "      <td>Love coming here. Yes the place always needs t...</td>\n",
       "      <td>love coming yes place needs floor swept peanut...</td>\n",
       "      <td>0.070000</td>\n",
       "      <td>0.495385</td>\n",
       "      <td>44</td>\n",
       "      <td>0.053</td>\n",
       "      <td>0.716</td>\n",
       "      <td>0.231</td>\n",
       "      <td>0.8658</td>\n",
       "      <td>Five Guys</td>\n",
       "      <td>61</td>\n",
       "      <td>1</td>\n",
       "      <td>3.5</td>\n",
       "      <td>89.0</td>\n",
       "    </tr>\n",
       "    <tr>\n",
       "      <td>4</td>\n",
       "      <td>L_9BTb55X0GDtThi6GlZ6w</td>\n",
       "      <td>bv2nCi5Qv5vroFiqKGopiw</td>\n",
       "      <td>s2I_Ni76bjJNK9yG60iD-Q</td>\n",
       "      <td>4</td>\n",
       "      <td>2016-05-28</td>\n",
       "      <td>Had their chocolate almond croissant and it wa...</td>\n",
       "      <td>chocolate almond croissant amazing light butte...</td>\n",
       "      <td>0.500000</td>\n",
       "      <td>0.700000</td>\n",
       "      <td>17</td>\n",
       "      <td>0.000</td>\n",
       "      <td>0.667</td>\n",
       "      <td>0.333</td>\n",
       "      <td>0.8176</td>\n",
       "      <td>Maison Christian Faure</td>\n",
       "      <td>397</td>\n",
       "      <td>1</td>\n",
       "      <td>4.5</td>\n",
       "      <td>755.0</td>\n",
       "    </tr>\n",
       "  </tbody>\n",
       "</table>\n",
       "</div>"
      ],
      "text/plain": [
       "                review_id                 user_id             business_id  \\\n",
       "0  vkVSCC7xljjrAI4UGfnKEQ  bv2nCi5Qv5vroFiqKGopiw  AEx2SYEUJmTxVVB18LlCwA   \n",
       "1  n6QzIUObkYshz4dz2QRJTw  bv2nCi5Qv5vroFiqKGopiw  VR6GpWIda3SfvPC-lg9H3w   \n",
       "2  MV3CcKScW05u5LVfF6ok0g  bv2nCi5Qv5vroFiqKGopiw  CKC0-MOWMqoeWf6s-szl8g   \n",
       "3  IXvOzsEMYtiJI0CARmj77Q  bv2nCi5Qv5vroFiqKGopiw  ACFtxLv8pGrrxMm6EgjreA   \n",
       "4  L_9BTb55X0GDtThi6GlZ6w  bv2nCi5Qv5vroFiqKGopiw  s2I_Ni76bjJNK9yG60iD-Q   \n",
       "\n",
       "   star_individual        date  \\\n",
       "0                5  2016-05-28   \n",
       "1                5  2016-05-28   \n",
       "2                5  2016-05-28   \n",
       "3                4  2016-05-28   \n",
       "4                4  2016-05-28   \n",
       "\n",
       "                                                text  \\\n",
       "0  Super simple place but amazing nonetheless. It...   \n",
       "1  Small unassuming place that changes their menu...   \n",
       "2  Lester's is located in a beautiful neighborhoo...   \n",
       "3  Love coming here. Yes the place always needs t...   \n",
       "4  Had their chocolate almond croissant and it wa...   \n",
       "\n",
       "                                        cleaned_text  polarity  subjectivity  \\\n",
       "0  super simple place amazing nonetheless serve t...  0.327083      0.605952   \n",
       "1  small unassuming place changes menu cool decor...  0.342857      0.571429   \n",
       "2  lester located beautiful neighborhood 1951 kno...  0.425000      0.525000   \n",
       "3  love coming yes place needs floor swept peanut...  0.070000      0.495385   \n",
       "4  chocolate almond croissant amazing light butte...  0.500000      0.700000   \n",
       "\n",
       "   review_length  negative  neutral  positive  compound_score  \\\n",
       "0             15     0.000    0.445     0.555          0.9287   \n",
       "1             41     0.000    0.802     0.198          0.8542   \n",
       "2             24     0.000    0.855     0.145          0.5994   \n",
       "3             44     0.053    0.716     0.231          0.8658   \n",
       "4             17     0.000    0.667     0.333          0.8176   \n",
       "\n",
       "                     name  review_count  is_open  business_stars  num_checkins  \n",
       "0              Wilensky's            84        1             4.0         119.0  \n",
       "1               Tuck Shop            50        1             4.5          62.0  \n",
       "2           Lester's Deli            70        1             4.0          72.0  \n",
       "3               Five Guys            61        1             3.5          89.0  \n",
       "4  Maison Christian Faure           397        1             4.5         755.0  "
      ]
     },
     "execution_count": 3,
     "metadata": {},
     "output_type": "execute_result"
    }
   ],
   "source": [
    "df.head()"
   ]
  },
  {
   "cell_type": "code",
   "execution_count": 4,
   "metadata": {
    "ExecuteTime": {
     "end_time": "2019-12-03T01:04:40.806545Z",
     "start_time": "2019-12-03T01:04:39.451345Z"
    }
   },
   "outputs": [
    {
     "data": {
      "image/png": "[encoded data removed]",
      "text/plain": [
       "<Figure size 432x288 with 2 Axes>"
      ]
     },
     "metadata": {
      "needs_background": "light"
     },
     "output_type": "display_data"
    },
    {
     "data": {
      "text/html": [
       "<div>\n",
       "<style scoped>\n",
       "    .dataframe tbody tr th:only-of-type {\n",
       "        vertical-align: middle;\n",
       "    }\n",
       "\n",
       "    .dataframe tbody tr th {\n",
       "        vertical-align: top;\n",
       "    }\n",
       "\n",
       "    .dataframe thead th {\n",
       "        text-align: right;\n",
       "    }\n",
       "</style>\n",
       "<table border=\"1\" class=\"dataframe\">\n",
       "  <thead>\n",
       "    <tr style=\"text-align: right;\">\n",
       "      <th></th>\n",
       "      <th>polarity</th>\n",
       "      <th>subjectivity</th>\n",
       "      <th>review_length</th>\n",
       "      <th>negative</th>\n",
       "      <th>neutral</th>\n",
       "      <th>positive</th>\n",
       "      <th>compound_score</th>\n",
       "      <th>review_count</th>\n",
       "      <th>num_checkins</th>\n",
       "    </tr>\n",
       "  </thead>\n",
       "  <tbody>\n",
       "    <tr>\n",
       "      <td>polarity</td>\n",
       "      <td>1.000000</td>\n",
       "      <td>0.245347</td>\n",
       "      <td>-0.188277</td>\n",
       "      <td>-0.613318</td>\n",
       "      <td>-0.460344</td>\n",
       "      <td>0.715677</td>\n",
       "      <td>0.637224</td>\n",
       "      <td>0.055156</td>\n",
       "      <td>0.044022</td>\n",
       "    </tr>\n",
       "    <tr>\n",
       "      <td>subjectivity</td>\n",
       "      <td>0.245347</td>\n",
       "      <td>1.000000</td>\n",
       "      <td>-0.124951</td>\n",
       "      <td>-0.010044</td>\n",
       "      <td>-0.381878</td>\n",
       "      <td>0.334163</td>\n",
       "      <td>0.135592</td>\n",
       "      <td>0.017107</td>\n",
       "      <td>0.007665</td>\n",
       "    </tr>\n",
       "    <tr>\n",
       "      <td>review_length</td>\n",
       "      <td>-0.188277</td>\n",
       "      <td>-0.124951</td>\n",
       "      <td>1.000000</td>\n",
       "      <td>0.028958</td>\n",
       "      <td>0.312269</td>\n",
       "      <td>-0.284045</td>\n",
       "      <td>0.111392</td>\n",
       "      <td>0.025378</td>\n",
       "      <td>0.010345</td>\n",
       "    </tr>\n",
       "    <tr>\n",
       "      <td>negative</td>\n",
       "      <td>-0.613318</td>\n",
       "      <td>-0.010044</td>\n",
       "      <td>0.028958</td>\n",
       "      <td>1.000000</td>\n",
       "      <td>-0.014208</td>\n",
       "      <td>-0.508120</td>\n",
       "      <td>-0.733804</td>\n",
       "      <td>-0.023117</td>\n",
       "      <td>-0.014925</td>\n",
       "    </tr>\n",
       "    <tr>\n",
       "      <td>neutral</td>\n",
       "      <td>-0.460344</td>\n",
       "      <td>-0.381878</td>\n",
       "      <td>0.312269</td>\n",
       "      <td>-0.014208</td>\n",
       "      <td>1.000000</td>\n",
       "      <td>-0.853977</td>\n",
       "      <td>-0.304740</td>\n",
       "      <td>-0.026670</td>\n",
       "      <td>-0.027011</td>\n",
       "    </tr>\n",
       "    <tr>\n",
       "      <td>positive</td>\n",
       "      <td>0.715677</td>\n",
       "      <td>0.334163</td>\n",
       "      <td>-0.284045</td>\n",
       "      <td>-0.508120</td>\n",
       "      <td>-0.853977</td>\n",
       "      <td>1.000000</td>\n",
       "      <td>0.644340</td>\n",
       "      <td>0.035005</td>\n",
       "      <td>0.031035</td>\n",
       "    </tr>\n",
       "    <tr>\n",
       "      <td>compound_score</td>\n",
       "      <td>0.637224</td>\n",
       "      <td>0.135592</td>\n",
       "      <td>0.111392</td>\n",
       "      <td>-0.733804</td>\n",
       "      <td>-0.304740</td>\n",
       "      <td>0.644340</td>\n",
       "      <td>1.000000</td>\n",
       "      <td>0.054417</td>\n",
       "      <td>0.040125</td>\n",
       "    </tr>\n",
       "    <tr>\n",
       "      <td>review_count</td>\n",
       "      <td>0.055156</td>\n",
       "      <td>0.017107</td>\n",
       "      <td>0.025378</td>\n",
       "      <td>-0.023117</td>\n",
       "      <td>-0.026670</td>\n",
       "      <td>0.035005</td>\n",
       "      <td>0.054417</td>\n",
       "      <td>1.000000</td>\n",
       "      <td>0.886773</td>\n",
       "    </tr>\n",
       "    <tr>\n",
       "      <td>num_checkins</td>\n",
       "      <td>0.044022</td>\n",
       "      <td>0.007665</td>\n",
       "      <td>0.010345</td>\n",
       "      <td>-0.014925</td>\n",
       "      <td>-0.027011</td>\n",
       "      <td>0.031035</td>\n",
       "      <td>0.040125</td>\n",
       "      <td>0.886773</td>\n",
       "      <td>1.000000</td>\n",
       "    </tr>\n",
       "  </tbody>\n",
       "</table>\n",
       "</div>"
      ],
      "text/plain": [
       "                polarity  subjectivity  review_length  negative   neutral  \\\n",
       "polarity        1.000000      0.245347      -0.188277 -0.613318 -0.460344   \n",
       "subjectivity    0.245347      1.000000      -0.124951 -0.010044 -0.381878   \n",
       "review_length  -0.188277     -0.124951       1.000000  0.028958  0.312269   \n",
       "negative       -0.613318     -0.010044       0.028958  1.000000 -0.014208   \n",
       "neutral        -0.460344     -0.381878       0.312269 -0.014208  1.000000   \n",
       "positive        0.715677      0.334163      -0.284045 -0.508120 -0.853977   \n",
       "compound_score  0.637224      0.135592       0.111392 -0.733804 -0.304740   \n",
       "review_count    0.055156      0.017107       0.025378 -0.023117 -0.026670   \n",
       "num_checkins    0.044022      0.007665       0.010345 -0.014925 -0.027011   \n",
       "\n",
       "                positive  compound_score  review_count  num_checkins  \n",
       "polarity        0.715677        0.637224      0.055156      0.044022  \n",
       "subjectivity    0.334163        0.135592      0.017107      0.007665  \n",
       "review_length  -0.284045        0.111392      0.025378      0.010345  \n",
       "negative       -0.508120       -0.733804     -0.023117     -0.014925  \n",
       "neutral        -0.853977       -0.304740     -0.026670     -0.027011  \n",
       "positive        1.000000        0.644340      0.035005      0.031035  \n",
       "compound_score  0.644340        1.000000      0.054417      0.040125  \n",
       "review_count    0.035005        0.054417      1.000000      0.886773  \n",
       "num_checkins    0.031035        0.040125      0.886773      1.000000  "
      ]
     },
     "execution_count": 4,
     "metadata": {},
     "output_type": "execute_result"
    }
   ],
   "source": [
    "# check on coorelations\n",
    "\n",
    "df_subset =df[['polarity','subjectivity','review_length','negative','neutral','positive', 'compound_score','review_count',\n",
    "              'num_checkins']]\n",
    "\n",
    "df_subset_corr = df_subset.corr()\n",
    "\n",
    "#visulize correlation matrix in heatmap\n",
    "plt.figure()\n",
    "sns.heatmap(df_subset_corr, vmin=-1, vmax=1, cmap='PiYG_r')\n",
    "plt.show()\n",
    "\n",
    "\n",
    "df_subset_corr"
   ]
  },
  {
   "cell_type": "markdown",
   "metadata": {},
   "source": [
    "# Modling - Predict business_stars\n",
    "\n",
    "1. Setting up X and y. Two different y. y1 = business_stars, y2=is_open\n",
    "2. Train test split"
   ]
  },
  {
   "cell_type": "code",
   "execution_count": 6,
   "metadata": {
    "ExecuteTime": {
     "end_time": "2019-12-03T01:05:34.222086Z",
     "start_time": "2019-12-03T01:05:34.217850Z"
    }
   },
   "outputs": [
    {
     "data": {
      "text/plain": [
       "Index(['review_id', 'user_id', 'business_id', 'star_individual', 'date',\n",
       "       'text', 'cleaned_text', 'polarity', 'subjectivity', 'review_length',\n",
       "       'negative', 'neutral', 'positive', 'compound_score', 'name',\n",
       "       'review_count', 'is_open', 'business_stars', 'num_checkins'],\n",
       "      dtype='object')"
      ]
     },
     "execution_count": 6,
     "metadata": {},
     "output_type": "execute_result"
    }
   ],
   "source": [
    "df.columns"
   ]
  },
  {
   "cell_type": "code",
   "execution_count": null,
   "metadata": {},
   "outputs": [],
   "source": [
    "# Setting up X and y1  - Using sentiment and other numeric data to get business_stars\n",
    "# y2 is whether the business is still open\n",
    "# X1 all numeric data. X combine cleaned_text with numeric data, X2 cleaned_text only\n",
    "\n",
    "X = df[['cleaned_text','polarity', 'subjectivity', 'review_length', \\\n",
    "       'negative', 'neutral', 'positive', 'compound_score','review_count','num_checkins']]\n",
    "\n",
    "X1 = df[['polarity', 'subjectivity', 'review_length', \\\n",
    "       'negative', 'neutral', 'positive', 'compound_score','review_count','num_checkins']]\n",
    "\n",
    "X2 = df[['cleaned_text']]\n",
    "\n",
    "y1 = df['business_stars']\n",
    "\n",
    "y2 = df['is_open']"
   ]
  }
 ],
 "metadata": {
  "kernelspec": {
   "display_name": "Python 3",
   "language": "python",
   "name": "python3"
  },
  "language_info": {
   "codemirror_mode": {
    "name": "ipython",
    "version": 3
   },
   "file_extension": ".py",
   "mimetype": "text/x-python",
   "name": "python",
   "nbconvert_exporter": "python",
   "pygments_lexer": "ipython3",
   "version": "3.7.4"
  },
  "toc": {
   "base_numbering": 1,
   "nav_menu": {},
   "number_sections": true,
   "sideBar": true,
   "skip_h1_title": false,
   "title_cell": "Table of Contents",
   "title_sidebar": "Contents",
   "toc_cell": false,
   "toc_position": {
    "height": "calc(100% - 180px)",
    "left": "10px",
    "top": "150px",
    "width": "318.875px"
   },
   "toc_section_display": true,
   "toc_window_display": true
  },
  "varInspector": {
   "cols": {
    "lenName": 16,
    "lenType": 16,
    "lenVar": 40
   },
   "kernels_config": {
    "python": {
     "delete_cmd_postfix": "",
     "delete_cmd_prefix": "del ",
     "library": "var_list.py",
     "varRefreshCmd": "print(var_dic_list())"
    },
    "r": {
     "delete_cmd_postfix": ") ",
     "delete_cmd_prefix": "rm(",
     "library": "var_list.r",
     "varRefreshCmd": "cat(var_dic_list()) "
    }
   },
   "types_to_exclude": [
    "module",
    "function",
    "builtin_function_or_method",
    "instance",
    "_Feature"
   ],
   "window_display": false
  }
 },
 "nbformat": 4,
 "nbformat_minor": 2
}
